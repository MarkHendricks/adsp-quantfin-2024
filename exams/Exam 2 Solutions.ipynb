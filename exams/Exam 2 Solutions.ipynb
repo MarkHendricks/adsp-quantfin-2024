{
 "cells": [
  {
   "cell_type": "markdown",
   "metadata": {},
   "source": [
    "# <span style=\"color:red\">Solutions to Exam 2<span>\n",
    "\n",
    "## Financial Analytics\n",
    "\n",
    "### UChicago ADSP\n",
    "\n",
    "#### Spring 2024\n",
    "* Mark Hendricks\n",
    "* hendricks@uchicago.edu"
   ]
  },
  {
   "cell_type": "markdown",
   "metadata": {},
   "source": [
    "***"
   ]
  },
  {
   "cell_type": "markdown",
   "metadata": {},
   "source": [
    "# Instructions"
   ]
  },
  {
   "cell_type": "markdown",
   "metadata": {},
   "source": [
    "## Please note the following:\n",
    "\n",
    "Time\n",
    "* You have 90 minutes to complete the exam.\n",
    "* For every minute late you submit the exam, you will lose one point.\n",
    "\n",
    "Submission\n",
    "* You will upload your solution to the Exam \"assignment\" on Canvas.\n",
    "* Your submission should be readable, (the graders can understand your answers,) and it should include all code used in your analysis in a file format that the code can be executed. (ie. .ipynb preferred, .pdf is unacceptable.)\n",
    "\n",
    "Rules\n",
    "* The exam is open-material, closed-communication.\n",
    "* You do not need to cite material from the course github repo--you are welcome to use the code posted there without citation, (only for this exam.)\n",
    "\n",
    "Advice\n",
    "* If you find any question to be unclear, state your interpretation and proceed. We will only answer questions of interpretation if there is a typo, error, etc.\n",
    "* The exam will be graded for partial credit."
   ]
  },
  {
   "cell_type": "markdown",
   "metadata": {},
   "source": [
    "## Data\n",
    "\n",
    "**All data files are found in the class github repo, in the `data` folder.**\n",
    "\n",
    "This exam makes use of the following data files:\n",
    "\n",
    "#### Section 2\n",
    "* New file: `data/option_data_AAPL.xlsx`\n",
    "* New file: `data/exam_2_btc_futures.xlsx`"
   ]
  },
  {
   "cell_type": "markdown",
   "metadata": {},
   "source": [
    "## Scoring\n",
    "\n",
    "| Problem | Points |\n",
    "|---------|--------|\n",
    "| 1       | 35     |\n",
    "| 2       | 30     |\n",
    "| 3       | 20     |\n",
    "| **Total**   | **85**|"
   ]
  },
  {
   "cell_type": "markdown",
   "metadata": {},
   "source": [
    "### Each numbered question is worth 5 points unless otherwise specified."
   ]
  },
  {
   "cell_type": "markdown",
   "metadata": {},
   "source": [
    "***"
   ]
  },
  {
   "cell_type": "markdown",
   "metadata": {},
   "source": [
    "# 1 Equity Options\n",
    "\n",
    "Use the data in `data/option_data_AAPL.xlsx`.\n",
    "\n",
    "Where needed, use the options prices reported in `lastPrice`, (rather than `bid` or `ask`.)"
   ]
  },
  {
   "cell_type": "markdown",
   "metadata": {},
   "source": [
    "### 1.1\n",
    "Consider the `AAPL` options expiring on `2024-05-17`, and $\\tau$, can be rounded to be exactly `10/252` years.\n",
    "* Compare $c-p$ to $S-K$ and $S-K^*$.\n",
    "\n",
    "Answer the following\n",
    "* What model or logic implies that these calculations are related? \n",
    "* What would change about this comparison if we assumed `AAPL` pays a dividend tomorrow?\n",
    "\n",
    "(Going forward, assume `AAPL` does not pay a dividend within the timeframe we are considering.)"
   ]
  },
  {
   "cell_type": "markdown",
   "metadata": {},
   "source": [
    "### 1.2\n",
    "Assume that options are American and will be exercised immediately.\n",
    "\n",
    "* Is the call-put spread priced too high or too low?\n",
    "\n",
    "* How you could trade the difference. Be specific."
   ]
  },
  {
   "cell_type": "markdown",
   "metadata": {},
   "source": [
    "### 1.3\n",
    "\n",
    "Chart the strike (horizontal axis) against the implied volatility (vertical axis) as indicated by the `2024-05-17` options reported in `call chain` and `put chain`.\n",
    "\n",
    "What should we understand from the shape of this graph about...\n",
    "\n",
    "* the Black-Scholes model?\n",
    "* investor preferences?"
   ]
  },
  {
   "cell_type": "markdown",
   "metadata": {},
   "source": [
    "### 1.4\n",
    "\n",
    "Calculate the implied volatility of the `2024-05-17` calls struck at `180`. \n",
    "\n",
    "Should this implied volatility match the historic volatility of the stock? Why or why not?"
   ]
  },
  {
   "cell_type": "markdown",
   "metadata": {},
   "source": [
    "### 1.5\n",
    "\n",
    "For the `2024-05-17` put struck at `180`, report the following:\n",
    "* delta\n",
    "* gamma\n",
    "* theta "
   ]
  },
  {
   "cell_type": "markdown",
   "metadata": {},
   "source": [
    "### 1.6\n",
    "Suppose you **are short** options expiring `2024-05-17`...\n",
    "* 3 puts struck at `170`\n",
    "* 3 calls struck at `190`\n",
    "\n",
    "Plot the price of `AAPL` versus the final NET payoff (or cost) of these options. \n",
    "* The net payoff will subtract the cost of buying the options.\n",
    "\n",
    "Someone holding this position is hoping for what kind of `AAPL` movement?"
   ]
  },
  {
   "cell_type": "markdown",
   "metadata": {},
   "source": [
    "### 1.7"
   ]
  },
  {
   "cell_type": "markdown",
   "metadata": {},
   "source": [
    "Suppose you go long an `AAPL` call while also shorting $N$ shares of `AAPL` stock, where $N$ equals the delta of the call option.\n",
    "\n",
    "Explain what is meant by the \"gamma\" of this position."
   ]
  },
  {
   "cell_type": "markdown",
   "metadata": {},
   "source": [
    "***"
   ]
  },
  {
   "cell_type": "markdown",
   "metadata": {},
   "source": [
    "# <span style=\"color:red\">Solutions</span>"
   ]
  },
  {
   "cell_type": "code",
   "execution_count": 1,
   "metadata": {},
   "outputs": [],
   "source": [
    "import pandas as pd\n",
    "import numpy as np\n",
    "import datetime\n",
    "import warnings\n",
    "\n",
    "import matplotlib.pyplot as plt\n",
    "import seaborn as sns\n",
    "%matplotlib inline\n",
    "plt.rcParams['figure.figsize'] = (12,6)\n",
    "plt.rcParams['font.size'] = 15\n",
    "plt.rcParams['legend.fontsize'] = 13\n",
    "\n",
    "from matplotlib.ticker import (MultipleLocator,\n",
    "                               FormatStrFormatter,\n",
    "                               AutoMinorLocator)\n",
    "import sys\n",
    "sys.path.insert(0, '../cmds')\n",
    "from options import *\n",
    "from portfolio import maximumDrawdown"
   ]
  },
  {
   "cell_type": "markdown",
   "metadata": {},
   "source": [
    "## <span style=\"color:red\">Load Data</span>"
   ]
  },
  {
   "cell_type": "code",
   "execution_count": 2,
   "metadata": {},
   "outputs": [
    {
     "data": {
      "text/html": [
       "<div>\n",
       "<style scoped>\n",
       "    .dataframe tbody tr th:only-of-type {\n",
       "        vertical-align: middle;\n",
       "    }\n",
       "\n",
       "    .dataframe tbody tr th {\n",
       "        vertical-align: top;\n",
       "    }\n",
       "\n",
       "    .dataframe thead th {\n",
       "        text-align: right;\n",
       "    }\n",
       "</style>\n",
       "<table border=\"1\" class=\"dataframe\">\n",
       "  <thead>\n",
       "    <tr style=\"text-align: right;\">\n",
       "      <th></th>\n",
       "      <th>data</th>\n",
       "    </tr>\n",
       "    <tr>\n",
       "      <th></th>\n",
       "      <th></th>\n",
       "    </tr>\n",
       "  </thead>\n",
       "  <tbody>\n",
       "    <tr>\n",
       "      <th>ticker</th>\n",
       "      <td>AAPL</td>\n",
       "    </tr>\n",
       "    <tr>\n",
       "      <th>equity price</th>\n",
       "      <td>181.710007</td>\n",
       "    </tr>\n",
       "    <tr>\n",
       "      <th>Tbill</th>\n",
       "      <td>0.0531</td>\n",
       "    </tr>\n",
       "    <tr>\n",
       "      <th>date</th>\n",
       "      <td>2024-05-06</td>\n",
       "    </tr>\n",
       "    <tr>\n",
       "      <th>option expiration</th>\n",
       "      <td>2024-05-17</td>\n",
       "    </tr>\n",
       "  </tbody>\n",
       "</table>\n",
       "</div>"
      ],
      "text/plain": [
       "                         data\n",
       "                             \n",
       "ticker                   AAPL\n",
       "equity price       181.710007\n",
       "Tbill                  0.0531\n",
       "date               2024-05-06\n",
       "option expiration  2024-05-17"
      ]
     },
     "execution_count": 2,
     "metadata": {},
     "output_type": "execute_result"
    }
   ],
   "source": [
    "LOADFILE = '../data/option_data_AAPL.xlsx'\n",
    "\n",
    "SHEET = 'market data'\n",
    "\n",
    "mkt = pd.read_excel(LOADFILE,sheet_name=SHEET)\n",
    "mkt = mkt.rename(columns={'Unnamed: 0':''}).set_index('')\n",
    "mkt"
   ]
  },
  {
   "cell_type": "code",
   "execution_count": 3,
   "metadata": {},
   "outputs": [],
   "source": [
    "SHEET = 'call chain'\n",
    "calls = pd.read_excel(LOADFILE,sheet_name=SHEET).set_index('contractSymbol')\n",
    "\n",
    "SHEET = 'put chain'\n",
    "puts = pd.read_excel(LOADFILE,sheet_name=SHEET).set_index('contractSymbol')\n",
    "\n",
    "SHEET = 'expirations'\n",
    "expirations = pd.read_excel(LOADFILE,sheet_name=SHEET).set_index('expirations')"
   ]
  },
  {
   "cell_type": "code",
   "execution_count": 4,
   "metadata": {},
   "outputs": [],
   "source": [
    "PRICEFLD = 'lastPrice'"
   ]
  },
  {
   "cell_type": "markdown",
   "metadata": {},
   "source": [
    "## <span style=\"color:red\">Solution 1</span>"
   ]
  },
  {
   "cell_type": "markdown",
   "metadata": {},
   "source": [
    "### <span style=\"color:red\">1.1</span>"
   ]
  },
  {
   "cell_type": "code",
   "execution_count": 5,
   "metadata": {},
   "outputs": [],
   "source": [
    "STRIKE = 180"
   ]
  },
  {
   "cell_type": "code",
   "execution_count": 6,
   "metadata": {},
   "outputs": [],
   "source": [
    "idCall = calls['strike']==STRIKE\n",
    "c = calls[idCall][PRICEFLD].values[0]\n",
    "\n",
    "idPut = puts['strike']==STRIKE\n",
    "p = puts[idPut][PRICEFLD].values[0]\n",
    "\n",
    "S = mkt.loc['equity price','data']\n",
    "r = mkt.loc['Tbill','data']\n",
    "\n",
    "# if want to calculate it programatically, here it is\n",
    "t = mkt.loc['date','data']\n",
    "T = mkt.loc['option expiration','data']\n",
    "DAYSYEAR = 365.25\n",
    "days_to_exp = (datetime.datetime.strptime(T,'%Y-%m-%d') - datetime.datetime.strptime(t,'%Y-%m-%d')).days\n",
    "tau = days_to_exp / DAYSYEAR\n",
    "\n",
    "# set tau according to instruction\n",
    "tau = 10/252"
   ]
  },
  {
   "cell_type": "code",
   "execution_count": 7,
   "metadata": {},
   "outputs": [
    {
     "data": {
      "text/html": [
       "<style type=\"text/css\">\n",
       "</style>\n",
       "<table id=\"T_14cfe\">\n",
       "  <thead>\n",
       "    <tr>\n",
       "      <th class=\"blank level0\" >&nbsp;</th>\n",
       "      <th id=\"T_14cfe_level0_col0\" class=\"col_heading level0 col0\" ></th>\n",
       "    </tr>\n",
       "  </thead>\n",
       "  <tbody>\n",
       "    <tr>\n",
       "      <th id=\"T_14cfe_level0_row0\" class=\"row_heading level0 row0\" >c-p</th>\n",
       "      <td id=\"T_14cfe_row0_col0\" class=\"data row0 col0\" >$1.7600</td>\n",
       "    </tr>\n",
       "    <tr>\n",
       "      <th id=\"T_14cfe_level0_row1\" class=\"row_heading level0 row1\" >S-K</th>\n",
       "      <td id=\"T_14cfe_row1_col0\" class=\"data row1 col0\" >$1.7100</td>\n",
       "    </tr>\n",
       "    <tr>\n",
       "      <th id=\"T_14cfe_level0_row2\" class=\"row_heading level0 row2\" >S-K*</th>\n",
       "      <td id=\"T_14cfe_row2_col0\" class=\"data row2 col0\" >$2.0889</td>\n",
       "    </tr>\n",
       "  </tbody>\n",
       "</table>\n"
      ],
      "text/plain": [
       "<pandas.io.formats.style.Styler at 0x3368ed970>"
      ]
     },
     "execution_count": 7,
     "metadata": {},
     "output_type": "execute_result"
    }
   ],
   "source": [
    "putcall = pd.DataFrame([c-p, S-STRIKE, S - STRIKE * np.exp(-r*tau)],index=['c-p','S-K','S-K*'],columns=[''])\n",
    "putcall.style.format('${:.4f}')"
   ]
  },
  {
   "cell_type": "markdown",
   "metadata": {},
   "source": [
    "where $K^*$ denotes $Ke^{-r\\tau}$.\n",
    "\n",
    "* This relationship is based on the logic that we can replicate the stock with a call, put, and cash. This is known as **put-call parity** which is a no-arbitrage condition. \n",
    "\n",
    "* The replicated position (using $c-p$) will not pay a dividend and will thus have lower value than $S-K$."
   ]
  },
  {
   "cell_type": "markdown",
   "metadata": {},
   "source": [
    "### <span style=\"color:red\">1.2</span>"
   ]
  },
  {
   "cell_type": "markdown",
   "metadata": {},
   "source": [
    "We see that the call-put spread is **bigger** than the share-strike spread, $S-K$.\n",
    "\n",
    "(Recall that we are assuming immediate exercise and comparing to $K$ rather than $K^*$.\n",
    "\n",
    "Thus, we would want to go \n",
    "* short the call-minus-put\n",
    "* long the stock-minus-cash\n",
    "\n",
    "In other words...\n",
    "* short call plus long put short cash equal to present value of strike price\n",
    "* long the share of stock\n",
    "\n",
    "Then\n",
    "* replicated the (short) share of stock for a price of $-c+p-+K$\n",
    "* long a share $S$\n",
    "\n",
    "At expiration,\n",
    "* replicated position exactly matches $S$ no matter what happens to $S$.\n",
    "* total profit is $(c-p+K) - S = c-p - (S-K)$"
   ]
  },
  {
   "cell_type": "code",
   "execution_count": 8,
   "metadata": {},
   "outputs": [
    {
     "data": {
      "text/html": [
       "<style type=\"text/css\">\n",
       "</style>\n",
       "<table id=\"T_57507\">\n",
       "  <thead>\n",
       "    <tr>\n",
       "      <th class=\"blank level0\" >&nbsp;</th>\n",
       "      <th id=\"T_57507_level0_col0\" class=\"col_heading level0 col0\" >pnl</th>\n",
       "    </tr>\n",
       "  </thead>\n",
       "  <tbody>\n",
       "    <tr>\n",
       "      <th id=\"T_57507_level0_row0\" class=\"row_heading level0 row0\" ></th>\n",
       "      <td id=\"T_57507_row0_col0\" class=\"data row0 col0\" >$0.05</td>\n",
       "    </tr>\n",
       "  </tbody>\n",
       "</table>\n"
      ],
      "text/plain": [
       "<pandas.io.formats.style.Styler at 0x3368efe50>"
      ]
     },
     "execution_count": 8,
     "metadata": {},
     "output_type": "execute_result"
    }
   ],
   "source": [
    "profit = (putcall.loc['c-p'] - putcall.loc['S-K']).to_frame().rename(columns={0:'pnl'})\n",
    "profit.style.format('${:.2f}')"
   ]
  },
  {
   "cell_type": "markdown",
   "metadata": {},
   "source": [
    "### <span style=\"color:red\">1.3</span>"
   ]
  },
  {
   "cell_type": "code",
   "execution_count": 9,
   "metadata": {},
   "outputs": [
    {
     "data": {
      "image/png": "[encoded data removed]",
      "text/plain": [
       "<Figure size 1200x600 with 1 Axes>"
      ]
     },
     "metadata": {},
     "output_type": "display_data"
    }
   ],
   "source": [
    "plt.scatter(calls['strike'],calls['impliedVolatility'],label='calls')\n",
    "plt.scatter(puts['strike'],puts['impliedVolatility'],label='puts')\n",
    "plt.axvline(x=S, color='black', linestyle='--', label='ATM')\n",
    "plt.xlabel('strike')\n",
    "plt.ylabel('implied vol')\n",
    "plt.legend()\n",
    "plt.show()"
   ]
  },
  {
   "cell_type": "markdown",
   "metadata": {},
   "source": [
    "The chart of the so-called \"volatility smile\" indicates that...\n",
    "* Black-Scholes doesn't hold perfectly, as it assumes one vol (strictly across all strikes or at least the same vol at a strike for puts and calls)\n",
    "* investors prefer options that pay off in the tails as exhibited by their higher implied vols deeply in or out of the money. "
   ]
  },
  {
   "cell_type": "markdown",
   "metadata": {},
   "source": [
    "### <span style=\"color:red\">1.4</span>"
   ]
  },
  {
   "cell_type": "code",
   "execution_count": 10,
   "metadata": {},
   "outputs": [
    {
     "data": {
      "text/html": [
       "<style type=\"text/css\">\n",
       "</style>\n",
       "<table id=\"T_d457e\">\n",
       "  <thead>\n",
       "    <tr>\n",
       "      <th class=\"blank level0\" >&nbsp;</th>\n",
       "      <th id=\"T_d457e_level0_col0\" class=\"col_heading level0 col0\" >implied volatility</th>\n",
       "    </tr>\n",
       "  </thead>\n",
       "  <tbody>\n",
       "    <tr>\n",
       "      <th id=\"T_d457e_level0_row0\" class=\"row_heading level0 row0\" >quote</th>\n",
       "      <td id=\"T_d457e_row0_col0\" class=\"data row0 col0\" >20.31%</td>\n",
       "    </tr>\n",
       "    <tr>\n",
       "      <th id=\"T_d457e_level0_row1\" class=\"row_heading level0 row1\" >estimated</th>\n",
       "      <td id=\"T_d457e_row1_col0\" class=\"data row1 col0\" >16.44%</td>\n",
       "    </tr>\n",
       "  </tbody>\n",
       "</table>\n"
      ],
      "text/plain": [
       "<pandas.io.formats.style.Styler at 0x33708b970>"
      ]
     },
     "execution_count": 10,
     "metadata": {},
     "output_type": "execute_result"
    }
   ],
   "source": [
    "ivol_quote = calls[idCall]['impliedVolatility'].values[0]\n",
    "ivol_calc = bs_impvol(S,STRIKE,tau,r,option='call',opt_price=c)[0]\n",
    "pd.DataFrame([ivol_quote,ivol_calc],index=['quote','estimated'],columns=['implied volatility']).style.format('{:.2%}')"
   ]
  },
  {
   "cell_type": "markdown",
   "metadata": {},
   "source": [
    "No, the implied vol will not match the historic vol. Implied vol is a measure that looks ahead at vol over the remaining life of the option, not looking back at the historic vol. \n",
    "\n",
    "Furthermore, as discussed, the implied vol is distorted by investor risk aversion and preferences."
   ]
  },
  {
   "cell_type": "markdown",
   "metadata": {},
   "source": [
    "### <span style=\"color:red\">1.5</span>"
   ]
  },
  {
   "cell_type": "markdown",
   "metadata": {},
   "source": [
    "Calculating the greeks requires using the implied volatility of the option.\n",
    "\n",
    "As we saw in the previous problem, there is a difference between the quoted and calculated implied volatilities.\n",
    "\n",
    "**Feel free to use either, as the question did not specify.**"
   ]
  },
  {
   "cell_type": "code",
   "execution_count": 11,
   "metadata": {},
   "outputs": [
    {
     "data": {
      "text/html": [
       "<style type=\"text/css\">\n",
       "</style>\n",
       "<table id=\"T_a23da\">\n",
       "  <thead>\n",
       "    <tr>\n",
       "      <th class=\"blank level0\" >&nbsp;</th>\n",
       "      <th id=\"T_a23da_level0_col0\" class=\"col_heading level0 col0\" >quoted ivol</th>\n",
       "      <th id=\"T_a23da_level0_col1\" class=\"col_heading level0 col1\" >estimated ivol</th>\n",
       "    </tr>\n",
       "  </thead>\n",
       "  <tbody>\n",
       "    <tr>\n",
       "      <th id=\"T_a23da_level0_row0\" class=\"row_heading level0 row0\" >delta</th>\n",
       "      <td id=\"T_a23da_row0_col0\" class=\"data row0 col0\" >0.6202</td>\n",
       "      <td id=\"T_a23da_row0_col1\" class=\"data row0 col1\" >0.6441</td>\n",
       "    </tr>\n",
       "    <tr>\n",
       "      <th id=\"T_a23da_level0_row1\" class=\"row_heading level0 row1\" >gamma</th>\n",
       "      <td id=\"T_a23da_row1_col0\" class=\"data row1 col0\" >0.0518</td>\n",
       "      <td id=\"T_a23da_row1_col1\" class=\"data row1 col1\" >0.0626</td>\n",
       "    </tr>\n",
       "    <tr>\n",
       "      <th id=\"T_a23da_level0_row2\" class=\"row_heading level0 row2\" >theta</th>\n",
       "      <td id=\"T_a23da_row2_col0\" class=\"data row2 col0\" >-41.0379</td>\n",
       "      <td id=\"T_a23da_row2_col1\" class=\"data row2 col1\" >-33.9617</td>\n",
       "    </tr>\n",
       "  </tbody>\n",
       "</table>\n"
      ],
      "text/plain": [
       "<pandas.io.formats.style.Styler at 0x33708bb80>"
      ]
     },
     "execution_count": 11,
     "metadata": {},
     "output_type": "execute_result"
    }
   ],
   "source": [
    "IVOL = ivol_quote\n",
    "\n",
    "greeks = pd.DataFrame([\n",
    "    bs_delta(S,STRIKE,tau,r,IVOL),\n",
    "    bs_gamma(S,STRIKE,tau,r,IVOL),\n",
    "    bs_theta(S,STRIKE,tau,r,IVOL)],\n",
    "    index=['delta','gamma','theta'], columns=['quoted ivol'])\n",
    "\n",
    "IVOL = ivol_calc\n",
    "greeks['estimated ivol'] = [bs_delta(S,STRIKE,tau,r,IVOL),bs_gamma(S,STRIKE,tau,r,IVOL),bs_theta(S,STRIKE,tau,r,IVOL)]\n",
    "\n",
    "greeks.style.format('{:.4f}')"
   ]
  },
  {
   "cell_type": "markdown",
   "metadata": {},
   "source": [
    "### <span style=\"color:red\">1.6</span>"
   ]
  },
  {
   "cell_type": "code",
   "execution_count": 12,
   "metadata": {},
   "outputs": [
    {
     "data": {
      "image/png": "[encoded data removed]",
      "text/plain": [
       "<Figure size 1200x600 with 1 Axes>"
      ]
     },
     "metadata": {},
     "output_type": "display_data"
    }
   ],
   "source": [
    "STRIKE_UP = 190\n",
    "STRIKE_DOWN = 170\n",
    "Nc = -3\n",
    "Np = -3\n",
    "\n",
    "c_up = calls[calls['strike']==STRIKE_UP][PRICEFLD].values[0]\n",
    "p_down = puts[puts['strike']==STRIKE_DOWN][PRICEFLD].values[0]\n",
    "\n",
    "stock_values = range(round(S*4/5), round(S*5/4))\n",
    "\n",
    "df = pd.DataFrame({'S': stock_values})\n",
    "df['gross'] = Nc * np.maximum(df['S']-STRIKE_UP,0) + Np * np.maximum(STRIKE_DOWN-df['S'],0)\n",
    "df['net'] = df['gross'] - Nc * c_up - Np * p_down\n",
    "df = df.set_index('S')\n",
    "\n",
    "ax = df.plot()\n",
    "plt.axvline(x=S, color='black', linestyle='--', label='Stock')\n",
    "plt.show()"
   ]
  },
  {
   "cell_type": "code",
   "execution_count": 13,
   "metadata": {
    "scrolled": true
   },
   "outputs": [
    {
     "data": {
      "text/plain": [
       "'The net payoff if the stock stays between the two strikes is $1.89.'"
      ]
     },
     "metadata": {},
     "output_type": "display_data"
    }
   ],
   "source": [
    "payoff_min = df['net'].max()\n",
    "display(f'The net payoff if the stock stays between the two strikes is ${payoff_min:.2f}.')"
   ]
  },
  {
   "cell_type": "markdown",
   "metadata": {},
   "source": [
    "The strategy is betting on the stock staying inside a narrow range. Otherwise, the strategy could lose big."
   ]
  },
  {
   "cell_type": "markdown",
   "metadata": {},
   "source": [
    "***"
   ]
  },
  {
   "cell_type": "markdown",
   "metadata": {},
   "source": [
    "# 2. Futures Contracts"
   ]
  },
  {
   "cell_type": "markdown",
   "metadata": {},
   "source": [
    "The data in the `price` tab of `exam_2_btc_futures.xlsx` gives a small sample of price data on two different futures contracts.\n",
    "\n",
    "Both contracts are for `BTC`, bitcoin.\n",
    "\n",
    "Consider a strategy of \n",
    "* buying **1** front contract at the end of `2024-04-22`.\n",
    "* rolling it, (still one contract,) at the end of `2024-04-25`.\n",
    "* exiting your position at the end of `2024-04-30`.\n",
    "\n",
    "The contract size is `5`, so even for one contract, the contract price is `5x` the price shown in the series."
   ]
  },
  {
   "cell_type": "markdown",
   "metadata": {},
   "source": [
    "### 2.1\n",
    "\n",
    "Report the \n",
    "* daily profit (loss) throughout the trade.\n",
    "* total profit"
   ]
  },
  {
   "cell_type": "markdown",
   "metadata": {},
   "source": [
    "### 2.2\n",
    "\n",
    "Based on this short sample, (no need to look at further data,) would you conclude that `BTC` is in backwardation or contango? Explain your reasoning."
   ]
  },
  {
   "cell_type": "markdown",
   "metadata": {},
   "source": [
    "### 2.3\n",
    "\n",
    "What economic reasons might explain this backwardation or contango for `BTC`?"
   ]
  },
  {
   "cell_type": "markdown",
   "metadata": {},
   "source": [
    "### 2.4\n",
    "\n",
    "Regardless of your answers above, suppose that today we observe the BTC futures curve in steep contango over the next year. What trade would you suggest putting on to profit from this?"
   ]
  },
  {
   "cell_type": "markdown",
   "metadata": {},
   "source": [
    "### 2.5\n",
    "\n",
    "Suppose that instead you had a **continuous** futures series, (`BTC1`), which reports the price of the front contract on any given day. You naively take the day-over-day difference of this series to calculate a history of profit (loss) to holding bitcoin.\n",
    "\n",
    "Do you suspect it would underreport or overreport the profits of holding bitcoin? Why?"
   ]
  },
  {
   "cell_type": "markdown",
   "metadata": {},
   "source": [
    "### 2.6\n",
    "\n",
    "For futures contracts written on securities (such as Bitcoin or the S&P500) what is a pragmatic reason that traders may prefer trading the future contract of a security rather than the security itself?\n",
    "\n",
    "While many answers may be relevant, focus on the issue most discussed in class."
   ]
  },
  {
   "cell_type": "markdown",
   "metadata": {},
   "source": [
    "***"
   ]
  },
  {
   "cell_type": "markdown",
   "metadata": {},
   "source": [
    "# <span style=\"color:red\">Solution 2</span>"
   ]
  },
  {
   "cell_type": "code",
   "execution_count": 14,
   "metadata": {},
   "outputs": [
    {
     "data": {
      "text/html": [
       "<style type=\"text/css\">\n",
       "</style>\n",
       "<table id=\"T_32fde\">\n",
       "  <thead>\n",
       "    <tr>\n",
       "      <th class=\"blank level0\" >&nbsp;</th>\n",
       "      <th id=\"T_32fde_level0_col0\" class=\"col_heading level0 col0\" >BTCJ4</th>\n",
       "      <th id=\"T_32fde_level0_col1\" class=\"col_heading level0 col1\" >BTCK4</th>\n",
       "    </tr>\n",
       "    <tr>\n",
       "      <th class=\"index_name level0\" >date</th>\n",
       "      <th class=\"blank col0\" >&nbsp;</th>\n",
       "      <th class=\"blank col1\" >&nbsp;</th>\n",
       "    </tr>\n",
       "  </thead>\n",
       "  <tbody>\n",
       "    <tr>\n",
       "      <th id=\"T_32fde_level0_row0\" class=\"row_heading level0 row0\" >2024-04-22</th>\n",
       "      <td id=\"T_32fde_row0_col0\" class=\"data row0 col0\" >66610.00</td>\n",
       "      <td id=\"T_32fde_row0_col1\" class=\"data row0 col1\" >67355.00</td>\n",
       "    </tr>\n",
       "    <tr>\n",
       "      <th id=\"T_32fde_level0_row1\" class=\"row_heading level0 row1\" >2024-04-23</th>\n",
       "      <td id=\"T_32fde_row1_col0\" class=\"data row1 col0\" >66435.00</td>\n",
       "      <td id=\"T_32fde_row1_col1\" class=\"data row1 col1\" >67155.00</td>\n",
       "    </tr>\n",
       "    <tr>\n",
       "      <th id=\"T_32fde_level0_row2\" class=\"row_heading level0 row2\" >2024-04-24</th>\n",
       "      <td id=\"T_32fde_row2_col0\" class=\"data row2 col0\" >63880.00</td>\n",
       "      <td id=\"T_32fde_row2_col1\" class=\"data row2 col1\" >64490.00</td>\n",
       "    </tr>\n",
       "    <tr>\n",
       "      <th id=\"T_32fde_level0_row3\" class=\"row_heading level0 row3\" >2024-04-25</th>\n",
       "      <td id=\"T_32fde_row3_col0\" class=\"data row3 col0\" >64700.00</td>\n",
       "      <td id=\"T_32fde_row3_col1\" class=\"data row3 col1\" >65270.00</td>\n",
       "    </tr>\n",
       "    <tr>\n",
       "      <th id=\"T_32fde_level0_row4\" class=\"row_heading level0 row4\" >2024-04-26</th>\n",
       "      <td id=\"T_32fde_row4_col0\" class=\"data row4 col0\" ></td>\n",
       "      <td id=\"T_32fde_row4_col1\" class=\"data row4 col1\" >64300.00</td>\n",
       "    </tr>\n",
       "    <tr>\n",
       "      <th id=\"T_32fde_level0_row5\" class=\"row_heading level0 row5\" >2024-04-29</th>\n",
       "      <td id=\"T_32fde_row5_col0\" class=\"data row5 col0\" ></td>\n",
       "      <td id=\"T_32fde_row5_col1\" class=\"data row5 col1\" >63450.00</td>\n",
       "    </tr>\n",
       "    <tr>\n",
       "      <th id=\"T_32fde_level0_row6\" class=\"row_heading level0 row6\" >2024-04-30</th>\n",
       "      <td id=\"T_32fde_row6_col0\" class=\"data row6 col0\" ></td>\n",
       "      <td id=\"T_32fde_row6_col1\" class=\"data row6 col1\" >59400.00</td>\n",
       "    </tr>\n",
       "  </tbody>\n",
       "</table>\n"
      ],
      "text/plain": [
       "<pandas.io.formats.style.Styler at 0x3371317c0>"
      ]
     },
     "execution_count": 14,
     "metadata": {},
     "output_type": "execute_result"
    }
   ],
   "source": [
    "FILE = '../data/exam_2_btc_futures.xlsx'\n",
    "SHEET_FUT = 'price'\n",
    "fut = pd.read_excel(FILE,sheet_name=SHEET_FUT).set_index('date')\n",
    "fut.style.format_index(lambda s: s.strftime('%Y-%m-%d')).format('{:.2f}',na_rep='')"
   ]
  },
  {
   "cell_type": "markdown",
   "metadata": {},
   "source": [
    "## <span style=\"color:red\">2.1</span>"
   ]
  },
  {
   "cell_type": "markdown",
   "metadata": {},
   "source": [
    "The intention is that on the day of the contract expiration you\n",
    "* sell out of the expiring contract\n",
    "* buy into the next contract\n",
    "\n",
    "Thus, on Jan 20, you realize a profit on CLG3 and invest into a single contract of CLJ3.\n",
    "* We are not considering the difference between CLG3 and CLJ3 (the roll) as a profit or loss on Jan 20.\n",
    "* Rather, we are considering the pnl as the day-over-day differences on a single contract. The money invested to change contracts is treated here as an additional capital expenditure.\n",
    "\n",
    "And on Jan 21, you realize a profit on CLJ3, as you bought into this contract on Jan 20."
   ]
  },
  {
   "cell_type": "code",
   "execution_count": 15,
   "metadata": {},
   "outputs": [
    {
     "data": {
      "text/html": [
       "<style type=\"text/css\">\n",
       "</style>\n",
       "<table id=\"T_93f78\">\n",
       "  <thead>\n",
       "    <tr>\n",
       "      <th class=\"blank level0\" >&nbsp;</th>\n",
       "      <th id=\"T_93f78_level0_col0\" class=\"col_heading level0 col0\" >BTCJ4</th>\n",
       "      <th id=\"T_93f78_level0_col1\" class=\"col_heading level0 col1\" >BTCK4</th>\n",
       "      <th id=\"T_93f78_level0_col2\" class=\"col_heading level0 col2\" >pnl</th>\n",
       "    </tr>\n",
       "    <tr>\n",
       "      <th class=\"index_name level0\" >date</th>\n",
       "      <th class=\"blank col0\" >&nbsp;</th>\n",
       "      <th class=\"blank col1\" >&nbsp;</th>\n",
       "      <th class=\"blank col2\" >&nbsp;</th>\n",
       "    </tr>\n",
       "  </thead>\n",
       "  <tbody>\n",
       "    <tr>\n",
       "      <th id=\"T_93f78_level0_row0\" class=\"row_heading level0 row0\" >2024-04-22</th>\n",
       "      <td id=\"T_93f78_row0_col0\" class=\"data row0 col0\" >66,610</td>\n",
       "      <td id=\"T_93f78_row0_col1\" class=\"data row0 col1\" >67,355</td>\n",
       "      <td id=\"T_93f78_row0_col2\" class=\"data row0 col2\" ></td>\n",
       "    </tr>\n",
       "    <tr>\n",
       "      <th id=\"T_93f78_level0_row1\" class=\"row_heading level0 row1\" >2024-04-23</th>\n",
       "      <td id=\"T_93f78_row1_col0\" class=\"data row1 col0\" >66,435</td>\n",
       "      <td id=\"T_93f78_row1_col1\" class=\"data row1 col1\" >67,155</td>\n",
       "      <td id=\"T_93f78_row1_col2\" class=\"data row1 col2\" >-175</td>\n",
       "    </tr>\n",
       "    <tr>\n",
       "      <th id=\"T_93f78_level0_row2\" class=\"row_heading level0 row2\" >2024-04-24</th>\n",
       "      <td id=\"T_93f78_row2_col0\" class=\"data row2 col0\" >63,880</td>\n",
       "      <td id=\"T_93f78_row2_col1\" class=\"data row2 col1\" >64,490</td>\n",
       "      <td id=\"T_93f78_row2_col2\" class=\"data row2 col2\" >-2,555</td>\n",
       "    </tr>\n",
       "    <tr>\n",
       "      <th id=\"T_93f78_level0_row3\" class=\"row_heading level0 row3\" >2024-04-25</th>\n",
       "      <td id=\"T_93f78_row3_col0\" class=\"data row3 col0\" >64,700</td>\n",
       "      <td id=\"T_93f78_row3_col1\" class=\"data row3 col1\" >65,270</td>\n",
       "      <td id=\"T_93f78_row3_col2\" class=\"data row3 col2\" >820</td>\n",
       "    </tr>\n",
       "    <tr>\n",
       "      <th id=\"T_93f78_level0_row4\" class=\"row_heading level0 row4\" >2024-04-26</th>\n",
       "      <td id=\"T_93f78_row4_col0\" class=\"data row4 col0\" ></td>\n",
       "      <td id=\"T_93f78_row4_col1\" class=\"data row4 col1\" >64,300</td>\n",
       "      <td id=\"T_93f78_row4_col2\" class=\"data row4 col2\" >-970</td>\n",
       "    </tr>\n",
       "    <tr>\n",
       "      <th id=\"T_93f78_level0_row5\" class=\"row_heading level0 row5\" >2024-04-29</th>\n",
       "      <td id=\"T_93f78_row5_col0\" class=\"data row5 col0\" ></td>\n",
       "      <td id=\"T_93f78_row5_col1\" class=\"data row5 col1\" >63,450</td>\n",
       "      <td id=\"T_93f78_row5_col2\" class=\"data row5 col2\" >-850</td>\n",
       "    </tr>\n",
       "    <tr>\n",
       "      <th id=\"T_93f78_level0_row6\" class=\"row_heading level0 row6\" >2024-04-30</th>\n",
       "      <td id=\"T_93f78_row6_col0\" class=\"data row6 col0\" ></td>\n",
       "      <td id=\"T_93f78_row6_col1\" class=\"data row6 col1\" >59,400</td>\n",
       "      <td id=\"T_93f78_row6_col2\" class=\"data row6 col2\" >-4,050</td>\n",
       "    </tr>\n",
       "  </tbody>\n",
       "</table>\n"
      ],
      "text/plain": [
       "<pandas.io.formats.style.Styler at 0x337132f70>"
      ]
     },
     "execution_count": 15,
     "metadata": {},
     "output_type": "execute_result"
    }
   ],
   "source": [
    "SIZE = 5\n",
    "\n",
    "pnl = fut.diff()\n",
    "contracts = pnl.isna().idxmin(axis=1)\n",
    "\n",
    "stackroll = pd.DataFrame([pnl.loc[dt,contracts.loc[dt]] for dt in pnl.index], index=pnl.index, columns=['pnl'])\n",
    "\n",
    "futpnl = pd.concat([fut,stackroll],axis=1)\n",
    "futpnl.style.format_index(lambda s: s.strftime('%Y-%m-%d')).format('{:,.0f}',na_rep='')"
   ]
  },
  {
   "cell_type": "code",
   "execution_count": 16,
   "metadata": {},
   "outputs": [
    {
     "name": "stdout",
     "output_type": "stream",
     "text": [
      "Total profit, not counting roll, is $-7,780.00.\n"
     ]
    }
   ],
   "source": [
    "rollprofits = stackroll.sum().values[0]\n",
    "print(f'Total profit, not counting roll, is ${rollprofits:,.2f}.')"
   ]
  },
  {
   "cell_type": "markdown",
   "metadata": {},
   "source": [
    "#### <span style=\"color:red\">Alternate</span>\n",
    "\n",
    "If you counted the extra capital needed on `2024-04-25` to roll as a profit/loss instead of reallocation of capital, then your pnl on the roll date would be adjusted by the roll spread.\n",
    "* Though again, we've talked about the fact that this is less of a typical pnl and more of a reallocation of capital from one type of contract to another, similar to moving money out of one stock and into another.\n",
    "\n",
    "Note that in any accounting, it would be wrong to consider the roll up (via contango) as a profit!"
   ]
  },
  {
   "cell_type": "code",
   "execution_count": 17,
   "metadata": {},
   "outputs": [
    {
     "name": "stderr",
     "output_type": "stream",
     "text": [
      "/var/folders/zx/3v_qt0957xzg3nqtnkv007d00000gn/T/ipykernel_82084/2865362328.py:4: FutureWarning: Series.__getitem__ treating keys as positions is deprecated. In a future version, integer keys will always be treated as labels (consistent with DataFrame behavior). To access a value by position, use `ser.iloc[pos]`\n",
      "  stackroll_alt.loc[idx] += -fut.loc[idx].diff()[1]\n"
     ]
    },
    {
     "data": {
      "text/html": [
       "<style type=\"text/css\">\n",
       "</style>\n",
       "<table id=\"T_4dc8c\">\n",
       "  <thead>\n",
       "    <tr>\n",
       "      <th class=\"blank level0\" >&nbsp;</th>\n",
       "      <th id=\"T_4dc8c_level0_col0\" class=\"col_heading level0 col0\" >BTCJ4</th>\n",
       "      <th id=\"T_4dc8c_level0_col1\" class=\"col_heading level0 col1\" >BTCK4</th>\n",
       "      <th id=\"T_4dc8c_level0_col2\" class=\"col_heading level0 col2\" >pnl</th>\n",
       "      <th id=\"T_4dc8c_level0_col3\" class=\"col_heading level0 col3\" >alt pnl</th>\n",
       "    </tr>\n",
       "    <tr>\n",
       "      <th class=\"index_name level0\" >date</th>\n",
       "      <th class=\"blank col0\" >&nbsp;</th>\n",
       "      <th class=\"blank col1\" >&nbsp;</th>\n",
       "      <th class=\"blank col2\" >&nbsp;</th>\n",
       "      <th class=\"blank col3\" >&nbsp;</th>\n",
       "    </tr>\n",
       "  </thead>\n",
       "  <tbody>\n",
       "    <tr>\n",
       "      <th id=\"T_4dc8c_level0_row0\" class=\"row_heading level0 row0\" >2024-04-22</th>\n",
       "      <td id=\"T_4dc8c_row0_col0\" class=\"data row0 col0\" >66,610</td>\n",
       "      <td id=\"T_4dc8c_row0_col1\" class=\"data row0 col1\" >67,355</td>\n",
       "      <td id=\"T_4dc8c_row0_col2\" class=\"data row0 col2\" ></td>\n",
       "      <td id=\"T_4dc8c_row0_col3\" class=\"data row0 col3\" ></td>\n",
       "    </tr>\n",
       "    <tr>\n",
       "      <th id=\"T_4dc8c_level0_row1\" class=\"row_heading level0 row1\" >2024-04-23</th>\n",
       "      <td id=\"T_4dc8c_row1_col0\" class=\"data row1 col0\" >66,435</td>\n",
       "      <td id=\"T_4dc8c_row1_col1\" class=\"data row1 col1\" >67,155</td>\n",
       "      <td id=\"T_4dc8c_row1_col2\" class=\"data row1 col2\" >-175</td>\n",
       "      <td id=\"T_4dc8c_row1_col3\" class=\"data row1 col3\" >-175</td>\n",
       "    </tr>\n",
       "    <tr>\n",
       "      <th id=\"T_4dc8c_level0_row2\" class=\"row_heading level0 row2\" >2024-04-24</th>\n",
       "      <td id=\"T_4dc8c_row2_col0\" class=\"data row2 col0\" >63,880</td>\n",
       "      <td id=\"T_4dc8c_row2_col1\" class=\"data row2 col1\" >64,490</td>\n",
       "      <td id=\"T_4dc8c_row2_col2\" class=\"data row2 col2\" >-2,555</td>\n",
       "      <td id=\"T_4dc8c_row2_col3\" class=\"data row2 col3\" >-2,555</td>\n",
       "    </tr>\n",
       "    <tr>\n",
       "      <th id=\"T_4dc8c_level0_row3\" class=\"row_heading level0 row3\" >2024-04-25</th>\n",
       "      <td id=\"T_4dc8c_row3_col0\" class=\"data row3 col0\" >64,700</td>\n",
       "      <td id=\"T_4dc8c_row3_col1\" class=\"data row3 col1\" >65,270</td>\n",
       "      <td id=\"T_4dc8c_row3_col2\" class=\"data row3 col2\" >820</td>\n",
       "      <td id=\"T_4dc8c_row3_col3\" class=\"data row3 col3\" >250</td>\n",
       "    </tr>\n",
       "    <tr>\n",
       "      <th id=\"T_4dc8c_level0_row4\" class=\"row_heading level0 row4\" >2024-04-26</th>\n",
       "      <td id=\"T_4dc8c_row4_col0\" class=\"data row4 col0\" ></td>\n",
       "      <td id=\"T_4dc8c_row4_col1\" class=\"data row4 col1\" >64,300</td>\n",
       "      <td id=\"T_4dc8c_row4_col2\" class=\"data row4 col2\" >-970</td>\n",
       "      <td id=\"T_4dc8c_row4_col3\" class=\"data row4 col3\" >-970</td>\n",
       "    </tr>\n",
       "    <tr>\n",
       "      <th id=\"T_4dc8c_level0_row5\" class=\"row_heading level0 row5\" >2024-04-29</th>\n",
       "      <td id=\"T_4dc8c_row5_col0\" class=\"data row5 col0\" ></td>\n",
       "      <td id=\"T_4dc8c_row5_col1\" class=\"data row5 col1\" >63,450</td>\n",
       "      <td id=\"T_4dc8c_row5_col2\" class=\"data row5 col2\" >-850</td>\n",
       "      <td id=\"T_4dc8c_row5_col3\" class=\"data row5 col3\" >-850</td>\n",
       "    </tr>\n",
       "    <tr>\n",
       "      <th id=\"T_4dc8c_level0_row6\" class=\"row_heading level0 row6\" >2024-04-30</th>\n",
       "      <td id=\"T_4dc8c_row6_col0\" class=\"data row6 col0\" ></td>\n",
       "      <td id=\"T_4dc8c_row6_col1\" class=\"data row6 col1\" >59,400</td>\n",
       "      <td id=\"T_4dc8c_row6_col2\" class=\"data row6 col2\" >-4,050</td>\n",
       "      <td id=\"T_4dc8c_row6_col3\" class=\"data row6 col3\" >-4,050</td>\n",
       "    </tr>\n",
       "  </tbody>\n",
       "</table>\n"
      ],
      "text/plain": [
       "<pandas.io.formats.style.Styler at 0x3368ed190>"
      ]
     },
     "execution_count": 17,
     "metadata": {},
     "output_type": "execute_result"
    }
   ],
   "source": [
    "stackroll_alt = stackroll.copy()\n",
    "# careful this calculation assumes the problem is rolling a single time, (as in this example)\n",
    "idx = fut.iloc[:,0].last_valid_index()\n",
    "stackroll_alt.loc[idx] += -fut.loc[idx].diff()[1]\n",
    "futpnl['alt pnl'] = stackroll_alt\n",
    "futpnl.style.format_index(lambda s: s.strftime('%Y-%m-%d')).format('{:,.0f}',na_rep='')"
   ]
  },
  {
   "cell_type": "code",
   "execution_count": 18,
   "metadata": {},
   "outputs": [
    {
     "name": "stdout",
     "output_type": "stream",
     "text": [
      "Total profit, yes counting roll, is $-8,350.00.\n"
     ]
    }
   ],
   "source": [
    "rollprofits_alt = stackroll_alt.sum().values[0]\n",
    "print(f'Total profit, yes counting roll, is ${rollprofits_alt:,.2f}.')"
   ]
  },
  {
   "cell_type": "markdown",
   "metadata": {},
   "source": [
    "## <span style=\"color:red\">2.2</span>"
   ]
  },
  {
   "cell_type": "markdown",
   "metadata": {},
   "source": [
    "On every day for which we have data on two contracts, the back contract is `more expensive`. \n",
    "\n",
    "This is evidence of `contango`, which refers to when the long-maturity futures contracts are `more expensive` than the short-maturity contracts."
   ]
  },
  {
   "cell_type": "code",
   "execution_count": 19,
   "metadata": {},
   "outputs": [
    {
     "data": {
      "text/html": [
       "<div>\n",
       "<style scoped>\n",
       "    .dataframe tbody tr th:only-of-type {\n",
       "        vertical-align: middle;\n",
       "    }\n",
       "\n",
       "    .dataframe tbody tr th {\n",
       "        vertical-align: top;\n",
       "    }\n",
       "\n",
       "    .dataframe thead th {\n",
       "        text-align: right;\n",
       "    }\n",
       "</style>\n",
       "<table border=\"1\" class=\"dataframe\">\n",
       "  <thead>\n",
       "    <tr style=\"text-align: right;\">\n",
       "      <th></th>\n",
       "      <th>contango</th>\n",
       "    </tr>\n",
       "    <tr>\n",
       "      <th>date</th>\n",
       "      <th></th>\n",
       "    </tr>\n",
       "  </thead>\n",
       "  <tbody>\n",
       "    <tr>\n",
       "      <th>2024-04-22</th>\n",
       "      <td>745.0</td>\n",
       "    </tr>\n",
       "    <tr>\n",
       "      <th>2024-04-23</th>\n",
       "      <td>720.0</td>\n",
       "    </tr>\n",
       "    <tr>\n",
       "      <th>2024-04-24</th>\n",
       "      <td>610.0</td>\n",
       "    </tr>\n",
       "    <tr>\n",
       "      <th>2024-04-25</th>\n",
       "      <td>570.0</td>\n",
       "    </tr>\n",
       "    <tr>\n",
       "      <th>2024-04-26</th>\n",
       "      <td>NaN</td>\n",
       "    </tr>\n",
       "    <tr>\n",
       "      <th>2024-04-29</th>\n",
       "      <td>NaN</td>\n",
       "    </tr>\n",
       "    <tr>\n",
       "      <th>2024-04-30</th>\n",
       "      <td>NaN</td>\n",
       "    </tr>\n",
       "  </tbody>\n",
       "</table>\n",
       "</div>"
      ],
      "text/plain": [
       "            contango\n",
       "date                \n",
       "2024-04-22     745.0\n",
       "2024-04-23     720.0\n",
       "2024-04-24     610.0\n",
       "2024-04-25     570.0\n",
       "2024-04-26       NaN\n",
       "2024-04-29       NaN\n",
       "2024-04-30       NaN"
      ]
     },
     "execution_count": 19,
     "metadata": {},
     "output_type": "execute_result"
    }
   ],
   "source": [
    "fut.diff(axis=1).iloc[:,-1].to_frame('contango')"
   ]
  },
  {
   "cell_type": "markdown",
   "metadata": {},
   "source": [
    "## <span style=\"color:red\">2.3</span>"
   ]
  },
  {
   "cell_type": "markdown",
   "metadata": {},
   "source": [
    "Given the contango, we would expect that there is a positive cost of carry causing the long-dated contracts to be more expensive. \n",
    "\n",
    "This seems true here: one has to forgo other uses of capital to hold BTC, whereas no capital is needed to hold the BTC futures contract. Thus, the holder of the futures contract must pay extra for longer-dated contracts."
   ]
  },
  {
   "cell_type": "markdown",
   "metadata": {},
   "source": [
    "## <span style=\"color:red\">2.4</span>"
   ]
  },
  {
   "cell_type": "markdown",
   "metadata": {},
   "source": [
    "We should...\n",
    "* short the futures contracts today\n",
    "* long 5 BTC spot now\n",
    "\n",
    "At the future contract expiration, sell the 5 BTC at the going rate, and deliver the cash from the sell.\n",
    "\n",
    "This is guaranteed to make a profit of the futures price minus the spot price. This trade is so obvious, we expect markets have already implemented it such that the spread between futures BTC and spot BTC is roughly the common rate of interest on this use of capital."
   ]
  },
  {
   "cell_type": "markdown",
   "metadata": {},
   "source": [
    "## <span style=\"color:red\">2.5</span>"
   ]
  },
  {
   "cell_type": "markdown",
   "metadata": {},
   "source": [
    "Given the observed contango of crude in our (short) sample, the continuous series would overestimate the profit.\n",
    "\n",
    "The reason is that at each contract roll, the continuous series will show the price going up, but it is due to the roll, not due to profit."
   ]
  },
  {
   "cell_type": "markdown",
   "metadata": {},
   "source": [
    "## <span style=\"color:red\">2.6</span>"
   ]
  },
  {
   "cell_type": "markdown",
   "metadata": {},
   "source": [
    "There are many...\n",
    "* efficient use of capital.\n",
    "    * futures contracts require only a margin, allowing the trader to (in a sense) leverage the position.\n",
    "* discrepancies between the spot market and the futures contract\n",
    "* frictions of holding the underlying asset\n",
    "    * BTC is a good example of this. Many institutions do not have a clear way to hold BTC but can hold BTC futures. (No need to deal with custodial issues, keys, etc.)\n"
   ]
  },
  {
   "cell_type": "markdown",
   "metadata": {},
   "source": [
    "***"
   ]
  },
  {
   "cell_type": "markdown",
   "metadata": {},
   "source": [
    "# 3. Miscellaneous"
   ]
  },
  {
   "cell_type": "markdown",
   "metadata": {},
   "source": [
    "### 1.\n",
    "\n",
    "Calculate the YTM of the US Treasury with the following parameters:\n",
    "\n",
    "* time-to-maturity is 2 years\n",
    "* coupon is 0.75% per year\n",
    "* price is 92.11\n",
    "\n",
    "What coupon amount would be required for this treasury to have a price above 100?"
   ]
  },
  {
   "cell_type": "markdown",
   "metadata": {},
   "source": [
    "### 2. (10 pts)\n",
    "\n",
    "Use the data in `data/equity_data.xlsx`, in the tab, `prices AAPL`.\n",
    "\n",
    "Calculate the maximum drawdown of AAPL returns over this time.\n",
    "\n",
    "Comment on whether you are using the adjusted or unadjusted return series, and why."
   ]
  },
  {
   "cell_type": "markdown",
   "metadata": {},
   "source": [
    "### 3.\n",
    "\n",
    "Below is a picture of a perfectly delta-hedged option position.\n",
    "\n",
    "Given that it has non-negative value for every underlying stock value, why doesn't everyone hold this position?\n",
    "\n",
    "![](../refs/delta_hedge_midterm.png)"
   ]
  },
  {
   "cell_type": "markdown",
   "metadata": {},
   "source": [
    "***"
   ]
  },
  {
   "cell_type": "markdown",
   "metadata": {},
   "source": [
    "# <span style=\"color:red\">Solution 3</span>"
   ]
  },
  {
   "cell_type": "markdown",
   "metadata": {},
   "source": [
    "## <span style=\"color:red\">3.1</span>"
   ]
  },
  {
   "cell_type": "markdown",
   "metadata": {},
   "source": [
    "Immediately we know that the coupon necessary to price the bond above 100 (par) is a coupon greater than the YTM.\n",
    "\n",
    "Calculate the YTM as usual..."
   ]
  },
  {
   "cell_type": "code",
   "execution_count": 20,
   "metadata": {},
   "outputs": [],
   "source": [
    "from scipy.optimize import fsolve\n",
    "\n",
    "def price_bond(ytm, T, cpn, cpnfreq=2, face=100, accr_frac=None):\n",
    "    ytm_n = ytm/cpnfreq\n",
    "    cpn_n = cpn/cpnfreq\n",
    "    \n",
    "    if accr_frac is None:\n",
    "        accr_frac = (T-round(T))*cpnfreq\n",
    "    \n",
    "    N = T * cpnfreq\n",
    "    price = face * ((cpn_n / ytm_n) * (1-(1+ytm_n)**(-N)) + (1+ytm_n)**(-N)) * (1+ytm_n)**(accr_frac)\n",
    "    return price\n",
    "\n",
    "def ytm(price, T, cpn, cpnfreq=2, face=100, accr_frac=None):\n",
    "    pv_wrapper = lambda y: price - price_bond(y, T, cpn, cpnfreq=cpnfreq, face=face, accr_frac=accr_frac)\n",
    "    ytm = fsolve(pv_wrapper,.01)\n",
    "    return ytm"
   ]
  },
  {
   "cell_type": "code",
   "execution_count": 21,
   "metadata": {},
   "outputs": [
    {
     "data": {
      "text/html": [
       "<style type=\"text/css\">\n",
       "</style>\n",
       "<table id=\"T_34655\">\n",
       "  <thead>\n",
       "    <tr>\n",
       "      <th class=\"blank level0\" >&nbsp;</th>\n",
       "      <th id=\"T_34655_level0_col0\" class=\"col_heading level0 col0\" >time to maturity</th>\n",
       "      <th id=\"T_34655_level0_col1\" class=\"col_heading level0 col1\" >coupon rate</th>\n",
       "      <th id=\"T_34655_level0_col2\" class=\"col_heading level0 col2\" >price</th>\n",
       "      <th id=\"T_34655_level0_col3\" class=\"col_heading level0 col3\" >ytm</th>\n",
       "    </tr>\n",
       "  </thead>\n",
       "  <tbody>\n",
       "    <tr>\n",
       "      <th id=\"T_34655_level0_row0\" class=\"row_heading level0 row0\" ></th>\n",
       "      <td id=\"T_34655_row0_col0\" class=\"data row0 col0\" >2.00</td>\n",
       "      <td id=\"T_34655_row0_col1\" class=\"data row0 col1\" >0.75%</td>\n",
       "      <td id=\"T_34655_row0_col2\" class=\"data row0 col2\" >92.11</td>\n",
       "      <td id=\"T_34655_row0_col3\" class=\"data row0 col3\" >4.94%</td>\n",
       "    </tr>\n",
       "  </tbody>\n",
       "</table>\n"
      ],
      "text/plain": [
       "<pandas.io.formats.style.Styler at 0x337270790>"
      ]
     },
     "execution_count": 21,
     "metadata": {},
     "output_type": "execute_result"
    }
   ],
   "source": [
    "PRICE = 92.11\n",
    "T = 2\n",
    "cpn = .0075\n",
    "y = ytm(PRICE,T,cpn)[0]\n",
    "\n",
    "bond_metrics = pd.DataFrame([T,cpn,PRICE,y],index=['time to maturity','coupon rate','price','ytm'],columns=['']).T\n",
    "bond_metrics.style.format({'time to maturity':'{:.2f}','price':'{:.2f}','coupon rate':'{:.2%}','ytm':'{:.2%}'})"
   ]
  },
  {
   "cell_type": "markdown",
   "metadata": {},
   "source": [
    "## <span style=\"color:red\">3.2</span>"
   ]
  },
  {
   "cell_type": "code",
   "execution_count": 22,
   "metadata": {},
   "outputs": [
    {
     "data": {
      "text/html": [
       "<div>\n",
       "<style scoped>\n",
       "    .dataframe tbody tr th:only-of-type {\n",
       "        vertical-align: middle;\n",
       "    }\n",
       "\n",
       "    .dataframe tbody tr th {\n",
       "        vertical-align: top;\n",
       "    }\n",
       "\n",
       "    .dataframe thead th {\n",
       "        text-align: right;\n",
       "    }\n",
       "</style>\n",
       "<table border=\"1\" class=\"dataframe\">\n",
       "  <thead>\n",
       "    <tr style=\"text-align: right;\">\n",
       "      <th></th>\n",
       "      <th>Max Drawdown</th>\n",
       "      <th>Peak</th>\n",
       "      <th>Bottom</th>\n",
       "      <th>Recover</th>\n",
       "      <th>Duration (to Recover)</th>\n",
       "    </tr>\n",
       "  </thead>\n",
       "  <tbody>\n",
       "    <tr>\n",
       "      <th>Adjusted Price</th>\n",
       "      <td>-0.608739</td>\n",
       "      <td>2007-12-28</td>\n",
       "      <td>2009-01-20</td>\n",
       "      <td>2009-10-21</td>\n",
       "      <td>663 days</td>\n",
       "    </tr>\n",
       "  </tbody>\n",
       "</table>\n",
       "</div>"
      ],
      "text/plain": [
       "                Max Drawdown       Peak     Bottom    Recover  \\\n",
       "Adjusted Price     -0.608739 2007-12-28 2009-01-20 2009-10-21   \n",
       "\n",
       "               Duration (to Recover)  \n",
       "Adjusted Price              663 days  "
      ]
     },
     "execution_count": 22,
     "metadata": {},
     "output_type": "execute_result"
    }
   ],
   "source": [
    "FILEIN = '../data/equity_data.xlsx'\n",
    "SHEET = 'prices AAPL'\n",
    "data_apple = pd.read_excel(FILEIN,sheet_name=SHEET).set_index('date')\n",
    "KEY = 'Adjusted Price'\n",
    "rAPPL = data_apple[[KEY]].pct_change()\n",
    "\n",
    "maximumDrawdown(rAPPL)"
   ]
  },
  {
   "cell_type": "markdown",
   "metadata": {},
   "source": [
    "We use `Adjusted Prices` to give an accurate measure of returns to holding `AAPL`.\n",
    "\n",
    "Otherwise, splits will give a misleading measure of returns. And dividends will be unaccounted."
   ]
  },
  {
   "cell_type": "markdown",
   "metadata": {},
   "source": [
    "## <span style=\"color:red\">3.3</span>"
   ]
  },
  {
   "cell_type": "markdown",
   "metadata": {},
   "source": [
    "This position is perfectly delta hedged and has positive gamma. Thus, it has a non-negative payoff for any underlying value.\n",
    "\n",
    "But that is holding time constant! This plot is just an instant, and it misses this time dynamic.\n",
    "\n",
    "In reality, time is passing, making the option get closser to expiration, which decreases its value. This negative **theta** will pull down the value of the option.\n",
    "\n",
    "Thus, holding this position is a bet as to whether the underlying will move enough to earn enough profit (via gamma) to more than offset the loss due to theata."
   ]
  },
  {
   "cell_type": "markdown",
   "metadata": {},
   "source": [
    "***"
   ]
  }
 ],
 "metadata": {
  "hide_input": false,
  "kernelspec": {
   "display_name": "Python 3 (ipykernel)",
   "language": "python",
   "name": "python3"
  },
  "language_info": {
   "codemirror_mode": {
    "name": "ipython",
    "version": 3
   },
   "file_extension": ".py",
   "mimetype": "text/x-python",
   "name": "python",
   "nbconvert_exporter": "python",
   "pygments_lexer": "ipython3",
   "version": "3.9.6"
  }
 },
 "nbformat": 4,
 "nbformat_minor": 4
}
