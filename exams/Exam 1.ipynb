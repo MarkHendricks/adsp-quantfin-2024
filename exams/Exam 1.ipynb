{
 "cells": [
  {
   "cell_type": "markdown",
   "metadata": {},
   "source": [
    "# Exam 1\n",
    "\n",
    "## ADSP 32001 - 2024\n",
    "\n",
    "### UChicago Financial Mathematics\n",
    "\n",
    "* Mark Hendricks\n",
    "* hendricks@uchicago.edu"
   ]
  },
  {
   "cell_type": "markdown",
   "metadata": {},
   "source": [
    "***"
   ]
  },
  {
   "cell_type": "markdown",
   "metadata": {},
   "source": [
    "# Instructions"
   ]
  },
  {
   "cell_type": "markdown",
   "metadata": {},
   "source": [
    "## Please note the following:\n",
    "\n",
    "Time\n",
    "* You have 90 minutes to complete the exam.\n",
    "* For every minute late you submit the exam, you will lose one point.\n",
    "\n",
    "Submission\n",
    "* You will upload your solution to the Exam \"assignment\" on Canvas.\n",
    "* Your submission should be readable, (the graders can understand your answers,) and it should include all code used in your analysis in a file format that the code can be executed. (ie. .ipynb preferred, .pdf is unacceptable.)\n",
    "\n",
    "Rules\n",
    "* The exam is open-material, closed-communication.\n",
    "* You do not need to cite material from the course github repo--you are welcome to use the code posted there without citation, (only for this exam.)\n",
    "\n",
    "Advice\n",
    "* If you find any question to be unclear, state your interpretation and proceed. We will only answer questions of interpretation if there is a typo, error, etc.\n",
    "* The exam will be graded for partial credit."
   ]
  },
  {
   "cell_type": "markdown",
   "metadata": {},
   "source": [
    "## Data\n",
    "\n",
    "**All data files are found in the class github repo, in the `data` folder.**\n",
    "\n",
    "This exam makes use of the following data files:\n",
    "\n",
    "#### Section 2\n",
    "* New file: `select_equity_returns.xlsx`"
   ]
  },
  {
   "cell_type": "markdown",
   "metadata": {},
   "source": [
    "## Scoring\n",
    "\n",
    "| Problem | Points |\n",
    "|---------|--------|\n",
    "| 1       | 35     |\n",
    "| 2       | 25     |\n",
    "| 3       | 25     |\n",
    "| **Total**   | **85**|"
   ]
  },
  {
   "cell_type": "markdown",
   "metadata": {},
   "source": [
    "### Each numbered question is worth 5 points unless otherwise specified."
   ]
  },
  {
   "cell_type": "markdown",
   "metadata": {},
   "source": [
    "***"
   ]
  },
  {
   "cell_type": "markdown",
   "metadata": {},
   "source": [
    "# 1. Long-Short Bond Trade"
   ]
  },
  {
   "cell_type": "markdown",
   "metadata": {},
   "source": [
    "Consider the following market data as of `Dec 29, 2023`.\n",
    "\n",
    "The table below shows two Treasury securities, a T-note and a T-bond. They mature on the same date."
   ]
  },
  {
   "cell_type": "code",
   "execution_count": 2,
   "metadata": {},
   "outputs": [
    {
     "data": {
      "text/html": [
       "<div>\n",
       "<style scoped>\n",
       "    .dataframe tbody tr th:only-of-type {\n",
       "        vertical-align: middle;\n",
       "    }\n",
       "\n",
       "    .dataframe tbody tr th {\n",
       "        vertical-align: top;\n",
       "    }\n",
       "\n",
       "    .dataframe thead th {\n",
       "        text-align: right;\n",
       "    }\n",
       "</style>\n",
       "<table border=\"1\" class=\"dataframe\">\n",
       "  <thead>\n",
       "    <tr style=\"text-align: right;\">\n",
       "      <th></th>\n",
       "      <th>207391</th>\n",
       "      <th>204095</th>\n",
       "    </tr>\n",
       "  </thead>\n",
       "  <tbody>\n",
       "    <tr>\n",
       "      <th>issue date</th>\n",
       "      <td>2019-08-15</td>\n",
       "      <td>1999-08-15</td>\n",
       "    </tr>\n",
       "    <tr>\n",
       "      <th>maturity date</th>\n",
       "      <td>2029-08-15</td>\n",
       "      <td>2029-08-15</td>\n",
       "    </tr>\n",
       "    <tr>\n",
       "      <th>coupon rate</th>\n",
       "      <td>0.01625</td>\n",
       "      <td>0.06125</td>\n",
       "    </tr>\n",
       "    <tr>\n",
       "      <th>clean price</th>\n",
       "      <td>89.03125</td>\n",
       "      <td>111.0391</td>\n",
       "    </tr>\n",
       "    <tr>\n",
       "      <th>accrued interest</th>\n",
       "      <td>0.6005</td>\n",
       "      <td>2.2636</td>\n",
       "    </tr>\n",
       "    <tr>\n",
       "      <th>ytm</th>\n",
       "      <td>0.037677</td>\n",
       "      <td>0.038784</td>\n",
       "    </tr>\n",
       "    <tr>\n",
       "      <th>duration</th>\n",
       "      <td>5.3494</td>\n",
       "      <td>4.7967</td>\n",
       "    </tr>\n",
       "  </tbody>\n",
       "</table>\n",
       "</div>"
      ],
      "text/plain": [
       "                      207391      204095\n",
       "issue date        2019-08-15  1999-08-15\n",
       "maturity date     2029-08-15  2029-08-15\n",
       "coupon rate          0.01625     0.06125\n",
       "clean price         89.03125    111.0391\n",
       "accrued interest      0.6005      2.2636\n",
       "ytm                 0.037677    0.038784\n",
       "duration              5.3494      4.7967"
      ]
     },
     "execution_count": 2,
     "metadata": {},
     "output_type": "execute_result"
    }
   ],
   "source": [
    "import pandas as pd\n",
    "summary = pd.DataFrame(index=[],columns = [207391,204095],dtype=float)\n",
    "summary.loc['issue date'] = ['2019-08-15','1999-08-15']\n",
    "summary.loc['maturity date'] = ['2029-08-15','2029-08-15']\n",
    "summary.loc['coupon rate'] = [.01625, .06125]\n",
    "summary.loc['clean price'] = [89.03125,111.0391]\n",
    "summary.loc['accrued interest'] = [.6005, 2.2636]\n",
    "summary.loc['ytm'] = [.037677, .038784]\n",
    "summary.loc['duration'] = [5.3494,4.7967]\n",
    "summary"
   ]
  },
  {
   "cell_type": "markdown",
   "metadata": {},
   "source": [
    "### 1.1.\n",
    "\n",
    "Explain the long-short trade you would enter based on the market data above, without any further calculation. "
   ]
  },
  {
   "cell_type": "markdown",
   "metadata": {},
   "source": [
    "### 1.2.\n",
    "\n",
    "Size your trade.\n",
    "* Suppose the long side is set to $100 million market value. \n",
    "* Size the short to be duration-neutral.\n",
    "\n",
    "Report the market value in the short-side of the trade and the number of long and short contracts.\n",
    "\n",
    "Be sure to account for the **dirty** price."
   ]
  },
  {
   "cell_type": "markdown",
   "metadata": {},
   "source": [
    "### 1.3.\n",
    "\n",
    "What are the risks of this trade in the short-term and in the long-term?"
   ]
  },
  {
   "cell_type": "markdown",
   "metadata": {},
   "source": [
    "### 1.4.\n",
    "\n",
    "Use **modified duration**--not the Macauley duration reported above--to estimate how much pnl will be earned if the securities converge (symmetrically)."
   ]
  },
  {
   "cell_type": "markdown",
   "metadata": {},
   "source": [
    "### 1.5.\n",
    "\n",
    "For which of these securities will the duration approximation be less accurate? Explain."
   ]
  },
  {
   "cell_type": "markdown",
   "metadata": {},
   "source": [
    "### 1.6.\n",
    "\n",
    "Is the difference in YTM consistent with our discussion of a liquidity premium in bonds? Explain."
   ]
  },
  {
   "cell_type": "markdown",
   "metadata": {},
   "source": [
    "### 1.7.\n",
    "\n",
    "Assume, just for this part of the problem...\n",
    "* current date is Feb 15, 2024, so both mature in exaclty 5.5 years.\n",
    "* the coupon has just been paid, so the accrued interest is zero\n",
    "* the price of both bonds are 91.02 and 109.5, respectively. (These are made up, don't try to rationalize them.)\n",
    "\n",
    "Calculate the YTM of each bond."
   ]
  },
  {
   "cell_type": "markdown",
   "metadata": {},
   "source": [
    "***"
   ]
  },
  {
   "cell_type": "markdown",
   "metadata": {},
   "source": [
    "# 2. Equity Analytics"
   ]
  },
  {
   "cell_type": "markdown",
   "metadata": {},
   "source": [
    "#### Data\n",
    "\n",
    "This problem requires use of \n",
    "* `select_equity_returns.xlsx`\n",
    "\n",
    "This file has sheets for...\n",
    "* `info` - names of each stock ticker\n",
    "* `single-name stocks` - weekly returns on several stocks\n",
    "* `spy` - weekly returns on SPY\n",
    "\n",
    "Note the data is **weekly** so any annualizations should use `52` weeks in a year."
   ]
  },
  {
   "cell_type": "markdown",
   "metadata": {},
   "source": [
    "### 2.1.\n",
    "\n",
    "Report a table which shows the following stats for each of the single-name stocks. Be sure to **annualize**.\n",
    "* mean\n",
    "* volatility\n",
    "* mean-vol (Sharpe) ratio\n",
    "\n",
    "Which stock seems most attractive? Why?"
   ]
  },
  {
   "cell_type": "markdown",
   "metadata": {},
   "source": [
    "### 2.2.\n",
    "\n",
    "Report the following non-linear risk statistics for the single-name equities, (no annualization needed.)\n",
    "* 5th quantile of returns\n",
    "* maximum drawdown"
   ]
  },
  {
   "cell_type": "markdown",
   "metadata": {},
   "source": [
    "### 2.3.\n",
    "\n",
    "Explain conceptually why the \"market beta\" may be useful in addition to the performance metrics above."
   ]
  },
  {
   "cell_type": "markdown",
   "metadata": {},
   "source": [
    "### 2.4.\n",
    "\n",
    "Calculate the market beta for each of the single-name stocks, with respect to `SPY`.\n",
    "\n",
    "$$r_{i,t} = \\alpha + \\beta\\, r_{\\text{SPY},t} + \\epsilon_t$$"
   ]
  },
  {
   "cell_type": "markdown",
   "metadata": {},
   "source": [
    "### 2.5.\n",
    "\n",
    "Short-answer conclusions...\n",
    "\n",
    "* Suppose the S&P 500 goes up 1%. How much do you expect TSLA to move?\n",
    "\n",
    "* Which stock's return is most explained by the S&P 500?"
   ]
  },
  {
   "cell_type": "markdown",
   "metadata": {},
   "source": [
    "***"
   ]
  },
  {
   "cell_type": "markdown",
   "metadata": {},
   "source": [
    "# 3. Short-Answer\n",
    "\n",
    "#### No Data Needed\n",
    "\n",
    "These problems do not require any data file. Rather, analyze them conceptually. "
   ]
  },
  {
   "cell_type": "markdown",
   "metadata": {},
   "source": [
    "### 1.\n",
    "\n",
    "Which likely has higher correlation: two S&P 500 stocks (chosen randomly) or two money-market interest rates (chosen randomly)?"
   ]
  },
  {
   "cell_type": "markdown",
   "metadata": {},
   "source": [
    "### 2.\n",
    "\n",
    "Name a mechanism by which the Fed influences money-market rates. Cite a method used which they did not widely use 20 years ago.\n",
    "\n",
    "Describe a second mechanims the Fed uses to impact rates which is less important in recent times."
   ]
  },
  {
   "cell_type": "markdown",
   "metadata": {},
   "source": [
    "### 3.\n",
    "\n",
    "True or False: We expect high correlation in the relationship between leverage on an asset and the haircut on the asset for purposes of repo."
   ]
  },
  {
   "cell_type": "markdown",
   "metadata": {},
   "source": [
    "### 4.\n",
    "\n",
    "Will the adjusted returns be higher or lower than the unadjusted returns for a stock which is...\n",
    "* paying high dividends\n",
    "* splitting frequently\n",
    "\n",
    "Explain your answer."
   ]
  },
  {
   "cell_type": "markdown",
   "metadata": {},
   "source": [
    "### 5.\n",
    "\n",
    "If SPY is meant to track the S&P 500 (SPX), then why are their returns so different in this chart?\n",
    "\n",
    "![](../refs/return_chart_midterm.png)"
   ]
  },
  {
   "cell_type": "markdown",
   "metadata": {},
   "source": [
    "***"
   ]
  }
 ],
 "metadata": {
  "hide_input": false,
  "kernelspec": {
   "display_name": "Python 3 (ipykernel)",
   "language": "python",
   "name": "python3"
  },
  "language_info": {
   "codemirror_mode": {
    "name": "ipython",
    "version": 3
   },
   "file_extension": ".py",
   "mimetype": "text/x-python",
   "name": "python",
   "nbconvert_exporter": "python",
   "pygments_lexer": "ipython3",
   "version": "3.9.6"
  }
 },
 "nbformat": 4,
 "nbformat_minor": 4
}
