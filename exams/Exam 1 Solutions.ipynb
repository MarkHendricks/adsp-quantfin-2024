{
 "cells": [
  {
   "cell_type": "markdown",
   "metadata": {},
   "source": [
    "# <span style=\"color:red\">Solutions to Exam 1<span>\n",
    "\n",
    "## Financial Analytics\n",
    "\n",
    "### UChicago ADSP\n",
    "\n",
    "#### Spring 2024\n",
    "* Mark Hendricks\n",
    "* hendricks@uchicago.edu"
   ]
  },
  {
   "cell_type": "markdown",
   "metadata": {},
   "source": [
    "***"
   ]
  },
  {
   "cell_type": "markdown",
   "metadata": {},
   "source": [
    "# Instructions"
   ]
  },
  {
   "cell_type": "markdown",
   "metadata": {},
   "source": [
    "## Please note the following:\n",
    "\n",
    "Time\n",
    "* You have 90 minutes to complete the exam.\n",
    "* For every minute late you submit the exam, you will lose one point.\n",
    "\n",
    "Submission\n",
    "* You will upload your solution to the Exam \"assignment\" on Canvas.\n",
    "* Your submission should be readable, (the graders can understand your answers,) and it should include all code used in your analysis in a file format that the code can be executed. (ie. .ipynb preferred, .pdf is unacceptable.)\n",
    "\n",
    "Rules\n",
    "* The exam is open-material, closed-communication.\n",
    "* You do not need to cite material from the course github repo--you are welcome to use the code posted there without citation, (only for this exam.)\n",
    "\n",
    "Advice\n",
    "* If you find any question to be unclear, state your interpretation and proceed. We will only answer questions of interpretation if there is a typo, error, etc.\n",
    "* The exam will be graded for partial credit."
   ]
  },
  {
   "cell_type": "markdown",
   "metadata": {},
   "source": [
    "## Data\n",
    "\n",
    "**All data files are found in the class github repo, in the `data` folder.**\n",
    "\n",
    "This exam makes use of the following data files:\n",
    "\n",
    "#### Section 2\n",
    "* New file: `select_equity_returns.xlsx`"
   ]
  },
  {
   "cell_type": "markdown",
   "metadata": {},
   "source": [
    "## Scoring\n",
    "\n",
    "| Problem | Points |\n",
    "|---------|--------|\n",
    "| 1       | 35     |\n",
    "| 2       | 25     |\n",
    "| 3       | 25     |\n",
    "| **Total**   | **85**|"
   ]
  },
  {
   "cell_type": "markdown",
   "metadata": {},
   "source": [
    "### Each numbered question is worth 5 points unless otherwise specified."
   ]
  },
  {
   "cell_type": "markdown",
   "metadata": {},
   "source": [
    "***"
   ]
  },
  {
   "cell_type": "markdown",
   "metadata": {},
   "source": [
    "# 1. Long-Short Bond Trade"
   ]
  },
  {
   "cell_type": "markdown",
   "metadata": {},
   "source": [
    "Consider the following market data as of `Dec 29, 2023`.\n",
    "\n",
    "The table below shows two Treasury securities, a T-note and a T-bond. They mature on the same date."
   ]
  },
  {
   "cell_type": "code",
   "execution_count": 1,
   "metadata": {},
   "outputs": [
    {
     "data": {
      "text/html": [
       "<div>\n",
       "<style scoped>\n",
       "    .dataframe tbody tr th:only-of-type {\n",
       "        vertical-align: middle;\n",
       "    }\n",
       "\n",
       "    .dataframe tbody tr th {\n",
       "        vertical-align: top;\n",
       "    }\n",
       "\n",
       "    .dataframe thead th {\n",
       "        text-align: right;\n",
       "    }\n",
       "</style>\n",
       "<table border=\"1\" class=\"dataframe\">\n",
       "  <thead>\n",
       "    <tr style=\"text-align: right;\">\n",
       "      <th></th>\n",
       "      <th>207391</th>\n",
       "      <th>204095</th>\n",
       "    </tr>\n",
       "  </thead>\n",
       "  <tbody>\n",
       "    <tr>\n",
       "      <th>issue date</th>\n",
       "      <td>2019-08-15</td>\n",
       "      <td>1999-08-15</td>\n",
       "    </tr>\n",
       "    <tr>\n",
       "      <th>maturity date</th>\n",
       "      <td>2029-08-15</td>\n",
       "      <td>2029-08-15</td>\n",
       "    </tr>\n",
       "    <tr>\n",
       "      <th>coupon rate</th>\n",
       "      <td>0.01625</td>\n",
       "      <td>0.06125</td>\n",
       "    </tr>\n",
       "    <tr>\n",
       "      <th>clean price</th>\n",
       "      <td>89.03125</td>\n",
       "      <td>111.0391</td>\n",
       "    </tr>\n",
       "    <tr>\n",
       "      <th>accrued interest</th>\n",
       "      <td>0.6005</td>\n",
       "      <td>2.2636</td>\n",
       "    </tr>\n",
       "    <tr>\n",
       "      <th>ytm</th>\n",
       "      <td>0.037677</td>\n",
       "      <td>0.038784</td>\n",
       "    </tr>\n",
       "    <tr>\n",
       "      <th>duration</th>\n",
       "      <td>5.3494</td>\n",
       "      <td>4.7967</td>\n",
       "    </tr>\n",
       "  </tbody>\n",
       "</table>\n",
       "</div>"
      ],
      "text/plain": [
       "                      207391      204095\n",
       "issue date        2019-08-15  1999-08-15\n",
       "maturity date     2029-08-15  2029-08-15\n",
       "coupon rate          0.01625     0.06125\n",
       "clean price         89.03125    111.0391\n",
       "accrued interest      0.6005      2.2636\n",
       "ytm                 0.037677    0.038784\n",
       "duration              5.3494      4.7967"
      ]
     },
     "execution_count": 1,
     "metadata": {},
     "output_type": "execute_result"
    }
   ],
   "source": [
    "import pandas as pd\n",
    "summary = pd.DataFrame(index=[],columns = [207391,204095],dtype=float)\n",
    "summary.loc['issue date'] = ['2019-08-15','1999-08-15']\n",
    "summary.loc['maturity date'] = ['2029-08-15','2029-08-15']\n",
    "summary.loc['coupon rate'] = [.01625, .06125]\n",
    "summary.loc['clean price'] = [89.03125,111.0391]\n",
    "summary.loc['accrued interest'] = [.6005, 2.2636]\n",
    "summary.loc['ytm'] = [.037677, .038784]\n",
    "summary.loc['duration'] = [5.3494,4.7967]\n",
    "summary"
   ]
  },
  {
   "cell_type": "markdown",
   "metadata": {},
   "source": [
    "### 1.1.\n",
    "\n",
    "Explain the long-short trade you would enter based on the market data above, without any further calculation. "
   ]
  },
  {
   "cell_type": "markdown",
   "metadata": {},
   "source": [
    "### 1.2.\n",
    "\n",
    "Size your trade.\n",
    "* Suppose the long side is set to $100 million market value. \n",
    "* Size the short to be duration-neutral.\n",
    "\n",
    "Report the market value in the short-side of the trade and the number of long and short contracts.\n",
    "\n",
    "Be sure to account for the **dirty** price."
   ]
  },
  {
   "cell_type": "markdown",
   "metadata": {},
   "source": [
    "### 1.3.\n",
    "\n",
    "What are the risks of this trade in the short-term and in the long-term?"
   ]
  },
  {
   "cell_type": "markdown",
   "metadata": {},
   "source": [
    "### 1.4.\n",
    "\n",
    "Use **modified duration**--not the Macauley duration reported above--to estimate how much pnl will be earned if the securities converge (symmetrically)."
   ]
  },
  {
   "cell_type": "markdown",
   "metadata": {},
   "source": [
    "### 1.5.\n",
    "\n",
    "For which of these securities will the duration approximation be less accurate? Explain."
   ]
  },
  {
   "cell_type": "markdown",
   "metadata": {},
   "source": [
    "### 1.6.\n",
    "\n",
    "Is the difference in YTM consistent with our discussion of a liquidity premium in bonds? Explain."
   ]
  },
  {
   "cell_type": "markdown",
   "metadata": {},
   "source": [
    "### 1.7.\n",
    "\n",
    "Assume, just for this part of the problem...\n",
    "* current date is Feb 15, 2024, so both mature in exaclty 5.5 years.\n",
    "* the coupon has just been paid, so the accrued interest is zero\n",
    "* the price of both bonds are 91.02 and 109.5, respectively. (These are made up, don't try to rationalize them.)\n",
    "\n",
    "Calculate the YTM of each bond."
   ]
  },
  {
   "cell_type": "markdown",
   "metadata": {},
   "source": [
    "***"
   ]
  },
  {
   "cell_type": "markdown",
   "metadata": {},
   "source": [
    "# <span style=\"color:red\">Solution 1</span>"
   ]
  },
  {
   "cell_type": "code",
   "execution_count": 2,
   "metadata": {},
   "outputs": [],
   "source": [
    "import numpy as np\n",
    "import datetime\n",
    "import warnings\n",
    "warnings.filterwarnings('ignore',category=FutureWarning)\n",
    "\n",
    "from sklearn.linear_model import LinearRegression\n",
    "from sklearn.decomposition import PCA\n",
    "from scipy.optimize import minimize\n",
    "\n",
    "import matplotlib.pyplot as plt\n",
    "%matplotlib inline\n",
    "plt.rcParams['figure.figsize'] = (12,6)\n",
    "plt.rcParams['font.size'] = 15\n",
    "plt.rcParams['legend.fontsize'] = 13\n",
    "\n",
    "from matplotlib.ticker import (MultipleLocator,\n",
    "                               FormatStrFormatter,\n",
    "                               AutoMinorLocator)\n",
    "\n",
    "import sys\n",
    "sys.path.insert(0, '../cmds')\n",
    "from portfolio import get_ols_metrics\n",
    "from treasury_cmds import *\n",
    "from tradebondpair import *"
   ]
  },
  {
   "cell_type": "markdown",
   "metadata": {},
   "source": [
    "## <span style=\"color:red\">1.1</span>"
   ]
  },
  {
   "cell_type": "markdown",
   "metadata": {},
   "source": [
    "We should go **long** the **higher** YTM, and **short** the **lower** YTM.\n",
    "\n",
    "Note that this is **not** the same as going long the bond with lower price and shorting the bond with higher price. Given the difference in coupons, the higher price is not indicative of the 30-year being a worse deal. Rather, its higher YTM shows it is more attractive.\n",
    "\n",
    "Optionally, one could mention that the long-short trade might be sized to \n",
    "* be duration neutral to reduce sensitivity to changes in interest rates. \n",
    "* be dollar neutral to be self-funded with very low net duration."
   ]
  },
  {
   "cell_type": "markdown",
   "metadata": {},
   "source": [
    "## <span style=\"color:red\">1.2</span>"
   ]
  },
  {
   "cell_type": "markdown",
   "metadata": {},
   "source": [
    "Use the formula seen in class:\n",
    "\n",
    "$$n_j = -n_i\\frac{D_{\\$,i}}{D_{\\$,j}}$$\n",
    "\n",
    "Use dollar duration in this formula, based on the **dirty** price.\n",
    "\n",
    "#### Grading note\n",
    "Partial credit for using \n",
    "* duration instead of dollar duration\n",
    "* calculating dollar duration via clean price instead of dirty price."
   ]
  },
  {
   "cell_type": "code",
   "execution_count": 3,
   "metadata": {},
   "outputs": [
    {
     "data": {
      "text/html": [
       "<style type=\"text/css\">\n",
       "</style>\n",
       "<table id=\"T_b201b\">\n",
       "  <thead>\n",
       "    <tr>\n",
       "      <th class=\"blank level0\" >&nbsp;</th>\n",
       "      <th id=\"T_b201b_level0_col0\" class=\"col_heading level0 col0\" >dirty price</th>\n",
       "      <th id=\"T_b201b_level0_col1\" class=\"col_heading level0 col1\" >dollar duration</th>\n",
       "      <th id=\"T_b201b_level0_col2\" class=\"col_heading level0 col2\" >contracts</th>\n",
       "      <th id=\"T_b201b_level0_col3\" class=\"col_heading level0 col3\" >market value</th>\n",
       "    </tr>\n",
       "  </thead>\n",
       "  <tbody>\n",
       "    <tr>\n",
       "      <th id=\"T_b201b_level0_row0\" class=\"row_heading level0 row0\" >207391</th>\n",
       "      <td id=\"T_b201b_row0_col0\" class=\"data row0 col0\" >89.63</td>\n",
       "      <td id=\"T_b201b_row0_col1\" class=\"data row0 col1\" >479.48</td>\n",
       "      <td id=\"T_b201b_row0_col2\" class=\"data row0 col2\" >-1,000,404.43</td>\n",
       "      <td id=\"T_b201b_row0_col3\" class=\"data row0 col3\" >-89,668,000.15</td>\n",
       "    </tr>\n",
       "    <tr>\n",
       "      <th id=\"T_b201b_level0_row1\" class=\"row_heading level0 row1\" >204095</th>\n",
       "      <td id=\"T_b201b_row1_col0\" class=\"data row1 col0\" >113.30</td>\n",
       "      <td id=\"T_b201b_row1_col1\" class=\"data row1 col1\" >543.48</td>\n",
       "      <td id=\"T_b201b_row1_col2\" class=\"data row1 col2\" >882,591.50</td>\n",
       "      <td id=\"T_b201b_row1_col3\" class=\"data row1 col3\" >100,000,000.00</td>\n",
       "    </tr>\n",
       "  </tbody>\n",
       "</table>\n"
      ],
      "text/plain": [
       "<pandas.io.formats.style.Styler at 0x32dc12130>"
      ]
     },
     "execution_count": 3,
     "metadata": {},
     "output_type": "execute_result"
    }
   ],
   "source": [
    "SIZELONG = 100e6\n",
    "\n",
    "summary.loc['dirty price'] = summary.loc['clean price'] + summary.loc['accrued interest']\n",
    "summary.loc['dollar duration'] = summary.loc['duration'] * summary.loc['dirty price']\n",
    "\n",
    "keyLong = summary.loc['ytm'].astype('float64').idxmax()\n",
    "keyShort = summary.loc['ytm'].astype('float64').idxmin()\n",
    "\n",
    "summary.loc['contracts',keyLong] = SIZELONG / summary.loc['dirty price',keyLong]\n",
    "summary.loc['contracts',keyShort] = -summary.loc['contracts',keyLong] * (summary.loc['dollar duration',keyLong]/summary.loc['dollar duration',keyShort])\n",
    "summary.loc['market value'] = summary.loc['contracts'] * summary.loc['dirty price']\n",
    "\n",
    "out = summary.loc[['dirty price', 'dollar duration', 'contracts','market value']].T\n",
    "out.style.format('{:,.2f}')"
   ]
  },
  {
   "cell_type": "markdown",
   "metadata": {},
   "source": [
    "## <span style=\"color:red\">1.3</span>"
   ]
  },
  {
   "cell_type": "markdown",
   "metadata": {},
   "source": [
    "In the **long-term**, there is no market risk.\n",
    "* If held to maturity, guaranteed to profit according to difference in YTM.\n",
    "\n",
    "In the **short-term**, there is market risk.\n",
    "* The YTM could diverge further, causing a short-term loss. \n",
    "* This could pressure the trader to unwind due to financing and short-term losses."
   ]
  },
  {
   "cell_type": "markdown",
   "metadata": {},
   "source": [
    "## <span style=\"color:red\">1.4</span>"
   ]
  },
  {
   "cell_type": "markdown",
   "metadata": {},
   "source": [
    "The table below shows the modified duration and approximated percentage change in value of each side of the trade.\n",
    "\n",
    "* The final row shows the pnl approximation based on the trade size from `1.2` above.\n",
    "* Note that the shift in the YTM approximated is half the total YTM spread on each side.\n",
    "\n",
    "#### Formula\n",
    "\n",
    "From the notes, modified duration is (for semiannually compounding)\n",
    "\n",
    "$$D\\frac{1}{1+y/2}$$"
   ]
  },
  {
   "cell_type": "code",
   "execution_count": 4,
   "metadata": {},
   "outputs": [
    {
     "data": {
      "text/html": [
       "<style type=\"text/css\">\n",
       "</style>\n",
       "<table id=\"T_ebdec\">\n",
       "  <thead>\n",
       "    <tr>\n",
       "      <th class=\"blank level0\" >&nbsp;</th>\n",
       "      <th id=\"T_ebdec_level0_col0\" class=\"col_heading level0 col0\" >ytm</th>\n",
       "      <th id=\"T_ebdec_level0_col1\" class=\"col_heading level0 col1\" >duration</th>\n",
       "      <th id=\"T_ebdec_level0_col2\" class=\"col_heading level0 col2\" >ytm convergence</th>\n",
       "      <th id=\"T_ebdec_level0_col3\" class=\"col_heading level0 col3\" >modified duration</th>\n",
       "      <th id=\"T_ebdec_level0_col4\" class=\"col_heading level0 col4\" >pct change value</th>\n",
       "      <th id=\"T_ebdec_level0_col5\" class=\"col_heading level0 col5\" >pnl</th>\n",
       "    </tr>\n",
       "  </thead>\n",
       "  <tbody>\n",
       "    <tr>\n",
       "      <th id=\"T_ebdec_level0_row0\" class=\"row_heading level0 row0\" >207391</th>\n",
       "      <td id=\"T_ebdec_row0_col0\" class=\"data row0 col0\" >3.77%</td>\n",
       "      <td id=\"T_ebdec_row0_col1\" class=\"data row0 col1\" >5.349400</td>\n",
       "      <td id=\"T_ebdec_row0_col2\" class=\"data row0 col2\" >0.000553</td>\n",
       "      <td id=\"T_ebdec_row0_col3\" class=\"data row0 col3\" >5.250489</td>\n",
       "      <td id=\"T_ebdec_row0_col4\" class=\"data row0 col4\" >-0.29%</td>\n",
       "      <td id=\"T_ebdec_row0_col5\" class=\"data row0 col5\" >$260,588.25</td>\n",
       "    </tr>\n",
       "    <tr>\n",
       "      <th id=\"T_ebdec_level0_row1\" class=\"row_heading level0 row1\" >204095</th>\n",
       "      <td id=\"T_ebdec_row1_col0\" class=\"data row1 col0\" >3.88%</td>\n",
       "      <td id=\"T_ebdec_row1_col1\" class=\"data row1 col1\" >4.796700</td>\n",
       "      <td id=\"T_ebdec_row1_col2\" class=\"data row1 col2\" >-0.000553</td>\n",
       "      <td id=\"T_ebdec_row1_col3\" class=\"data row1 col3\" >4.705452</td>\n",
       "      <td id=\"T_ebdec_row1_col4\" class=\"data row1 col4\" >0.26%</td>\n",
       "      <td id=\"T_ebdec_row1_col5\" class=\"data row1 col5\" >$260,446.76</td>\n",
       "    </tr>\n",
       "    <tr>\n",
       "      <th id=\"T_ebdec_level0_row2\" class=\"row_heading level0 row2\" >net</th>\n",
       "      <td id=\"T_ebdec_row2_col0\" class=\"data row2 col0\" >nan%</td>\n",
       "      <td id=\"T_ebdec_row2_col1\" class=\"data row2 col1\" >nan</td>\n",
       "      <td id=\"T_ebdec_row2_col2\" class=\"data row2 col2\" >nan</td>\n",
       "      <td id=\"T_ebdec_row2_col3\" class=\"data row2 col3\" >nan</td>\n",
       "      <td id=\"T_ebdec_row2_col4\" class=\"data row2 col4\" >nan%</td>\n",
       "      <td id=\"T_ebdec_row2_col5\" class=\"data row2 col5\" >$521,035.01</td>\n",
       "    </tr>\n",
       "  </tbody>\n",
       "</table>\n"
      ],
      "text/plain": [
       "<pandas.io.formats.style.Styler at 0x14b579910>"
      ]
     },
     "execution_count": 4,
     "metadata": {},
     "output_type": "execute_result"
    }
   ],
   "source": [
    "COMPOUNDING = 2\n",
    "\n",
    "pnl_approx = summary.loc[['ytm','duration']].copy()\n",
    "\n",
    "ytm_convergence = pnl_approx.loc['ytm',keyLong] - pnl_approx.loc['ytm',keyShort]\n",
    "pnl_approx.loc['ytm convergence',keyLong] = -ytm_convergence/2\n",
    "pnl_approx.loc['ytm convergence',keyShort] = ytm_convergence/2\n",
    "\n",
    "pnl_approx.loc['modified duration'] = pnl_approx.loc['duration'] / (1+pnl_approx.loc['ytm']/COMPOUNDING)\n",
    "pnl_approx.loc['pct change value'] = -pnl_approx.loc['modified duration'] * pnl_approx.loc['ytm convergence']\n",
    "\n",
    "pnl_approx.loc['pnl'] = pnl_approx.loc['pct change value'] * out['market value']\n",
    "pnl_approx = pnl_approx.T\n",
    "\n",
    "pnl_approx.loc['net','pnl'] = pnl_approx['pnl'].sum()\n",
    "\n",
    "pnl_approx.style.format({'ytm':'{:.2%}','pct change value':'{:.2%}','pnl':'${:,.2f}'})"
   ]
  },
  {
   "cell_type": "markdown",
   "metadata": {},
   "source": [
    "## <span style=\"color:red\">1.5</span>"
   ]
  },
  {
   "cell_type": "markdown",
   "metadata": {},
   "source": [
    "The lower coupon security will have higher convexity and thus **less accurate** approximation of pnl via duration."
   ]
  },
  {
   "cell_type": "code",
   "execution_count": 5,
   "metadata": {},
   "outputs": [
    {
     "data": {
      "text/plain": [
       "'The SHORT position will have a less accurate duration approximation due to higher convexity.'"
      ]
     },
     "metadata": {},
     "output_type": "display_data"
    }
   ],
   "source": [
    "if summary.loc['coupon rate'].idxmin()==keyLong:\n",
    "    idPos = 'LONG'\n",
    "else:\n",
    "    idPos = 'SHORT'\n",
    "    \n",
    "display(f'The {idPos} position will have a less accurate duration approximation due to higher convexity.')"
   ]
  },
  {
   "cell_type": "markdown",
   "metadata": {},
   "source": [
    "## <span style=\"color:red\">1.6</span>"
   ]
  },
  {
   "cell_type": "markdown",
   "metadata": {},
   "source": [
    "Yes, this difference in YTM is consistent with liquidity. The higher YTM is on the instrument that is much older (issued in 1999) and the lower YTM is on the instrument recently issued (\"on-the-run\")."
   ]
  },
  {
   "cell_type": "markdown",
   "metadata": {},
   "source": [
    "## <span style=\"color:red\">1.7</span>"
   ]
  },
  {
   "cell_type": "code",
   "execution_count": 6,
   "metadata": {},
   "outputs": [],
   "source": [
    "from scipy.optimize import fsolve\n",
    "\n",
    "def price_bond(ytm, T, cpn, cpnfreq=2, face=100, accr_frac=None):\n",
    "    ytm_n = ytm/cpnfreq\n",
    "    cpn_n = cpn/cpnfreq\n",
    "    \n",
    "    if accr_frac is None:\n",
    "        accr_frac = (T-round(T))*cpnfreq\n",
    "    \n",
    "    N = T * cpnfreq\n",
    "    price = face * ((cpn_n / ytm_n) * (1-(1+ytm_n)**(-N)) + (1+ytm_n)**(-N)) * (1+ytm_n)**(accr_frac)\n",
    "    return price\n",
    "\n",
    "def ytm(price, T, cpn, cpnfreq=2, face=100, accr_frac=None):\n",
    "    pv_wrapper = lambda y: price - price_bond(y, T, cpn, cpnfreq=cpnfreq, face=face, accr_frac=accr_frac)\n",
    "    ytm = fsolve(pv_wrapper,.01)\n",
    "    return ytm"
   ]
  },
  {
   "cell_type": "code",
   "execution_count": 7,
   "metadata": {},
   "outputs": [
    {
     "data": {
      "text/html": [
       "<style type=\"text/css\">\n",
       "</style>\n",
       "<table id=\"T_022a5\">\n",
       "  <thead>\n",
       "    <tr>\n",
       "      <th class=\"blank level0\" >&nbsp;</th>\n",
       "      <th id=\"T_022a5_level0_col0\" class=\"col_heading level0 col0\" >ytm</th>\n",
       "    </tr>\n",
       "  </thead>\n",
       "  <tbody>\n",
       "    <tr>\n",
       "      <th id=\"T_022a5_level0_row0\" class=\"row_heading level0 row0\" >0</th>\n",
       "      <td id=\"T_022a5_row0_col0\" class=\"data row0 col0\" >3.13%</td>\n",
       "    </tr>\n",
       "    <tr>\n",
       "      <th id=\"T_022a5_level0_row1\" class=\"row_heading level0 row1\" >1</th>\n",
       "      <td id=\"T_022a5_row1_col0\" class=\"data row1 col0\" >3.78%</td>\n",
       "    </tr>\n",
       "  </tbody>\n",
       "</table>\n"
      ],
      "text/plain": [
       "<pandas.io.formats.style.Styler at 0x32dc127c0>"
      ]
     },
     "execution_count": 7,
     "metadata": {},
     "output_type": "execute_result"
    }
   ],
   "source": [
    "TTM = 5.5\n",
    "cpns = summary.loc['coupon rate',:].values\n",
    "prices = [91.02,109.5]\n",
    "\n",
    "ylds = [ytm(prices[i],TTM,cpns[i])[0] for i in range(2)]\n",
    "tab = pd.DataFrame(ylds)\n",
    "tab.columns = ['ytm']\n",
    "tab.style.format('{:.2%}')"
   ]
  },
  {
   "cell_type": "markdown",
   "metadata": {},
   "source": [
    "***"
   ]
  },
  {
   "cell_type": "markdown",
   "metadata": {},
   "source": [
    "# 2. Equity Analytics"
   ]
  },
  {
   "cell_type": "markdown",
   "metadata": {},
   "source": [
    "#### Data\n",
    "\n",
    "This problem requires use of \n",
    "* `select_equity_returns.xlsx`\n",
    "\n",
    "This file has sheets for...\n",
    "* `info` - names of each stock ticker\n",
    "* `single-name stocks` - weekly returns on several stocks\n",
    "* `spy` - weekly returns on SPY\n",
    "\n",
    "Note the data is **weekly** so any annualizations should use `52` weeks in a year."
   ]
  },
  {
   "cell_type": "markdown",
   "metadata": {},
   "source": [
    "### 2.1.\n",
    "\n",
    "Report a table which shows the following stats for each of the single-name stocks. Be sure to **annualize**.\n",
    "* mean\n",
    "* volatility\n",
    "* mean-vol (Sharpe) ratio\n",
    "\n",
    "Which stock seems most attractive? Why?"
   ]
  },
  {
   "cell_type": "markdown",
   "metadata": {},
   "source": [
    "### 2.2.\n",
    "\n",
    "Report the following non-linear risk statistics for the single-name equities, (no annualization needed.)\n",
    "* 5th quantile of returns\n",
    "* maximum drawdown"
   ]
  },
  {
   "cell_type": "markdown",
   "metadata": {},
   "source": [
    "### 2.3.\n",
    "\n",
    "Explain conceptually why the \"market beta\" may be useful in addition to the performance metrics above."
   ]
  },
  {
   "cell_type": "markdown",
   "metadata": {},
   "source": [
    "### 2.4.\n",
    "\n",
    "Calculate the market beta for each of the single-name stocks, with respect to `SPY`.\n",
    "\n",
    "$$r_{i,t} = \\alpha + \\beta\\, r_{\\text{SPY},t} + \\epsilon_t$$"
   ]
  },
  {
   "cell_type": "markdown",
   "metadata": {},
   "source": [
    "### 2.5.\n",
    "\n",
    "Short-answer conclusions...\n",
    "\n",
    "* Suppose the S&P 500 goes up 1%. How much do you expect TSLA to move?\n",
    "\n",
    "* Which stock's return is most explained by the S&P 500?"
   ]
  },
  {
   "cell_type": "markdown",
   "metadata": {},
   "source": [
    "***"
   ]
  },
  {
   "cell_type": "markdown",
   "metadata": {},
   "source": [
    "# <span style=\"color:red\">Solution 2</span>"
   ]
  },
  {
   "cell_type": "code",
   "execution_count": 8,
   "metadata": {},
   "outputs": [],
   "source": [
    "FILEIN = '../data/select_equity_returns.xlsx'\n",
    "sheet_stocks = 'single-name stocks'\n",
    "sheet_spy = 'spy'\n",
    "\n",
    "rets = pd.read_excel(FILEIN, sheet_name=sheet_stocks).set_index('date')\n",
    "spy = pd.read_excel(FILEIN, sheet_name=sheet_spy).set_index('date')"
   ]
  },
  {
   "cell_type": "markdown",
   "metadata": {},
   "source": [
    "## <span style=\"color:red\">2.1</span>"
   ]
  },
  {
   "cell_type": "code",
   "execution_count": 9,
   "metadata": {},
   "outputs": [
    {
     "data": {
      "text/html": [
       "<div>\n",
       "<style scoped>\n",
       "    .dataframe tbody tr th:only-of-type {\n",
       "        vertical-align: middle;\n",
       "    }\n",
       "\n",
       "    .dataframe tbody tr th {\n",
       "        vertical-align: top;\n",
       "    }\n",
       "\n",
       "    .dataframe thead th {\n",
       "        text-align: right;\n",
       "    }\n",
       "</style>\n",
       "<table border=\"1\" class=\"dataframe\">\n",
       "  <thead>\n",
       "    <tr style=\"text-align: right;\">\n",
       "      <th></th>\n",
       "      <th>mean</th>\n",
       "      <th>vol</th>\n",
       "      <th>Sharpe</th>\n",
       "    </tr>\n",
       "  </thead>\n",
       "  <tbody>\n",
       "    <tr>\n",
       "      <th>AAPL</th>\n",
       "      <td>0.319421</td>\n",
       "      <td>0.283883</td>\n",
       "      <td>1.125183</td>\n",
       "    </tr>\n",
       "    <tr>\n",
       "      <th>MSFT</th>\n",
       "      <td>0.288087</td>\n",
       "      <td>0.240206</td>\n",
       "      <td>1.199334</td>\n",
       "    </tr>\n",
       "    <tr>\n",
       "      <th>AMZN</th>\n",
       "      <td>0.239457</td>\n",
       "      <td>0.310389</td>\n",
       "      <td>0.771474</td>\n",
       "    </tr>\n",
       "    <tr>\n",
       "      <th>NVDA</th>\n",
       "      <td>0.650658</td>\n",
       "      <td>0.468096</td>\n",
       "      <td>1.390011</td>\n",
       "    </tr>\n",
       "    <tr>\n",
       "      <th>GOOGL</th>\n",
       "      <td>0.193328</td>\n",
       "      <td>0.274217</td>\n",
       "      <td>0.705020</td>\n",
       "    </tr>\n",
       "    <tr>\n",
       "      <th>TSLA</th>\n",
       "      <td>0.569728</td>\n",
       "      <td>0.607026</td>\n",
       "      <td>0.938556</td>\n",
       "    </tr>\n",
       "    <tr>\n",
       "      <th>XOM</th>\n",
       "      <td>0.124196</td>\n",
       "      <td>0.311613</td>\n",
       "      <td>0.398557</td>\n",
       "    </tr>\n",
       "  </tbody>\n",
       "</table>\n",
       "</div>"
      ],
      "text/plain": [
       "           mean       vol    Sharpe\n",
       "AAPL   0.319421  0.283883  1.125183\n",
       "MSFT   0.288087  0.240206  1.199334\n",
       "AMZN   0.239457  0.310389  0.771474\n",
       "NVDA   0.650658  0.468096  1.390011\n",
       "GOOGL  0.193328  0.274217  0.705020\n",
       "TSLA   0.569728  0.607026  0.938556\n",
       "XOM    0.124196  0.311613  0.398557"
      ]
     },
     "execution_count": 9,
     "metadata": {},
     "output_type": "execute_result"
    }
   ],
   "source": [
    "stats = pd.concat([rets.mean(),rets.std(),rets.mean()/rets.std()],axis=1).rename(columns={0:'mean',1:'vol',2:'Sharpe'})\n",
    "ANNUALIZE = 52\n",
    "stats['mean'] *= ANNUALIZE\n",
    "stats['vol'] *= np.sqrt(ANNUALIZE)\n",
    "stats['Sharpe'] *= np.sqrt(ANNUALIZE)\n",
    "stats"
   ]
  },
  {
   "cell_type": "markdown",
   "metadata": {},
   "source": [
    "Based solely on this table, we might find `NVDA` most attractive in terms of its return-per-risk ratio.\n",
    "\n",
    "Of course, volatility is only one metric for risk, and this ratio is just one measure of reward-per-risk."
   ]
  },
  {
   "cell_type": "markdown",
   "metadata": {},
   "source": [
    "## <span style=\"color:red\">2.2</span>"
   ]
  },
  {
   "cell_type": "code",
   "execution_count": 10,
   "metadata": {},
   "outputs": [],
   "source": [
    "def maximumDrawdown(returns):\n",
    "    cum_returns = (1 + returns).cumprod()\n",
    "    rolling_max = cum_returns.cummax()\n",
    "    drawdown = (cum_returns - rolling_max) / rolling_max\n",
    "\n",
    "    max_drawdown = drawdown.min()\n",
    "    end_date = drawdown.idxmin()\n",
    "    summary = pd.DataFrame({'Max Drawdown': max_drawdown, 'Bottom': end_date})\n",
    "\n",
    "    for col in drawdown:\n",
    "        summary.loc[col,'Peak'] = (rolling_max.loc[:end_date[col],col]).idxmax()\n",
    "        recovery = (drawdown.loc[end_date[col]:,col])\n",
    "        try:\n",
    "            summary.loc[col,'Recover'] = pd.to_datetime(recovery[recovery >= 0].index[0])\n",
    "        except:\n",
    "            summary.loc[col,'Recover'] = pd.to_datetime(None)\n",
    "\n",
    "        summary['Peak'] = pd.to_datetime(summary['Peak'])\n",
    "        try:\n",
    "            summary['Duration (to Recover)'] = (summary['Recover'] - summary['Peak'])\n",
    "        except:\n",
    "            summary['Duration (to Recover)'] = None\n",
    "            \n",
    "        summary = summary[['Max Drawdown','Peak','Bottom','Recover','Duration (to Recover)']]\n",
    "\n",
    "    return summary    "
   ]
  },
  {
   "cell_type": "code",
   "execution_count": 11,
   "metadata": {},
   "outputs": [
    {
     "data": {
      "text/html": [
       "<style type=\"text/css\">\n",
       "</style>\n",
       "<table id=\"T_01e21\">\n",
       "  <thead>\n",
       "    <tr>\n",
       "      <th class=\"blank level0\" >&nbsp;</th>\n",
       "      <th id=\"T_01e21_level0_col0\" class=\"col_heading level0 col0\" >5th quantile</th>\n",
       "      <th id=\"T_01e21_level0_col1\" class=\"col_heading level0 col1\" >Max Drawdown</th>\n",
       "    </tr>\n",
       "  </thead>\n",
       "  <tbody>\n",
       "    <tr>\n",
       "      <th id=\"T_01e21_level0_row0\" class=\"row_heading level0 row0\" >AAPL</th>\n",
       "      <td id=\"T_01e21_row0_col0\" class=\"data row0 col0\" >-5.23%</td>\n",
       "      <td id=\"T_01e21_row0_col1\" class=\"data row0 col1\" >-37.21%</td>\n",
       "    </tr>\n",
       "    <tr>\n",
       "      <th id=\"T_01e21_level0_row1\" class=\"row_heading level0 row1\" >MSFT</th>\n",
       "      <td id=\"T_01e21_row1_col0\" class=\"data row1 col0\" >-4.94%</td>\n",
       "      <td id=\"T_01e21_row1_col1\" class=\"data row1 col1\" >-29.95%</td>\n",
       "    </tr>\n",
       "    <tr>\n",
       "      <th id=\"T_01e21_level0_row2\" class=\"row_heading level0 row2\" >AMZN</th>\n",
       "      <td id=\"T_01e21_row2_col0\" class=\"data row2 col0\" >-6.19%</td>\n",
       "      <td id=\"T_01e21_row2_col1\" class=\"data row2 col1\" >-46.81%</td>\n",
       "    </tr>\n",
       "    <tr>\n",
       "      <th id=\"T_01e21_level0_row3\" class=\"row_heading level0 row3\" >NVDA</th>\n",
       "      <td id=\"T_01e21_row3_col0\" class=\"data row3 col0\" >-8.38%</td>\n",
       "      <td id=\"T_01e21_row3_col1\" class=\"data row3 col1\" >-59.23%</td>\n",
       "    </tr>\n",
       "    <tr>\n",
       "      <th id=\"T_01e21_level0_row4\" class=\"row_heading level0 row4\" >GOOGL</th>\n",
       "      <td id=\"T_01e21_row4_col0\" class=\"data row4 col0\" >-5.57%</td>\n",
       "      <td id=\"T_01e21_row4_col1\" class=\"data row4 col1\" >-34.83%</td>\n",
       "    </tr>\n",
       "    <tr>\n",
       "      <th id=\"T_01e21_level0_row5\" class=\"row_heading level0 row5\" >TSLA</th>\n",
       "      <td id=\"T_01e21_row5_col0\" class=\"data row5 col0\" >-12.25%</td>\n",
       "      <td id=\"T_01e21_row5_col1\" class=\"data row5 col1\" >-68.22%</td>\n",
       "    </tr>\n",
       "    <tr>\n",
       "      <th id=\"T_01e21_level0_row6\" class=\"row_heading level0 row6\" >XOM</th>\n",
       "      <td id=\"T_01e21_row6_col0\" class=\"data row6 col0\" >-6.17%</td>\n",
       "      <td id=\"T_01e21_row6_col1\" class=\"data row6 col1\" >-67.14%</td>\n",
       "    </tr>\n",
       "  </tbody>\n",
       "</table>\n"
      ],
      "text/plain": [
       "<pandas.io.formats.style.Styler at 0x32e5c0d00>"
      ]
     },
     "execution_count": 11,
     "metadata": {},
     "output_type": "execute_result"
    }
   ],
   "source": [
    "risk = maximumDrawdown(rets)\n",
    "risk.insert(0,'5th quantile',rets.quantile(.05).to_frame())\n",
    "risk[['5th quantile', 'Max Drawdown']].style.format('{:.2%}')"
   ]
  },
  {
   "cell_type": "markdown",
   "metadata": {},
   "source": [
    "## <span style=\"color:red\">2.3</span>"
   ]
  },
  {
   "cell_type": "markdown",
   "metadata": {},
   "source": [
    "The performance stats above are all **univariate**. They do not tell us anything about how the stocks perform relative to other assets. The market beta gives a comparison for the overall equity market rather than a comparison to one particular stock.\n",
    "\n",
    "Accordingly, market beta is an important risk metric to understand the asset performance against broad market movements."
   ]
  },
  {
   "cell_type": "markdown",
   "metadata": {},
   "source": [
    "## <span style=\"color:red\">2.4</span>"
   ]
  },
  {
   "cell_type": "code",
   "execution_count": 12,
   "metadata": {},
   "outputs": [
    {
     "data": {
      "text/html": [
       "<div>\n",
       "<style scoped>\n",
       "    .dataframe tbody tr th:only-of-type {\n",
       "        vertical-align: middle;\n",
       "    }\n",
       "\n",
       "    .dataframe tbody tr th {\n",
       "        vertical-align: top;\n",
       "    }\n",
       "\n",
       "    .dataframe thead th {\n",
       "        text-align: right;\n",
       "    }\n",
       "</style>\n",
       "<table border=\"1\" class=\"dataframe\">\n",
       "  <thead>\n",
       "    <tr style=\"text-align: right;\">\n",
       "      <th></th>\n",
       "      <th>SPY</th>\n",
       "      <th>r-squared</th>\n",
       "    </tr>\n",
       "  </thead>\n",
       "  <tbody>\n",
       "    <tr>\n",
       "      <th>AAPL</th>\n",
       "      <td>1.115316</td>\n",
       "      <td>0.483601</td>\n",
       "    </tr>\n",
       "    <tr>\n",
       "      <th>MSFT</th>\n",
       "      <td>1.019508</td>\n",
       "      <td>0.564397</td>\n",
       "    </tr>\n",
       "    <tr>\n",
       "      <th>AMZN</th>\n",
       "      <td>1.037437</td>\n",
       "      <td>0.350011</td>\n",
       "    </tr>\n",
       "    <tr>\n",
       "      <th>NVDA</th>\n",
       "      <td>1.655707</td>\n",
       "      <td>0.391984</td>\n",
       "    </tr>\n",
       "    <tr>\n",
       "      <th>GOOGL</th>\n",
       "      <td>1.071942</td>\n",
       "      <td>0.478768</td>\n",
       "    </tr>\n",
       "    <tr>\n",
       "      <th>TSLA</th>\n",
       "      <td>1.776825</td>\n",
       "      <td>0.268439</td>\n",
       "    </tr>\n",
       "    <tr>\n",
       "      <th>XOM</th>\n",
       "      <td>0.923144</td>\n",
       "      <td>0.274966</td>\n",
       "    </tr>\n",
       "  </tbody>\n",
       "</table>\n",
       "</div>"
      ],
      "text/plain": [
       "            SPY  r-squared\n",
       "AAPL   1.115316   0.483601\n",
       "MSFT   1.019508   0.564397\n",
       "AMZN   1.037437   0.350011\n",
       "NVDA   1.655707   0.391984\n",
       "GOOGL  1.071942   0.478768\n",
       "TSLA   1.776825   0.268439\n",
       "XOM    0.923144   0.274966"
      ]
     },
     "execution_count": 12,
     "metadata": {},
     "output_type": "execute_result"
    }
   ],
   "source": [
    "regstats = get_ols_metrics(spy,rets,annualization=ANNUALIZE)[['SPY','r-squared']]\n",
    "regstats"
   ]
  },
  {
   "cell_type": "markdown",
   "metadata": {},
   "source": [
    "## <span style=\"color:red\">2.5</span>"
   ]
  },
  {
   "cell_type": "markdown",
   "metadata": {},
   "source": [
    "For a `1%` increase in `SPY`, the regression above indicates we should expect a `1.78%` increase in `TSLA`.\n",
    "\n",
    "Of course, the regression beta is just the **expected** movement. The fairly low **r-squared** tells us that this average effect will not be the typical effect.\n",
    "\n",
    "Overall, we see from the r-squared stat that `MSFT` is most explained by `SPY`."
   ]
  },
  {
   "cell_type": "markdown",
   "metadata": {},
   "source": [
    "***"
   ]
  },
  {
   "cell_type": "markdown",
   "metadata": {},
   "source": [
    "***"
   ]
  },
  {
   "cell_type": "markdown",
   "metadata": {},
   "source": [
    "# 3. Short-Answer\n",
    "\n",
    "#### No Data Needed\n",
    "\n",
    "These problems do not require any data file. Rather, analyze them conceptually. "
   ]
  },
  {
   "cell_type": "markdown",
   "metadata": {},
   "source": [
    "### 1.\n",
    "\n",
    "Which likely has higher correlation: two S&P 500 stocks (chosen randomly) or two money-market interest rates (chosen randomly)?"
   ]
  },
  {
   "cell_type": "markdown",
   "metadata": {},
   "source": [
    "### 2.\n",
    "\n",
    "Name a mechanism by which the Fed influences money-market rates. Cite a method used which they did not widely use 20 years ago.\n",
    "\n",
    "Describe a second mechanism the Fed uses to impact rates which is less important in recent times."
   ]
  },
  {
   "cell_type": "markdown",
   "metadata": {},
   "source": [
    "### 3.\n",
    "\n",
    "True or False: We expect high correlation in the relationship between leverage on an asset and the haircut on the asset for purposes of repo."
   ]
  },
  {
   "cell_type": "markdown",
   "metadata": {},
   "source": [
    "### 4.\n",
    "\n",
    "Will the adjusted returns be higher or lower than the unadjusted returns for a stock which is...\n",
    "* paying high dividends\n",
    "* splitting frequently\n",
    "\n",
    "Explain your answer."
   ]
  },
  {
   "cell_type": "markdown",
   "metadata": {},
   "source": [
    "### 5.\n",
    "\n",
    "If SPY is meant to track the S&P 500 (SPX), then why are their returns so different in this chart?\n",
    "\n",
    "![](../refs/return_chart_midterm.png)"
   ]
  },
  {
   "cell_type": "markdown",
   "metadata": {},
   "source": [
    "***"
   ]
  },
  {
   "cell_type": "markdown",
   "metadata": {},
   "source": [
    "# <span style=\"color:red\">Solution 3</span>"
   ]
  },
  {
   "cell_type": "markdown",
   "metadata": {},
   "source": [
    "## <span style=\"color:red\">3.1</span>"
   ]
  },
  {
   "cell_type": "markdown",
   "metadata": {},
   "source": [
    "We expect two money-market rates have much higher correlation than the average pairwise correlation of equities. The former correlation may well be over 90%, whereas the latter is expected to be closer to 60%."
   ]
  },
  {
   "cell_type": "markdown",
   "metadata": {},
   "source": [
    "## <span style=\"color:red\">3.2</span>"
   ]
  },
  {
   "cell_type": "markdown",
   "metadata": {},
   "source": [
    "Recently, the Fed's (arguably) most important method for setting money market rates is the Fed's **repo** facility. This allows them to borrow and lend at a set rate with both banks and non-bank financial firms.\n",
    "\n",
    "Another medium-term mechanism (fine to list as a recent / present) is setting interest on reserves.\n",
    "\n",
    "Traditionally, the Fed's influence was primarily via adjusting the demand and supply of reserves. Setting the demand and supply of these reserves allowed them to set the **Fed Funds rate.** This mechanism has become less important in an error where banks have abundant excess reserves, so there is less trading of reserves."
   ]
  },
  {
   "cell_type": "markdown",
   "metadata": {},
   "source": [
    "## <span style=\"color:red\">3.3</span>"
   ]
  },
  {
   "cell_type": "markdown",
   "metadata": {},
   "source": [
    "We learned that a haircut is the amount of capital we must fund. Thus, lower haircuts allow us to fund the position with higher debt and leverage. Accordingly, we'd expect a **negative** correlation between the size of the haircut on an asset and the leverage of the position."
   ]
  },
  {
   "cell_type": "markdown",
   "metadata": {},
   "source": [
    "## <span style=\"color:red\">3.4</span>"
   ]
  },
  {
   "cell_type": "markdown",
   "metadata": {},
   "source": [
    "Adjusted returns will be **higher**. The dividends are part of the return, and they are not shown in the unadjusted price series. Similarly, splits will show up in the unadjusted price series as drops in price. The adjusted series will add in the dividends and ensure the splits do not decrease the price series. Both these things lead the adjusted prices (and derived returns) to be higher."
   ]
  },
  {
   "cell_type": "markdown",
   "metadata": {},
   "source": [
    "## <span style=\"color:red\">3.5</span>"
   ]
  },
  {
   "cell_type": "markdown",
   "metadata": {},
   "source": [
    "SPY tracks SPX, but we learned the ETF (SPY) collects and pays dividends on the underlying stocks, whereas the index itself (SPX) does not. "
   ]
  },
  {
   "cell_type": "markdown",
   "metadata": {},
   "source": [
    "***"
   ]
  },
  {
   "cell_type": "markdown",
   "metadata": {},
   "source": [
    "***"
   ]
  }
 ],
 "metadata": {
  "hide_input": false,
  "kernelspec": {
   "display_name": "Python 3 (ipykernel)",
   "language": "python",
   "name": "python3"
  },
  "language_info": {
   "codemirror_mode": {
    "name": "ipython",
    "version": 3
   },
   "file_extension": ".py",
   "mimetype": "text/x-python",
   "name": "python",
   "nbconvert_exporter": "python",
   "pygments_lexer": "ipython3",
   "version": "3.9.6"
  }
 },
 "nbformat": 4,
 "nbformat_minor": 4
}
