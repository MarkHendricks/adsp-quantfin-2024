{
 "cells": [
  {
   "cell_type": "markdown",
   "metadata": {},
   "source": [
    "# Exam 2\n",
    "\n",
    "## Financial Analytics\n",
    "\n",
    "### UChicago ADSP\n",
    "\n",
    "#### Spring 2024\n",
    "* Mark Hendricks\n",
    "* hendricks@uchicago.edu"
   ]
  },
  {
   "cell_type": "markdown",
   "metadata": {},
   "source": [
    "***"
   ]
  },
  {
   "cell_type": "markdown",
   "metadata": {},
   "source": [
    "# Instructions"
   ]
  },
  {
   "cell_type": "markdown",
   "metadata": {},
   "source": [
    "## Please note the following:\n",
    "\n",
    "Time\n",
    "* You have 90 minutes to complete the exam.\n",
    "* For every minute late you submit the exam, you will lose one point.\n",
    "\n",
    "Submission\n",
    "* You will upload your solution to the Exam \"assignment\" on Canvas.\n",
    "* Your submission should be readable, (the graders can understand your answers,) and it should include all code used in your analysis in a file format that the code can be executed. (ie. .ipynb preferred, .pdf is unacceptable.)\n",
    "\n",
    "Rules\n",
    "* The exam is open-material, closed-communication.\n",
    "* You do not need to cite material from the course github repo--you are welcome to use the code posted there without citation, (only for this exam.)\n",
    "\n",
    "Advice\n",
    "* If you find any question to be unclear, state your interpretation and proceed. We will only answer questions of interpretation if there is a typo, error, etc.\n",
    "* The exam will be graded for partial credit."
   ]
  },
  {
   "cell_type": "markdown",
   "metadata": {},
   "source": [
    "## Data\n",
    "\n",
    "**All data files are found in the class github repo, in the `data` folder.**\n",
    "\n",
    "This exam makes use of the following data files:\n",
    "\n",
    "#### Section 2\n",
    "* New file: `data/option_data_AAPL.xlsx`\n",
    "* New file: `data/exam_2_btc_futures.xlsx`\n",
    "* Existing file: `data/equity_data.xlsx`"
   ]
  },
  {
   "cell_type": "markdown",
   "metadata": {},
   "source": [
    "## Scoring\n",
    "\n",
    "| Problem | Points |\n",
    "|---------|--------|\n",
    "| 1       | 35     |\n",
    "| 2       | 30     |\n",
    "| 3       | 20     |\n",
    "| **Total**   | **85**|"
   ]
  },
  {
   "cell_type": "markdown",
   "metadata": {},
   "source": [
    "### Each numbered question is worth 5 points unless otherwise specified."
   ]
  },
  {
   "cell_type": "markdown",
   "metadata": {},
   "source": [
    "***"
   ]
  },
  {
   "cell_type": "markdown",
   "metadata": {},
   "source": [
    "# 1 Equity Options\n",
    "\n",
    "Use the data in `data/option_data_AAPL.xlsx`.\n",
    "\n",
    "Where needed, use the options prices reported in `lastPrice`, (rather than `bid` or `ask`.)"
   ]
  },
  {
   "cell_type": "markdown",
   "metadata": {},
   "source": [
    "### 1.1\n",
    "Consider the `AAPL` options expiring on `2024-05-17`, and $\\tau$, can be rounded to be exactly `10/252` years.\n",
    "* Compare $c-p$ to $S-K$ and $S-K^*$.\n",
    "\n",
    "Answer the following\n",
    "* What model or logic implies that these calculations are related? \n",
    "* What would change about this comparison if we assumed `AAPL` pays a dividend tomorrow?\n",
    "\n",
    "(Going forward, assume `AAPL` does not pay a dividend within the timeframe we are considering.)"
   ]
  },
  {
   "cell_type": "markdown",
   "metadata": {},
   "source": [
    "### 1.2\n",
    "Assume that options are American and will be exercised immediately.\n",
    "\n",
    "* Is the call-put spread priced too high or too low?\n",
    "\n",
    "* How you could trade the difference. Be specific."
   ]
  },
  {
   "cell_type": "markdown",
   "metadata": {},
   "source": [
    "### 1.3\n",
    "\n",
    "Chart the strike (horizontal axis) against the implied volatility (vertical axis) as indicated by the `2024-05-17` options reported in `call chain` and `put chain`.\n",
    "\n",
    "What should we understand from the shape of this graph about...\n",
    "\n",
    "* the Black-Scholes model?\n",
    "* investor preferences?"
   ]
  },
  {
   "cell_type": "markdown",
   "metadata": {},
   "source": [
    "### 1.4\n",
    "\n",
    "Calculate the implied volatility of the `2024-05-17` calls struck at `180`. \n",
    "\n",
    "Should this implied volatility match the historic volatility of the stock? Why or why not?"
   ]
  },
  {
   "cell_type": "markdown",
   "metadata": {},
   "source": [
    "### 1.5\n",
    "\n",
    "For the `2024-05-17` put struck at `180`, report the following:\n",
    "* delta\n",
    "* gamma\n",
    "* theta "
   ]
  },
  {
   "cell_type": "markdown",
   "metadata": {},
   "source": [
    "### 1.6\n",
    "Suppose you **are short** options expiring `2024-05-17`...\n",
    "* 3 puts struck at `170`\n",
    "* 3 calls struck at `190`\n",
    "\n",
    "Plot the price of `AAPL` versus the final NET payoff (or cost) of these options. \n",
    "* The net payoff will subtract the cost of buying the options.\n",
    "\n",
    "Someone holding this position is hoping for what kind of `AAPL` movement?"
   ]
  },
  {
   "cell_type": "markdown",
   "metadata": {},
   "source": [
    "### 1.7"
   ]
  },
  {
   "cell_type": "markdown",
   "metadata": {},
   "source": [
    "Suppose you go long an `AAPL` call while also shorting $N$ shares of `AAPL` stock, where $N$ equals the delta of the call option.\n",
    "\n",
    "Explain what is meant by the \"gamma\" of this position."
   ]
  },
  {
   "cell_type": "markdown",
   "metadata": {},
   "source": [
    "***"
   ]
  },
  {
   "cell_type": "markdown",
   "metadata": {},
   "source": [
    "# 2. Futures Contracts"
   ]
  },
  {
   "cell_type": "markdown",
   "metadata": {},
   "source": [
    "The data in the `price` tab of `exam_2_btc_futures.xlsx` gives a small sample of price data on two different futures contracts.\n",
    "\n",
    "Both contracts are for `BTC`, bitcoin.\n",
    "\n",
    "Consider a strategy of \n",
    "* buying **1** front contract at the end of `2024-04-22`.\n",
    "* rolling it, (still one contract,) at the end of `2024-04-25`.\n",
    "* exiting your position at the end of `2024-04-30`.\n",
    "\n",
    "The contract size is `5`, so even for one contract, the contract price is `5x` the price shown in the series."
   ]
  },
  {
   "cell_type": "markdown",
   "metadata": {},
   "source": [
    "### 2.1\n",
    "\n",
    "Report the \n",
    "* daily profit (loss) throughout the trade.\n",
    "* total profit"
   ]
  },
  {
   "cell_type": "markdown",
   "metadata": {},
   "source": [
    "### 2.2\n",
    "\n",
    "Based on this short sample, (no need to look at further data,) would you conclude that `BTC` is in backwardation or contango? Explain your reasoning."
   ]
  },
  {
   "cell_type": "markdown",
   "metadata": {},
   "source": [
    "### 2.3\n",
    "\n",
    "What economic reasons might explain this backwardation or contango for `BTC`?"
   ]
  },
  {
   "cell_type": "markdown",
   "metadata": {},
   "source": [
    "### 2.4\n",
    "\n",
    "Regardless of your answers above, suppose that today we observe the oil futures curve in steep contango over the next year. What trade would you suggest putting on to profit from this?"
   ]
  },
  {
   "cell_type": "markdown",
   "metadata": {},
   "source": [
    "### 2.5\n",
    "\n",
    "Suppose that instead you had a **continuous** futures series, (`BTC1`), which reports the price of the front contract on any given day. You naively take the day-over-day difference of this series to calculate a history of profit (loss) to holding bitcoin.\n",
    "\n",
    "Do you suspect it would underreport or overreport the profits of holding bitcoin? Why?"
   ]
  },
  {
   "cell_type": "markdown",
   "metadata": {},
   "source": [
    "### 2.6\n",
    "\n",
    "For futures contracts written on securities (such as Bitcoin or the S&P500) what is a pragmatic reason that traders may prefer trading the future contract of a security rather than the security itself?\n",
    "\n",
    "While many answers may be relevant, focus on the issue most discussed in class."
   ]
  },
  {
   "cell_type": "markdown",
   "metadata": {},
   "source": [
    "***"
   ]
  },
  {
   "cell_type": "markdown",
   "metadata": {},
   "source": [
    "# 3. Miscellaneous"
   ]
  },
  {
   "cell_type": "markdown",
   "metadata": {},
   "source": [
    "### 1.\n",
    "\n",
    "Calculate the YTM of the US Treasury with the following parameters:\n",
    "\n",
    "* time-to-maturity is 2 years\n",
    "* coupon is 0.75% per year\n",
    "* price is 92.11\n",
    "\n",
    "What coupon amount would be required for this treasury to have a price above 100?"
   ]
  },
  {
   "cell_type": "markdown",
   "metadata": {},
   "source": [
    "### 2. (10 pts)\n",
    "\n",
    "Use the data in `data/equity_data.xlsx`, in the tab, `prices AAPL`.\n",
    "\n",
    "Calculate the maximum drawdown of AAPL returns over this time.\n",
    "\n",
    "Comment on whether you are using the adjusted or unadjusted return series, and why."
   ]
  },
  {
   "cell_type": "markdown",
   "metadata": {},
   "source": [
    "### 3.\n",
    "\n",
    "Below is a picture of a perfectly delta-hedged option position.\n",
    "\n",
    "Given that it has non-negative value for every underlying stock value, why doesn't everyone hold this position?\n",
    "\n",
    "![](../refs/delta_hedge_midterm.png)"
   ]
  },
  {
   "cell_type": "markdown",
   "metadata": {},
   "source": [
    "***"
   ]
  }
 ],
 "metadata": {
  "hide_input": false,
  "kernelspec": {
   "display_name": "Python 3 (ipykernel)",
   "language": "python",
   "name": "python3"
  },
  "language_info": {
   "codemirror_mode": {
    "name": "ipython",
    "version": 3
   },
   "file_extension": ".py",
   "mimetype": "text/x-python",
   "name": "python",
   "nbconvert_exporter": "python",
   "pygments_lexer": "ipython3",
   "version": "3.9.6"
  }
 },
 "nbformat": 4,
 "nbformat_minor": 4
}
