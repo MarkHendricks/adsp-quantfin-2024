{
 "cells": [
  {
   "cell_type": "markdown",
   "id": "d25ce9f7",
   "metadata": {},
   "source": [
    "# W.1. Equity Indexes and ETFs\n",
    "\n",
    "## Financial Analytics\n",
    "\n",
    "### UChicago ADSP\n",
    "\n",
    "#### Spring 2024\n",
    "\n",
    "* Mark Hendricks\n",
    "* hendricks@uchicago.edu"
   ]
  },
  {
   "cell_type": "code",
   "execution_count": 1,
   "id": "2211c6a0",
   "metadata": {},
   "outputs": [],
   "source": [
    "import pandas as pd\n",
    "import numpy as np\n",
    "import datetime\n",
    "import warnings\n",
    "\n",
    "from sklearn.linear_model import LinearRegression\n",
    "from sklearn.decomposition import PCA\n",
    "from scipy.optimize import minimize\n",
    "\n",
    "import matplotlib.pyplot as plt\n",
    "%matplotlib inline\n",
    "plt.rcParams['figure.figsize'] = (12,6)\n",
    "plt.rcParams['font.size'] = 15\n",
    "plt.rcParams['legend.fontsize'] = 13\n",
    "\n",
    "from matplotlib.ticker import (MultipleLocator,\n",
    "                               FormatStrFormatter,\n",
    "                               AutoMinorLocator)\n",
    "\n",
    "import seaborn as sns\n",
    "\n",
    "import sys\n",
    "sys.path.insert(0, '../cmds')\n",
    "from utils import *\n",
    "from portfolio import *"
   ]
  },
  {
   "cell_type": "markdown",
   "id": "ba5384d4",
   "metadata": {},
   "source": [
    "# Equities"
   ]
  },
  {
   "cell_type": "markdown",
   "id": "99c8c966",
   "metadata": {},
   "source": [
    "## Capital Structure\n",
    "\n",
    "### Funding\n",
    "\n",
    "Assets are funded by investors, primarily via one of two types of investor claims:\n",
    "* debt - senior, fixed (scheduled) claim\n",
    "* equity - junior, residual claim\n",
    "\n",
    "This is true of any assets, including\n",
    "* publicly-listed companies\n",
    "* privately-listed companies\n",
    "* private equity funds\n",
    "* hedge funds\n",
    "\n",
    "### Stocks\n",
    "\n",
    "Stocks are equity claims on assets of a corporation.\n",
    "* Stockholders have a junior claim on the assets and income of the firm.\n",
    "* Namely, they receive whatever is left over after all other claimants (suppliers, tax collectors, creditors, etc.) have been paid.\n",
    "* The firm can pay out the residual as dividends or reinvest it in the firm which increases the value of the shares.\n",
    "\n",
    "\n",
    "### Limited Liability\n",
    "\n",
    "Limited liability means that shareholders are not accountable for a firm’s obligations.\n",
    "* Losses are limited to the original investment.\n",
    "* Equity claim is similar to a call option on a firm’s overall value.\n",
    "* Compare this to unincorporated businesses where owners are personally liable."
   ]
  },
  {
   "cell_type": "markdown",
   "id": "d0697001",
   "metadata": {},
   "source": [
    "### Market size and ownership\n",
    "\n",
    "Of all types of capital market securities, stocks have the most market value.\n",
    "* However, annual new issues are much smaller than that of corporate bonds.\n",
    "* Annual new issues are less than 1% of the market value of equities.\n",
    "* About half of stocks are held by individuals. \n",
    "* The other half are held by institutional investors such as pension funds, mutual funds, and insurance companies."
   ]
  },
  {
   "cell_type": "markdown",
   "id": "2ce6967f",
   "metadata": {},
   "source": [
    "## Types of stock\n",
    "Consider two types of stock.\n",
    "* **Common stock** is a simple equity claim. It may or may not have voting rights.\n",
    "* **Preferred stock** is like a hybrid of equity and debt. Like debt, it has no voting rights. \n",
    "\n",
    "If no specification is made, “stock” typically refers to common stock, a pure equity claim."
   ]
  },
  {
   "cell_type": "markdown",
   "id": "64fa9634",
   "metadata": {},
   "source": [
    "### Preferred stock\n",
    "\n",
    "Consider some ways preferred is like debt and also equity.\n",
    "* It has a stated dividend rate, which is similar to a coupon rate on a bond.\n",
    "* Unlike a bond, the dividend does not have to be paid.\n",
    "* However, common stockholders cannot be paid dividends until\n",
    "preferred dividends are paid.\n",
    "* In fact, usually the cumulative preferred dividend must be paid first.\n",
    "\n",
    "#### Tax Treatment\n",
    "Preferred stock has favorable tax treatment, which leads to special demand and supply of it."
   ]
  },
  {
   "cell_type": "markdown",
   "id": "e81b320b",
   "metadata": {},
   "source": [
    "### Dual Shares\n",
    "\n",
    "Some firms have dual share classes, such as an A and B series of shares. Motives include:\n",
    "- Concentrating control by giving a smaller class much higher voting power\n",
    "- Ease issues with listing on various exchanges\n",
    "\n",
    "Examples include Google, Facebook, and Berkshire Hathaway"
   ]
  },
  {
   "cell_type": "markdown",
   "id": "5e5c194c",
   "metadata": {},
   "source": [
    "## Stock Categorization\n",
    "\n",
    "In trading, it is common to group equities by\n",
    "- geographical location\n",
    "- sector\n",
    "- size \n",
    "- style\n",
    "\n",
    "A few comments on this.\n",
    "\n",
    "### Cap\n",
    "\n",
    "The term \"cap\" typically refers to **equity capitalization** which is the total **market** value of the firm's equity.\n",
    "\n",
    "Thus, a stock will be bucketed as **small cap, mid cap, large cap**.\n",
    "\n",
    "### Sector / Industry\n",
    "There are a number of common sector/industry classifications.\n",
    "\n",
    "The Global Industry Classification Standard (GICS) is a popular classification, but there are many.\n",
    "\n",
    "GICS has a top level of 11 Sectors subdivided by Industry Group, Industry and Sub-Industry.\n",
    "\n",
    "Reference: https://www.msci.com/our-solutions/indexes/gics"
   ]
  },
  {
   "cell_type": "markdown",
   "id": "25b36dd7",
   "metadata": {},
   "source": [
    "## Style\n",
    "\n",
    "**Style analysis** refers to grouping stocks by various measures.\n",
    "\n",
    "### Book Metrics\n",
    "\n",
    "\"Book\" measures refer to data from financial reporting (accounting).\n",
    "- These book measures are not the same as actual market values.\n",
    "- This is especially important to note for the book value of equity, the *book* capitalization.\n",
    "\n",
    "#### Financial Statements\n",
    "- balance sheet\n",
    "- income statment\n",
    "- statement of cashflows\n",
    "\n",
    "#### Earnings\n",
    "For now, all that will be noted about earnings is that they are a book (accounting) measure of profits, **not an actual cashflow.**\n",
    "\n",
    "Dividends are an actual market cashflow."
   ]
  },
  {
   "cell_type": "markdown",
   "id": "b47e582e",
   "metadata": {},
   "source": [
    "### Book-to-Market\n",
    "\n",
    "The book-to-market (B/M) ratio is the market value of equity divided by the book (balance sheet) value of equity.\n",
    "\n",
    "High B/M means strong (accounting) fundamentals per market-value-dollar.\n",
    "- High B/M are value stocks.\n",
    "- Low B/M are growth stocks.\n",
    "\n",
    "### Value and Growth\n",
    "Many other measures of value based on some cash-flow or accounting value per market price.\n",
    "- Earnings-price is a popular metric beyond value portfolios. Like B/M, the E/P ratio is accounting value per market valuation.\n",
    "- EBITDA-price is similar, but uses accounting measure of profit that ignores taxes, financing, and depreciation.\n",
    "- Dividend-price uses common dividends, but less useful for individual firms as many have no dividends.\n",
    "\n",
    "Many competing claims to special/better measure of ‘value’.\n",
    "\n",
    "### Other Styles\n",
    "Group stocks by\n",
    "- Price movement. Momentum, mean reversion, etc.\n",
    "- Volatility. Realized return volatility, market beta, etc.\n",
    "- Profitability.*\n",
    "- Investment.*\n",
    "\n",
    "*As measured in financial statements."
   ]
  },
  {
   "cell_type": "markdown",
   "id": "76eaba7d",
   "metadata": {},
   "source": [
    "# Returns and Trading"
   ]
  },
  {
   "cell_type": "markdown",
   "id": "3d3b1599",
   "metadata": {},
   "source": [
    "## Common Stock Returns\n",
    "\n",
    "Unlike bonds, common stocks do NOT have a\n",
    "* maturity\n",
    "* (relevant) face value\n",
    "\n",
    "Rather, the notable features determining returns are\n",
    "* dividends\n",
    "* price appreciation"
   ]
  },
  {
   "cell_type": "markdown",
   "id": "c7620dc6",
   "metadata": {},
   "source": [
    "## Dividends"
   ]
  },
  {
   "cell_type": "code",
   "execution_count": 2,
   "id": "43f64b3f",
   "metadata": {},
   "outputs": [],
   "source": [
    "INFILE = f'../data/equity_data.xlsx'\n",
    "TICK = 'AAPL'\n",
    "TICKETF = 'SPY'\n",
    "TICKIDX = 'SPX'"
   ]
  },
  {
   "cell_type": "code",
   "execution_count": 3,
   "id": "fb3893cf",
   "metadata": {},
   "outputs": [
    {
     "data": {
      "text/html": [
       "<style type=\"text/css\">\n",
       "</style>\n",
       "<table id=\"T_5cf76\">\n",
       "  <caption>Dividends for AAPL.</caption>\n",
       "  <thead>\n",
       "    <tr>\n",
       "      <th class=\"blank level0\" >&nbsp;</th>\n",
       "      <th id=\"T_5cf76_level0_col0\" class=\"col_heading level0 col0\" >declared_date</th>\n",
       "      <th id=\"T_5cf76_level0_col1\" class=\"col_heading level0 col1\" >ex_date</th>\n",
       "      <th id=\"T_5cf76_level0_col2\" class=\"col_heading level0 col2\" >payable_date</th>\n",
       "      <th id=\"T_5cf76_level0_col3\" class=\"col_heading level0 col3\" >dividend_amount</th>\n",
       "      <th id=\"T_5cf76_level0_col4\" class=\"col_heading level0 col4\" >dividend_frequency</th>\n",
       "      <th id=\"T_5cf76_level0_col5\" class=\"col_heading level0 col5\" >dividend_type</th>\n",
       "    </tr>\n",
       "    <tr>\n",
       "      <th class=\"index_name level0\" >record_date</th>\n",
       "      <th class=\"blank col0\" >&nbsp;</th>\n",
       "      <th class=\"blank col1\" >&nbsp;</th>\n",
       "      <th class=\"blank col2\" >&nbsp;</th>\n",
       "      <th class=\"blank col3\" >&nbsp;</th>\n",
       "      <th class=\"blank col4\" >&nbsp;</th>\n",
       "      <th class=\"blank col5\" >&nbsp;</th>\n",
       "    </tr>\n",
       "  </thead>\n",
       "  <tbody>\n",
       "    <tr>\n",
       "      <th id=\"T_5cf76_level0_row0\" class=\"row_heading level0 row0\" >2024-02-12 00:00:00</th>\n",
       "      <td id=\"T_5cf76_row0_col0\" class=\"data row0 col0\" >2024-02-01 00:00:00</td>\n",
       "      <td id=\"T_5cf76_row0_col1\" class=\"data row0 col1\" >2024-02-09 00:00:00</td>\n",
       "      <td id=\"T_5cf76_row0_col2\" class=\"data row0 col2\" >2024-02-15 00:00:00</td>\n",
       "      <td id=\"T_5cf76_row0_col3\" class=\"data row0 col3\" >0.240000</td>\n",
       "      <td id=\"T_5cf76_row0_col4\" class=\"data row0 col4\" >Quarter</td>\n",
       "      <td id=\"T_5cf76_row0_col5\" class=\"data row0 col5\" >Regular Cash</td>\n",
       "    </tr>\n",
       "    <tr>\n",
       "      <th id=\"T_5cf76_level0_row1\" class=\"row_heading level0 row1\" >2023-11-13 00:00:00</th>\n",
       "      <td id=\"T_5cf76_row1_col0\" class=\"data row1 col0\" >2023-11-02 00:00:00</td>\n",
       "      <td id=\"T_5cf76_row1_col1\" class=\"data row1 col1\" >2023-11-10 00:00:00</td>\n",
       "      <td id=\"T_5cf76_row1_col2\" class=\"data row1 col2\" >2023-11-16 00:00:00</td>\n",
       "      <td id=\"T_5cf76_row1_col3\" class=\"data row1 col3\" >0.240000</td>\n",
       "      <td id=\"T_5cf76_row1_col4\" class=\"data row1 col4\" >Quarter</td>\n",
       "      <td id=\"T_5cf76_row1_col5\" class=\"data row1 col5\" >Regular Cash</td>\n",
       "    </tr>\n",
       "    <tr>\n",
       "      <th id=\"T_5cf76_level0_row2\" class=\"row_heading level0 row2\" >2023-08-14 00:00:00</th>\n",
       "      <td id=\"T_5cf76_row2_col0\" class=\"data row2 col0\" >2023-08-03 00:00:00</td>\n",
       "      <td id=\"T_5cf76_row2_col1\" class=\"data row2 col1\" >2023-08-11 00:00:00</td>\n",
       "      <td id=\"T_5cf76_row2_col2\" class=\"data row2 col2\" >2023-08-17 00:00:00</td>\n",
       "      <td id=\"T_5cf76_row2_col3\" class=\"data row2 col3\" >0.240000</td>\n",
       "      <td id=\"T_5cf76_row2_col4\" class=\"data row2 col4\" >Quarter</td>\n",
       "      <td id=\"T_5cf76_row2_col5\" class=\"data row2 col5\" >Regular Cash</td>\n",
       "    </tr>\n",
       "    <tr>\n",
       "      <th id=\"T_5cf76_level0_row3\" class=\"row_heading level0 row3\" >2023-05-15 00:00:00</th>\n",
       "      <td id=\"T_5cf76_row3_col0\" class=\"data row3 col0\" >2023-05-04 00:00:00</td>\n",
       "      <td id=\"T_5cf76_row3_col1\" class=\"data row3 col1\" >2023-05-12 00:00:00</td>\n",
       "      <td id=\"T_5cf76_row3_col2\" class=\"data row3 col2\" >2023-05-18 00:00:00</td>\n",
       "      <td id=\"T_5cf76_row3_col3\" class=\"data row3 col3\" >0.240000</td>\n",
       "      <td id=\"T_5cf76_row3_col4\" class=\"data row3 col4\" >Quarter</td>\n",
       "      <td id=\"T_5cf76_row3_col5\" class=\"data row3 col5\" >Regular Cash</td>\n",
       "    </tr>\n",
       "    <tr>\n",
       "      <th id=\"T_5cf76_level0_row4\" class=\"row_heading level0 row4\" >2023-02-13 00:00:00</th>\n",
       "      <td id=\"T_5cf76_row4_col0\" class=\"data row4 col0\" >2023-02-02 00:00:00</td>\n",
       "      <td id=\"T_5cf76_row4_col1\" class=\"data row4 col1\" >2023-02-10 00:00:00</td>\n",
       "      <td id=\"T_5cf76_row4_col2\" class=\"data row4 col2\" >2023-02-16 00:00:00</td>\n",
       "      <td id=\"T_5cf76_row4_col3\" class=\"data row4 col3\" >0.230000</td>\n",
       "      <td id=\"T_5cf76_row4_col4\" class=\"data row4 col4\" >Quarter</td>\n",
       "      <td id=\"T_5cf76_row4_col5\" class=\"data row4 col5\" >Regular Cash</td>\n",
       "    </tr>\n",
       "    <tr>\n",
       "      <th id=\"T_5cf76_level0_row5\" class=\"row_heading level0 row5\" >2022-11-07 00:00:00</th>\n",
       "      <td id=\"T_5cf76_row5_col0\" class=\"data row5 col0\" >2022-10-27 00:00:00</td>\n",
       "      <td id=\"T_5cf76_row5_col1\" class=\"data row5 col1\" >2022-11-04 00:00:00</td>\n",
       "      <td id=\"T_5cf76_row5_col2\" class=\"data row5 col2\" >2022-11-10 00:00:00</td>\n",
       "      <td id=\"T_5cf76_row5_col3\" class=\"data row5 col3\" >0.230000</td>\n",
       "      <td id=\"T_5cf76_row5_col4\" class=\"data row5 col4\" >Quarter</td>\n",
       "      <td id=\"T_5cf76_row5_col5\" class=\"data row5 col5\" >Regular Cash</td>\n",
       "    </tr>\n",
       "    <tr>\n",
       "      <th id=\"T_5cf76_level0_row6\" class=\"row_heading level0 row6\" >2022-08-08 00:00:00</th>\n",
       "      <td id=\"T_5cf76_row6_col0\" class=\"data row6 col0\" >2022-07-28 00:00:00</td>\n",
       "      <td id=\"T_5cf76_row6_col1\" class=\"data row6 col1\" >2022-08-05 00:00:00</td>\n",
       "      <td id=\"T_5cf76_row6_col2\" class=\"data row6 col2\" >2022-08-11 00:00:00</td>\n",
       "      <td id=\"T_5cf76_row6_col3\" class=\"data row6 col3\" >0.230000</td>\n",
       "      <td id=\"T_5cf76_row6_col4\" class=\"data row6 col4\" >Quarter</td>\n",
       "      <td id=\"T_5cf76_row6_col5\" class=\"data row6 col5\" >Regular Cash</td>\n",
       "    </tr>\n",
       "    <tr>\n",
       "      <th id=\"T_5cf76_level0_row7\" class=\"row_heading level0 row7\" >2022-05-09 00:00:00</th>\n",
       "      <td id=\"T_5cf76_row7_col0\" class=\"data row7 col0\" >2022-04-28 00:00:00</td>\n",
       "      <td id=\"T_5cf76_row7_col1\" class=\"data row7 col1\" >2022-05-06 00:00:00</td>\n",
       "      <td id=\"T_5cf76_row7_col2\" class=\"data row7 col2\" >2022-05-12 00:00:00</td>\n",
       "      <td id=\"T_5cf76_row7_col3\" class=\"data row7 col3\" >0.230000</td>\n",
       "      <td id=\"T_5cf76_row7_col4\" class=\"data row7 col4\" >Quarter</td>\n",
       "      <td id=\"T_5cf76_row7_col5\" class=\"data row7 col5\" >Regular Cash</td>\n",
       "    </tr>\n",
       "  </tbody>\n",
       "</table>\n"
      ],
      "text/plain": [
       "<pandas.io.formats.style.Styler at 0x159a517f0>"
      ]
     },
     "execution_count": 3,
     "metadata": {},
     "output_type": "execute_result"
    }
   ],
   "source": [
    "dvds = pd.read_excel(INFILE,sheet_name=f'dividends {TICK}').set_index('record_date')\n",
    "dvds[dvds['dividend_type']=='Regular Cash'].head(8).style.set_caption(f'Dividends for {TICK}.')"
   ]
  },
  {
   "cell_type": "code",
   "execution_count": null,
   "id": "a071886a",
   "metadata": {},
   "outputs": [],
   "source": [
    "spy = pd.read_excel(INFILE,sheet_name=f'{TICKETF} history').set_index('date')\n",
    "spy['EQY_DVD_YLD_IND'].rolling(21).mean().plot(title='History S&P 500 Dividends (per price)',ylabel=('dividend yield (SPY)'));"
   ]
  },
  {
   "cell_type": "markdown",
   "id": "fa46f30a",
   "metadata": {},
   "source": [
    "## Corporate Actions"
   ]
  },
  {
   "cell_type": "code",
   "execution_count": null,
   "id": "3189e70b",
   "metadata": {},
   "outputs": [],
   "source": [
    "prices = pd.read_excel(INFILE,sheet_name=f'prices {TICK}').set_index('date')\n",
    "\n",
    "prices['Unadjusted Price'].plot(title=TICK, ylabel='price', legend=['unadjusted price']);"
   ]
  },
  {
   "cell_type": "markdown",
   "id": "fb0f0126",
   "metadata": {},
   "source": [
    "What is going on here? \n",
    "- Has Apple really shown so little growth since 2005?\n",
    "- Has Apple really crashed so hard?"
   ]
  },
  {
   "cell_type": "code",
   "execution_count": null,
   "id": "bb0982d2",
   "metadata": {},
   "outputs": [],
   "source": [
    "dvds[dvds['dividend_type']=='Stock Split'].rename(columns={'dividend_amount':'split ratio'}).loc[:,['split ratio']].style.set_caption(f'{TICK}')"
   ]
  },
  {
   "cell_type": "markdown",
   "id": "04670eab",
   "metadata": {},
   "source": [
    "## Adjusted Prices\n",
    "\n",
    "The **adjusted** price is\n",
    "* the same as the actual price on the final value of the timeseries.\n",
    "* readjusted backward through time, so earlier dates may diverge greatly\n",
    "* ensures a historically accurate return series can be computed\n",
    "\n",
    "The adjusted price incorporates\n",
    "* regular dividends\n",
    "* special dividends\n",
    "* stock splits"
   ]
  },
  {
   "cell_type": "code",
   "execution_count": null,
   "id": "34503ac3",
   "metadata": {
    "scrolled": false
   },
   "outputs": [],
   "source": [
    "prices[['Unadjusted Price','Adjusted Price']].plot(title=TICK, ylabel='price');"
   ]
  },
  {
   "cell_type": "markdown",
   "id": "9cdda788",
   "metadata": {},
   "source": [
    "### <span style=\"background-color:LightSteelBlue\">Technical Point: Computation of adjusted price</span>\n",
    "\n",
    "Notation:\n",
    "$P$: unadjusted price\n",
    "$P^*$: adjusted price\n",
    "$D$: dividend\n",
    "\n",
    "We want an adjusted price series such that returns are correct, without further adjustment:\n",
    "\n",
    "$$\\frac{P_{t+1} + D_{t+1}}{P_t} = \\frac{P_{t+1}^*}{P^*_t}$$\n",
    "\n",
    "#### Footnote\n",
    "Adjusted prices (for dividends) are reported in a way that is slightly biased, and does not lead to a completely equivalent return on dividend days. Data providers typically calculate:\n",
    "\n",
    "$$P^*_t = P_t\\prod_{t_i}A_i $$\n",
    "\n",
    "where the $t_i$ denote the ex-dividend dates such that $t_i > t$. Namely, each dividend causes an additional adjustment factor, $A_i$ for all dates preceding the dividend.\n",
    "\n",
    "The scaling is given by\n",
    "\n",
    "$$A_i = 1 - \\frac{D_{t_i}}{P_{{t_i}-1}}$$\n",
    "\n",
    "However, the conversion factor needed to ensure the adjusted series gives identical returns is\n",
    "\n",
    "$$A_i = \\frac{P_{t_i}}{P_{t_i}+D_{t_i}}$$\n",
    "\n",
    "In practice, this difference is very small, and everyone uses adjusted returns without worrying about this bias.\n",
    "\n",
    "Still, if you are calculating a dividend-adjusted return by hand from the unadjusted prices, it will not quite match the price growth of the adjusted-price series."
   ]
  },
  {
   "cell_type": "markdown",
   "id": "12e57010",
   "metadata": {},
   "source": [
    "### International Stocks\n",
    "\n",
    "American Depository Receipts (ADR’s) are certificates traded in U.S. markets which represent foreign stocks.\n",
    "* ADR’s are used to make it easier for foreign firms to register securities in the U.S.\n",
    "* Most foreign stocks traded in U.S. markets use ADRs.\n",
    "* Sometimes, these are called American Depository Shares, or ADS."
   ]
  },
  {
   "cell_type": "markdown",
   "id": "23d4f7f7",
   "metadata": {},
   "source": [
    "***"
   ]
  },
  {
   "cell_type": "markdown",
   "id": "72142747",
   "metadata": {},
   "source": [
    "# Indexes"
   ]
  },
  {
   "cell_type": "markdown",
   "id": "0e3ad5d8",
   "metadata": {},
   "source": [
    "## The S&P 500\n",
    "\n",
    "### Constituents\n",
    "\n",
    "The S&P 500 is composed of \n",
    "- US-listed public equities\n",
    "- Large market cap\n",
    "- Liquid shares\n",
    "- A few extra conditions on financials to try to eliminate excess turnover\n",
    "\n",
    "For practical purposes, consider it as the largest 500 U.S. equities.\n",
    "\n",
    "Reference: S&P Index methodology, pgs 6-10\n",
    "\n",
    "https://www.spglobal.com/spdji/en/documents/methodologies/methodology-sp-us-indices.pdf?utm_source=pdf_brochure"
   ]
  },
  {
   "cell_type": "code",
   "execution_count": null,
   "id": "f9849f75",
   "metadata": {},
   "outputs": [],
   "source": [
    "import scipy.cluster.hierarchy as sch\n",
    "\n",
    "def cluster_corr(corr_array, inplace=False):\n",
    "    \"\"\"\n",
    "    Rearranges the correlation matrix, corr_array, so that groups of highly \n",
    "    correlated variables are next to eachother \n",
    "    \n",
    "    Parameters\n",
    "    ----------\n",
    "    corr_array : pandas.DataFrame or numpy.ndarray\n",
    "        a NxN correlation matrix \n",
    "        \n",
    "    Returns\n",
    "    -------\n",
    "    pandas.DataFrame or numpy.ndarray\n",
    "        a NxN correlation matrix with the columns and rows rearranged\n",
    "    \"\"\"\n",
    "    pairwise_distances = sch.distance.pdist(corr_array)\n",
    "    linkage = sch.linkage(pairwise_distances, method='complete')\n",
    "    cluster_distance_threshold = pairwise_distances.max()/2\n",
    "    idx_to_cluster_array = sch.fcluster(linkage, cluster_distance_threshold, \n",
    "                                        criterion='distance')\n",
    "    idx = np.argsort(idx_to_cluster_array)\n",
    "    \n",
    "    if not inplace:\n",
    "        corr_array = corr_array.copy()\n",
    "    \n",
    "    if isinstance(corr_array, pd.DataFrame):\n",
    "        return corr_array.iloc[idx, :].T.iloc[idx, :]\n",
    "    return corr_array[idx, :][:, idx]"
   ]
  },
  {
   "cell_type": "code",
   "execution_count": null,
   "id": "d96d5d3c",
   "metadata": {},
   "outputs": [],
   "source": [
    "ALTFILE = \"../data/spx_returns_weekly.xlsx\"\n",
    "FREQ = 52\n",
    "rets_spx = pd.read_excel(ALTFILE, sheet_name=\"s&p500 rets\").set_index(\"date\")\n",
    "\n",
    "sns.heatmap(cluster_corr(rets_spx.corr()))\n",
    "plt.title('Correlation: S&P500 Members')\n",
    "plt.show()"
   ]
  },
  {
   "cell_type": "code",
   "execution_count": null,
   "id": "b9264932",
   "metadata": {},
   "outputs": [],
   "source": [
    "temp = pd.concat([rets_spx.mean()*FREQ, rets_spx.std()*FREQ**.5],axis=1)\n",
    "temp.columns=['mean','vol']\n",
    "temp.plot.scatter(x='vol',y='mean',xlim=(.15,.5),ylim=(-.1,.55));\n",
    "plt.title('Mean and Vol: S&P500 Members');"
   ]
  },
  {
   "cell_type": "markdown",
   "id": "7f9312ab",
   "metadata": {},
   "source": [
    "### There is an outlier over this period\n",
    "\n",
    "The outlier is ENPH \n",
    "- joined the S&P 500 at the end of 2020\n",
    "- energy firm\n",
    "- volatile and high-trending returns"
   ]
  },
  {
   "cell_type": "code",
   "execution_count": null,
   "id": "9a1d938d",
   "metadata": {},
   "outputs": [],
   "source": [
    "temp.plot.scatter(x='vol',y='mean');\n",
    "plt.title('Mean and Vol: S&P500 Members');"
   ]
  },
  {
   "cell_type": "markdown",
   "id": "a7fe96cb",
   "metadata": {},
   "source": [
    "## Additional U.S. Equity Indexes\n",
    "\n",
    "Other U.S. equity indexes include many from the S&P:\n",
    "- S&P 100 - mega cap\n",
    "- S&P 1500 - large and medium cap\n",
    "- S&P Sector Indexes\n",
    "\n",
    "Also consider\n",
    "- Russell 1000\n",
    "- Russell 2000\n",
    "- Wilshire 5000"
   ]
  },
  {
   "cell_type": "markdown",
   "id": "9d83240f",
   "metadata": {},
   "source": [
    "### Dow Jones Industrial\n",
    "In financial news, you will often see reference to the Dow Jones Industrial Average (DJIA)\n",
    "- You will rarely (if ever) use this\n",
    "- Prominent for historical reasons, but not a good choice for most applications/analysis\n",
    "\n",
    "Problems with using it include\n",
    "- Index of only 30 \"prominent\" equities. \n",
    "- Weighting is by price, not by market cap. \n",
    "- Turnover may be too slow.\n",
    "\n",
    "**The DJIA is highly correlated to the S&P500, which is probably the only info of use to us in the index.**"
   ]
  },
  {
   "cell_type": "markdown",
   "id": "b183596f",
   "metadata": {},
   "source": [
    "## Exchange-based Indexes\n",
    "\n",
    "An important set of indexes are those that include stocks trading on a particular **exchange**.\n",
    "\n",
    "* NYSE Composite (New York)\n",
    "* NASDAQ Composite (New York)\n",
    "* FTSE 100 (London)\n",
    "* Nikkei 225 (Tokyo)\n",
    "* DAX (German)\n",
    "* Hang Seng (Hong Kong)\n",
    "\n",
    "### Additional International Equity Indexes\n",
    "\n",
    "MSCI indexes provide a wide number of indexes based on global regions and other global designations."
   ]
  },
  {
   "cell_type": "markdown",
   "id": "38802e0e",
   "metadata": {},
   "source": [
    "## Style Indexes\n",
    "\n",
    "There are numerous style indexes used as benchmarks for various types of equity trading strategies.\n",
    "\n",
    "By far, these indexes focus on\n",
    "* small vs large (size)\n",
    "* value vs growth (style)\n",
    "\n",
    "### Fama-French Factors\n",
    "\n",
    "The Fama-French Factors serve as popular indexes for these styles.\n",
    "- Particularly for historical research\n",
    "\n",
    "Source: https://mba.tuck.dartmouth.edu/pages/faculty/ken.french/data_library.html"
   ]
  },
  {
   "cell_type": "code",
   "execution_count": null,
   "id": "0c972183",
   "metadata": {},
   "outputs": [],
   "source": [
    "index_info = pd.read_excel(INFILE,sheet_name='index info').set_index('ticker')\n",
    "index_info"
   ]
  },
  {
   "cell_type": "code",
   "execution_count": null,
   "id": "cb450160",
   "metadata": {},
   "outputs": [],
   "source": [
    "cols_international = ['NKY','HSI','UKX','DAX']\n",
    "cols_forward = ['NKY','HSI']\n",
    "\n",
    "indexes = pd.read_excel(INFILE,sheet_name=f'index history').set_index('date')\n",
    "rets_index = indexes.pct_change().dropna()\n",
    "rets_index = pd.concat([rets_index.drop(columns=cols_international),rets_index[cols_international]],axis=1)\n",
    "rets_index[cols_forward] = rets_index[cols_forward].shift(-1)"
   ]
  },
  {
   "cell_type": "code",
   "execution_count": null,
   "id": "aa5979db",
   "metadata": {
    "scrolled": false
   },
   "outputs": [],
   "source": [
    "sns.heatmap(rets_index.corr(),annot=True);\n",
    "plt.title('Correlation across Equity Indices');"
   ]
  },
  {
   "cell_type": "markdown",
   "id": "3e31802a",
   "metadata": {},
   "source": [
    "***"
   ]
  },
  {
   "cell_type": "markdown",
   "id": "2f26491f",
   "metadata": {},
   "source": [
    "# Exchange-Traded Funds"
   ]
  },
  {
   "cell_type": "markdown",
   "id": "ee92387e",
   "metadata": {},
   "source": [
    "An **exchange-traded-fund**\n",
    "* Trades on a stock exchange\n",
    "* Shares of the fund which may hold a variety of assets\n",
    "* Can be traded intra-day\n",
    "\n",
    "### Questions\n",
    "* What is an ETF?\n",
    "* How does an ETF compare to Mutual Funds? \n",
    "* Why trade ETF’s?\n",
    "\n",
    "### History\n",
    "ETFs Began trading in the U.S. in 1993.\n",
    "* Active-ETF’s approved in 2008.\n",
    "* Around 2,000 ETF’s trade in U.S. markets.\n",
    "\n",
    "### Variety\n",
    "ETFs include funds\n",
    "* passively tracking an index of equities\n",
    "* actively tracking an equity style or trading strategy (smart beta)\n",
    "* alternative assets\n",
    "\n",
    "Most ETF’s track an index. ie. S&P 500, U.S. Treasury rate, BBB-AAA credit spread, etc.\n",
    "* Target wide variety of equity sectors and geographies.\n",
    "* Funds for a variety of asset classes: equities, oil, grains, credit instruments, etc.\n",
    "* Active ETF’s tracking a strategy.\n",
    "\n",
    "Note that the fund expenses and liquidity vary considerably across ETFs.\n",
    "\n",
    "Consider a few examples."
   ]
  },
  {
   "cell_type": "code",
   "execution_count": null,
   "id": "55613a3e",
   "metadata": {
    "scrolled": true
   },
   "outputs": [],
   "source": [
    "etf_info = pd.read_excel(INFILE,sheet_name=f'etf info').set_index('ticker')\n",
    "etf_info[['fund_expense_ratio','eqy_dvd_yld_ind']] /= 100\n",
    "etf_info.style.format({'fund_expense_ratio':'{:.2%}','eqy_dvd_yld_ind':'{:.2%}'})"
   ]
  },
  {
   "cell_type": "markdown",
   "id": "b0004e5d",
   "metadata": {},
   "source": [
    "## Mutual Funds vs ETFs\n",
    "\n",
    "ETF’s directly trade unit blocks of the assets, for authorized participants.\n",
    "* Allows intra-day trading.\n",
    "* No cash-management for redemption, load, fee, etc.\n",
    "* No direct redemption means favorable capital-gains treatment.\n",
    "\n",
    "Liquidity\n",
    "* Reduce idiosyncratic risk.\n",
    "* Exchange-traded (U.S.)\n",
    "* Allow for wide variety of trading strategies.\n",
    "\n",
    "### ETF Share Creation / Redemption\n",
    "\n",
    "How does an ETF achieve exchange trading? Why doesn't it run into the same issues of a mutual fund?\n",
    "* Authorized Participants and market-making\n",
    "* Arbitrage to keep price near NAV\n",
    "\n",
    "The Greyscale Bitcoin Trust"
   ]
  },
  {
   "cell_type": "markdown",
   "id": "bccc200f",
   "metadata": {},
   "source": [
    "## Indexes vs ETFs\n",
    "\n",
    "#### Timing\n",
    "Above we saw low correlation between equity indexes in the U.S. versus Europe, partly due to asynchronous trading across time-zones.\n",
    "\n",
    "Below, note that the correlation between SPY, VGK, and EWJ is much higher."
   ]
  },
  {
   "cell_type": "code",
   "execution_count": null,
   "id": "253f2f23",
   "metadata": {},
   "outputs": [],
   "source": [
    "etfs = pd.read_excel(INFILE,sheet_name=f'etf history').set_index('date')\n",
    "rets_etf = etfs.pct_change().dropna()\n",
    "sns.heatmap(rets_etf.corr(),annot=True);\n",
    "plt.title('Correlation across ETFs');"
   ]
  },
  {
   "cell_type": "markdown",
   "id": "33fd615e",
   "metadata": {},
   "source": [
    "### SPX vs SPY?\n",
    "\n",
    "If we need a benchmark for a strategy, should we use SPX or SPY?\n",
    "\n",
    "Why do they seem to have different return statistics below?"
   ]
  },
  {
   "cell_type": "code",
   "execution_count": null,
   "id": "85be7d53",
   "metadata": {},
   "outputs": [],
   "source": [
    "spy_vs_spx = pd.concat([etfs[['SPY']],indexes[['SPX']]],axis=1).dropna().pct_change()\n",
    "performanceMetrics(spy_vs_spx,annualization=252).style.format('{:.1%}')"
   ]
  },
  {
   "cell_type": "code",
   "execution_count": null,
   "id": "c811173e",
   "metadata": {},
   "outputs": [],
   "source": [
    "(spy_vs_spx+1).cumprod().plot(title='ETF vs Index',ylabel='cumulative return');"
   ]
  },
  {
   "cell_type": "markdown",
   "id": "8a42eb18",
   "metadata": {},
   "source": [
    "## Levered ETFs\n",
    "\n",
    "Levered ETFs seek to provide levered exposure to an index, such as the SPX.\n",
    "\n",
    "These include inverse-levered ETFs."
   ]
  },
  {
   "cell_type": "code",
   "execution_count": null,
   "id": "f18a1b39",
   "metadata": {},
   "outputs": [],
   "source": [
    "spy_vs_letf = etfs[['SPY','UPRO']].dropna()\n",
    "\n",
    "temp = (spy_vs_letf.pct_change()+1).cumprod()\n",
    "temp.plot(title='Cumulative Returns: SPY vs UPRO (3x)',ylabel='cumulative return');"
   ]
  },
  {
   "cell_type": "code",
   "execution_count": null,
   "id": "2487e35a",
   "metadata": {},
   "outputs": [],
   "source": [
    "fig, ax = plt.subplots()\n",
    "temp[['SPY']].plot(ax=ax,ylabel='SPY');\n",
    "ax.legend(['SPY (1x)'],loc='upper left')\n",
    "ax2 = plt.twinx(ax=ax)\n",
    "temp[['UPRO']].plot(ax=ax2,color='r',ylabel='UPRO: 3x');\n",
    "ax2.legend(['UPRO (3x)'],loc='lower right');\n",
    "plt.title('Cumulative Returns: SPY vs UPRO (3x)');"
   ]
  },
  {
   "cell_type": "code",
   "execution_count": null,
   "id": "810f5a7d",
   "metadata": {},
   "outputs": [],
   "source": [
    "performanceMetrics(spy_vs_letf.pct_change(),annualization=252).style.format('{:.1%}')"
   ]
  },
  {
   "cell_type": "markdown",
   "id": "e869c0ac",
   "metadata": {},
   "source": [
    "### More on LETFs\n",
    "\n",
    "For more on the subtleties and dangers of Levered ETFs, see the extra notebook."
   ]
  }
 ],
 "metadata": {
  "hide_input": false,
  "kernelspec": {
   "display_name": "Python 3 (ipykernel)",
   "language": "python",
   "name": "python3"
  },
  "language_info": {
   "codemirror_mode": {
    "name": "ipython",
    "version": 3
   },
   "file_extension": ".py",
   "mimetype": "text/x-python",
   "name": "python",
   "nbconvert_exporter": "python",
   "pygments_lexer": "ipython3",
   "version": "3.9.6"
  },
  "toc": {
   "base_numbering": 1,
   "nav_menu": {},
   "number_sections": false,
   "sideBar": true,
   "skip_h1_title": false,
   "title_cell": "Table of Contents",
   "title_sidebar": "Contents",
   "toc_cell": false,
   "toc_position": {},
   "toc_section_display": true,
   "toc_window_display": false
  }
 },
 "nbformat": 4,
 "nbformat_minor": 5
}
