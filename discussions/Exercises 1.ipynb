{
 "cells": [
  {
   "cell_type": "markdown",
   "id": "23f14acf",
   "metadata": {},
   "source": [
    "# Exercises 1\n",
    "\n",
    "## Financial Analytics\n",
    "\n",
    "### UChicago ADSP\n",
    "\n",
    "#### Spring 2024\n",
    "\n",
    "* Mark Hendricks\n",
    "* hendricks@uchicago.edu\n",
    "\n",
    "#### This assignment is not submitted, graded, or for credit. \n",
    "Rather, it is assigned for learning purposes."
   ]
  },
  {
   "cell_type": "markdown",
   "id": "eb71afe6",
   "metadata": {},
   "source": [
    "***"
   ]
  },
  {
   "cell_type": "markdown",
   "id": "1048fe56",
   "metadata": {},
   "source": [
    "## 1 Calculating Returns"
   ]
  },
  {
   "cell_type": "markdown",
   "id": "364da27a",
   "metadata": {},
   "source": [
    "Use the data in `data/equity_data.xlsx`\n",
    "* tab `prices AAPL`: columns `Unadjusted Price` and `Adjusted Price`\n",
    "* tab  `dividends AAPL`: columns `ex_date` and `dividend_amount`\n",
    "\n",
    "### 1.1\n",
    "For the most recent 2 dividend dates, calculate the one-day return to AAPL using the unadjusted price and the dividend amount. \n",
    "\n",
    "That is, for a given dividend, calculate the return for the day prior to the \"ex date\" and ending on the \"ex date\". Do this for at least the most recent two dividends. (Though it is probably just as easy to adjust the return on every dividend date.)\n",
    "\n",
    "How close is this to the return calculated from the adjusted price percentage change?\n",
    "\n",
    "### 1.2\n",
    "For the most recent stock split, (see multiple in `dividend_amount` and indicated in the column `dividend_type`,) calculate the return to AAPL using the unadjusted price along with this split and dividend info.\n",
    "\n",
    "How close is this computed return to that calculated from the adjusted price growth?"
   ]
  },
  {
   "cell_type": "markdown",
   "id": "052fafe5",
   "metadata": {},
   "source": [
    "***"
   ]
  },
  {
   "cell_type": "markdown",
   "id": "008e0bbd",
   "metadata": {},
   "source": [
    "## 2 Stock Sensitivity\n",
    "\n",
    "Use the data in `data/equity_data.xlsx`, in the tab `etf history`.\n",
    "\n",
    "For the ETFs listed in `etf history`, calculate their percentage change over time. (These are adjusted prices, so this is a measure of their returns.)\n",
    "\n",
    "## 2.1\n",
    "Report the correlation table.\n",
    "\n",
    "## 2.2\n",
    "\n",
    "In equities, there is an important metric: a stock's **beta**:\n",
    "\n",
    "$$r_t = \\alpha + \\beta r^{\\text{SPY}}_t + \\epsilon_t$$\n",
    "\n",
    "This beta is analyzed with respect to many factors, but it is most widely analyzed with respect to the S&P 500 (or a similar, broad equity index. Thus the notation $r^{\\text{SPY}}_t$ on the right-hand side.\n",
    "\n",
    "### Calculation\n",
    "For each ETF return series, estimate the regression above. (You will estimate many regressions, in a loop, each using SPY as the right-hand-side factor.)\n",
    "\n",
    "Report these betas. Which ETF has the most overall stock-market risk?\n",
    "\n",
    "#### Hint: \n",
    "\n",
    "To estimate the regression, consider using the following approach:\n",
    "\n",
    "`from sklearn.linear_model import LinearRegression`\n",
    "\n",
    "`LinearRegression().fit(X,y).coef_`"
   ]
  },
  {
   "cell_type": "markdown",
   "id": "9b969a78",
   "metadata": {},
   "source": [
    "***"
   ]
  }
 ],
 "metadata": {
  "hide_input": false,
  "kernelspec": {
   "display_name": "Python 3 (ipykernel)",
   "language": "python",
   "name": "python3"
  },
  "language_info": {
   "codemirror_mode": {
    "name": "ipython",
    "version": 3
   },
   "file_extension": ".py",
   "mimetype": "text/x-python",
   "name": "python",
   "nbconvert_exporter": "python",
   "pygments_lexer": "ipython3",
   "version": "3.9.6"
  }
 },
 "nbformat": 4,
 "nbformat_minor": 5
}
