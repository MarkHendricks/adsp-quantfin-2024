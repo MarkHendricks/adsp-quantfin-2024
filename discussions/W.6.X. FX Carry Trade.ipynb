{
 "cells": [
  {
   "cell_type": "markdown",
   "id": "add399b4",
   "metadata": {},
   "source": [
    "# W.6.X. FX Carry Trade\n",
    "\n",
    "## Financial Analytics\n",
    "\n",
    "### UChicago ADSP\n",
    "\n",
    "#### Spring 2024\n",
    "\n",
    "* Mark Hendricks\n",
    "* hendricks@uchicago.edu"
   ]
  },
  {
   "cell_type": "code",
   "execution_count": 1,
   "id": "a727b038",
   "metadata": {},
   "outputs": [],
   "source": [
    "import pandas as pd\n",
    "import numpy as np\n",
    "import datetime\n",
    "import warnings\n",
    "\n",
    "from sklearn.linear_model import LinearRegression\n",
    "from scipy.optimize import minimize\n",
    "\n",
    "import matplotlib.pyplot as plt\n",
    "%matplotlib inline\n",
    "plt.rcParams['figure.figsize'] = (12,6)\n",
    "plt.rcParams['font.size'] = 15\n",
    "plt.rcParams['legend.fontsize'] = 13\n",
    "\n",
    "import sys\n",
    "sys.path.insert(0, '../cmds')\n",
    "from treasury_cmds import *\n",
    "from portfolio import *"
   ]
  },
  {
   "cell_type": "markdown",
   "id": "c1edb4e6",
   "metadata": {},
   "source": [
    "$$\\newcommand{\\frn}{*}$$\n",
    "\n",
    "$$\\newcommand{\\RF}{R^{f,\\$}}$$\n",
    "$$\\newcommand{\\RFa}{R^{f,\\frn}}$$\n",
    "\n",
    "$$\\newcommand{\\rflog}{\\texttt{r}^{f,\\$}}$$\n",
    "$$\\newcommand{\\rfalog}{\\texttt{r}^{f,\\frn}}$$\n",
    "\n",
    "$$\\newcommand{\\Fcrncy}{F^{\\$}}$$\n",
    "$$\\newcommand{\\fcrncylog}{\\texttt{f}^{\\$}}$$\n",
    "\n",
    "$$\\newcommand{\\FX}{S}$$\n",
    "$$\\newcommand{\\fxlog}{\\texttt{s}}$$"
   ]
  },
  {
   "cell_type": "markdown",
   "id": "ef6dd2ad",
   "metadata": {},
   "source": [
    "# Data"
   ]
  },
  {
   "cell_type": "code",
   "execution_count": 2,
   "id": "704a6e52",
   "metadata": {},
   "outputs": [],
   "source": [
    "DATAPATH_FX = '../data/fx_carry_data.xlsx'\n",
    "SHEET = 'fx rates'\n",
    "fx = pd.read_excel(DATAPATH_FX, sheet_name=SHEET).set_index('DATE')\n",
    "\n",
    "USDRF = 'USD'\n",
    "SHEET = 'risk-free rates'\n",
    "rfraw = pd.read_excel(DATAPATH_FX,sheet_name=SHEET).set_index('DATE')\n",
    "rfraw.columns = [col.removesuffix('1M') for col in rfraw.columns]\n",
    "rfusd = rfraw[[USDRF]]\n",
    "rf = rfraw.drop(columns=[USDRF])\n",
    "\n",
    "fxgrowth = (fx / fx.shift())\n",
    "rets = fxgrowth.mul(1+rf.values,axis=1) - 1\n",
    "rx = rets.sub(rfusd.values,axis=1)"
   ]
  },
  {
   "cell_type": "code",
   "execution_count": 3,
   "id": "919c52e2",
   "metadata": {
    "scrolled": false
   },
   "outputs": [],
   "source": [
    "logFX = np.log(fx)\n",
    "logRFraw = np.log(rfraw+1)\n",
    "logRFusd = logRFraw[[USDRF]]\n",
    "logRF = logRFraw.drop(columns=[USDRF])\n",
    "\n",
    "logRFspread = -logRF.subtract(logRFusd.values,axis=0)\n",
    "logRFspread = logRFspread.shift(1)\n",
    "\n",
    "logFXgrowth = logFX.diff(axis=0)\n",
    "\n",
    "logRX = logFXgrowth - logRFspread.values"
   ]
  },
  {
   "cell_type": "markdown",
   "id": "d58da188",
   "metadata": {},
   "source": [
    "# The Carry Trade"
   ]
  },
  {
   "cell_type": "markdown",
   "id": "404e79cd",
   "metadata": {},
   "source": [
    "The carry trade logic is simple:\n",
    "* go long the currency with the higher interest rate.\n",
    "* hope that future currency depreciation does not offset the gain from the interest-rate differential.\n",
    "\n",
    "Empirically, what happens?"
   ]
  },
  {
   "cell_type": "markdown",
   "id": "8055414a",
   "metadata": {},
   "source": [
    "## Historically\n",
    "\n",
    "Historically, the excess return on the carry trade has been significant.\n",
    "* A widely-used trading strategy.\n",
    "* At times presented like an arbitrage, it is not.\n",
    "* If there is systematic risk in FX volatility, then it is a premium for this exposure.\n",
    "\n",
    "Even so, potentially attractive in that the risk premium is not explained by obvious factors like market beta."
   ]
  },
  {
   "cell_type": "markdown",
   "id": "31d4372d",
   "metadata": {},
   "source": [
    "## Peso problems\n",
    "As is seen in the picture, the carry trade is subject to large crashes. Referred to as a “peso problem”.\n",
    "* In the 1970’s, Mexico had pegged their FX rate to the USD for over a decade.\n",
    "* Yet, a significant interest rate differential persisted.\n",
    "* Seemingly a lucrative trade: higher interest rate, no FX\n",
    "volatility.\n",
    "* But what about risk of infrequent, sudden, and large depreciation?\n",
    "\n",
    "In fact, there eventually was a large depreciation of the peso."
   ]
  },
  {
   "cell_type": "markdown",
   "id": "e9266608",
   "metadata": {},
   "source": [
    "## Carry Trade and Options?\n",
    "\n",
    "Given that exchange rates are subject to large sudden movements,\n",
    "* Carry trade premium is similar to writing far out of the money puts.\n",
    "* Make a consistent, small premium, but subject to big losses in a catastrophe.\n",
    "* But some research shows that even after hedging extreme movements with options, the carry trade has excess returns.\n",
    "\n",
    "What economic factors explain this premium?"
   ]
  },
  {
   "cell_type": "markdown",
   "id": "5c006546",
   "metadata": {},
   "source": [
    "# Testing the Carry Trade"
   ]
  },
  {
   "cell_type": "markdown",
   "id": "c96760a8",
   "metadata": {},
   "source": [
    "Run a forecasting regression for the log FX Growth, as implied by UIP.\n",
    "- UIP implies that the interest rate spread is the optimal predictor of FX growth.\n",
    "- Thus, it implies the forecasting beta should be 1."
   ]
  },
  {
   "cell_type": "markdown",
   "id": "5334f50e",
   "metadata": {},
   "source": [
    "## Linearization\n",
    "\n",
    "This relationship is easier to analyze in a linear form. Taking logs,\n",
    "\n",
    "$$\\ln\\mathbb{E}_t\\left[\\FX_{t+1}\\right] - \\fxlog_t = \\rflog_{t+1} - \\rfalog_{t+1}$$\n",
    "\n",
    "## Regression Tests\n",
    "\n",
    "Consider the regression tests for these two UIP statements. \n",
    "1. Using the interest rate differential,\n",
    "\n",
    "$$\\fxlog_{t+1} - \\fxlog_t = \\alpha + \\beta\\left(\\rflog_{t+1} - \\rfalog_{t+1}\\right) + \\epsilon_{t+1}$$\n",
    "\n",
    "(Noting yet again that $\\rflog_{t+1}$ is known at time $t$.) \n",
    "\n",
    "2. Alternatively, using the forward premium,\n",
    "$$\\fxlog_{t+1} - \\fxlog_t = \\alpha + \\beta\\left(\\fcrncylog_{t} - \\fxlog_{t}\\right) + \\epsilon_{t+1}$$\n",
    "\n",
    "In either test, UIP implies that $\\beta=1, \\alpha=0$."
   ]
  },
  {
   "cell_type": "code",
   "execution_count": 4,
   "id": "eb04b52c",
   "metadata": {},
   "outputs": [
    {
     "data": {
      "text/html": [
       "<div>\n",
       "<style scoped>\n",
       "    .dataframe tbody tr th:only-of-type {\n",
       "        vertical-align: middle;\n",
       "    }\n",
       "\n",
       "    .dataframe tbody tr th {\n",
       "        vertical-align: top;\n",
       "    }\n",
       "\n",
       "    .dataframe thead th {\n",
       "        text-align: right;\n",
       "    }\n",
       "</style>\n",
       "<table border=\"1\" class=\"dataframe\">\n",
       "  <thead>\n",
       "    <tr style=\"text-align: right;\">\n",
       "      <th></th>\n",
       "      <th>USUK</th>\n",
       "      <th>USEU</th>\n",
       "      <th>USSZ</th>\n",
       "      <th>USJP</th>\n",
       "    </tr>\n",
       "  </thead>\n",
       "  <tbody>\n",
       "    <tr>\n",
       "      <th>alpha</th>\n",
       "      <td>-0.000489</td>\n",
       "      <td>0.000586</td>\n",
       "      <td>0.003631</td>\n",
       "      <td>-0.0005</td>\n",
       "    </tr>\n",
       "    <tr>\n",
       "      <th>Beta</th>\n",
       "      <td>0.485836</td>\n",
       "      <td>-1.256358</td>\n",
       "      <td>-1.646596</td>\n",
       "      <td>0.371473</td>\n",
       "    </tr>\n",
       "    <tr>\n",
       "      <th>r-squared</th>\n",
       "      <td>0.000382</td>\n",
       "      <td>0.00261</td>\n",
       "      <td>0.003948</td>\n",
       "      <td>0.000501</td>\n",
       "    </tr>\n",
       "  </tbody>\n",
       "</table>\n",
       "</div>"
      ],
      "text/plain": [
       "               USUK      USEU      USSZ      USJP\n",
       "alpha     -0.000489  0.000586  0.003631   -0.0005\n",
       "Beta       0.485836 -1.256358 -1.646596  0.371473\n",
       "r-squared  0.000382   0.00261  0.003948  0.000501"
      ]
     },
     "execution_count": 4,
     "metadata": {},
     "output_type": "execute_result"
    }
   ],
   "source": [
    "olstab = pd.DataFrame(index=logFXgrowth.columns, columns=['alpha','Beta','r-squared'])\n",
    "for i, curncy in enumerate(logFXgrowth.columns):\n",
    "    temp = get_ols_metrics(logRFspread.iloc[:,i],logFXgrowth.iloc[:,i],annualization=1).drop(columns=['Treynor Ratio','Info Ratio'])\n",
    "    temp.rename(columns={logRFspread.columns[i]:'Beta'}, inplace=True)\n",
    "    olstab.loc[curncy,:] = temp.values\n",
    "\n",
    "olstab.T"
   ]
  },
  {
   "cell_type": "markdown",
   "id": "617953fe",
   "metadata": {},
   "source": [
    "### Predicting Appreciation or Depreciation?\n",
    "\n",
    "Look at whether the betas are positive or negative.\n",
    "\n",
    "If the regressor (USD minus foreign risk-free rate) goes DOWN, then we expect \n",
    "- decreased UK and JP relative to US.\n",
    "- increased EU and SZ relative to US. (That is, the expected FX growth is higher.)\n",
    "\n",
    "Thus, if UK risk-free rate increases relative to US risk-free rate, we expect USD will appreciate.\n",
    "- This means FX growth is partially offsetting the interest-rate differential. But not fully. Beta is positive, but less than one.\n",
    "\n",
    "For EU and SZ,\n",
    "- this means that FX growth is exacerbating the returns from the interest rate differentials. Beta is negative, so in a sense, investors expect to gain twice: immediately from the risk-free rate differential, and again from the FX movement at the close of the position.\n",
    "\n",
    "In fact, the statements above are just about the point estimates, and may not be statistically significant.\n",
    "\n",
    "### Strength of Predictability?\n",
    "These effects are extremely small! The R-squared stats for all four currencies are nearly 0. "
   ]
  },
  {
   "cell_type": "markdown",
   "id": "dc721f24",
   "metadata": {},
   "source": [
    "# The Dynamic Carry Trade"
   ]
  },
  {
   "cell_type": "code",
   "execution_count": 11,
   "id": "c68b3fe4",
   "metadata": {},
   "outputs": [],
   "source": [
    "forecast = pd.DataFrame(columns=logFXgrowth.columns, index=logFXgrowth.index)\n",
    "for i, curncy in enumerate(logFXgrowth.columns):\n",
    "    forecast[curncy] = olstab.loc[curncy,'alpha'] + (olstab.loc[curncy,'Beta']-1) * logRFspread.iloc[:,i]"
   ]
  },
  {
   "cell_type": "markdown",
   "id": "494c0a80",
   "metadata": {},
   "source": [
    "### Forecast timing\n",
    "We do not need to lag the forecasts with `.shift()` because we already use the lagged calculation of the interest rate spread. \n",
    "\n",
    "Thus, the regressor is lagged, and thus is generating forecasts stamped with the date of their targeted value, as desired."
   ]
  },
  {
   "cell_type": "code",
   "execution_count": 6,
   "id": "b517b08f",
   "metadata": {},
   "outputs": [
    {
     "data": {
      "text/html": [
       "<div>\n",
       "<style scoped>\n",
       "    .dataframe tbody tr th:only-of-type {\n",
       "        vertical-align: middle;\n",
       "    }\n",
       "\n",
       "    .dataframe tbody tr th {\n",
       "        vertical-align: top;\n",
       "    }\n",
       "\n",
       "    .dataframe thead th {\n",
       "        text-align: right;\n",
       "    }\n",
       "</style>\n",
       "<table border=\"1\" class=\"dataframe\">\n",
       "  <thead>\n",
       "    <tr style=\"text-align: right;\">\n",
       "      <th></th>\n",
       "      <th>USUK</th>\n",
       "      <th>USEU</th>\n",
       "      <th>USSZ</th>\n",
       "      <th>USJP</th>\n",
       "    </tr>\n",
       "  </thead>\n",
       "  <tbody>\n",
       "    <tr>\n",
       "      <th>fraction with positive forecastium</th>\n",
       "      <td>0.238095</td>\n",
       "      <td>0.501832</td>\n",
       "      <td>0.630037</td>\n",
       "      <td>0.0</td>\n",
       "    </tr>\n",
       "  </tbody>\n",
       "</table>\n",
       "</div>"
      ],
      "text/plain": [
       "                                        USUK      USEU      USSZ  USJP\n",
       "fraction with positive forecastium  0.238095  0.501832  0.630037   0.0"
      ]
     },
     "execution_count": 6,
     "metadata": {},
     "output_type": "execute_result"
    }
   ],
   "source": [
    "forecast_positive = ((forecast.dropna() > 0).sum() / forecast.dropna().shape[0]).to_frame().T\n",
    "forecast_positive.index = ['fraction with positive forecastium']\n",
    "forecast_positive"
   ]
  },
  {
   "cell_type": "code",
   "execution_count": 7,
   "id": "5390f841",
   "metadata": {},
   "outputs": [
    {
     "data": {
      "image/png": "[encoded data removed]",
      "text/plain": [
       "<Figure size 720x432 with 1 Axes>"
      ]
     },
     "metadata": {
      "needs_background": "light"
     },
     "output_type": "display_data"
    }
   ],
   "source": [
    "forecast.plot(title='Forecasted Excess Log Returns', figsize=(10,6));"
   ]
  },
  {
   "cell_type": "markdown",
   "id": "f323fd0d",
   "metadata": {},
   "source": [
    "#### Positive or Negative Forecasts?\n",
    "\n",
    "Though the static carry-trade above found that UK and EU have negative mean excess (log) returns, the dynamic carry trade finds that the time-varying forecast is often positive.\n",
    "\n",
    "For JP, the forecast is negative throughout the sample due to the much higher interest rate in USD not being offset by appreciation of the Yen to the USD.\n",
    "\n",
    "#### Improving the Trade?\n",
    "\n",
    "We can use forecasts of excess returns to construct trading positions, (weights,) which vary with the forecasts. The resulting trading strategy should be better than the static carry trade.\n",
    "\n",
    "That is, we could time the magnitude and direction of the currency trades instead of being passively 100\\% invested in a currency according to the evidence above.\n",
    "\n",
    "It is analagous to timing the trading of SPY according to the Earnings-Price Ratio instead of being passively 100\\% invested in SPY.\n",
    "\n",
    "Of course, it is an open question as to whether this will work given the weak R-squared in-sample, let alone out-of-sample."
   ]
  },
  {
   "cell_type": "markdown",
   "id": "4e4b270d",
   "metadata": {},
   "source": [
    "# Building the Dynamic Trade"
   ]
  },
  {
   "cell_type": "markdown",
   "id": "bd1dfb7c",
   "metadata": {},
   "source": [
    "Try implementing the forecasts with a simple proportional weighting of each forecast."
   ]
  },
  {
   "cell_type": "code",
   "execution_count": 12,
   "id": "76f6b295",
   "metadata": {},
   "outputs": [],
   "source": [
    "passive = logRX\n",
    "forecast_baseline = logRX.expanding().mean().shift(1)\n",
    "\n",
    "wts = 100 * forecast\n",
    "forecast_returns = wts * passive.values"
   ]
  },
  {
   "cell_type": "markdown",
   "id": "f671833a",
   "metadata": {},
   "source": [
    "## Check the performance\n",
    "\n",
    "#### Also compare to the equally-weighted combination of the currency trades\n",
    "\n",
    "All stats are **much** better than the static carry trade.\n",
    "- But this is an in-sample performance.\n",
    "- Open question whether the OOS version can beat the static table.\n",
    "\n",
    "Note that currencies have low means and low vols, so in no case are we expecting to get equity-like return statistics."
   ]
  },
  {
   "cell_type": "code",
   "execution_count": 9,
   "id": "e0f8a92c",
   "metadata": {},
   "outputs": [
    {
     "data": {
      "text/html": [
       "<div>\n",
       "<style scoped>\n",
       "    .dataframe tbody tr th:only-of-type {\n",
       "        vertical-align: middle;\n",
       "    }\n",
       "\n",
       "    .dataframe tbody tr th {\n",
       "        vertical-align: top;\n",
       "    }\n",
       "\n",
       "    .dataframe thead th {\n",
       "        text-align: right;\n",
       "    }\n",
       "</style>\n",
       "<table border=\"1\" class=\"dataframe\">\n",
       "  <thead>\n",
       "    <tr style=\"text-align: right;\">\n",
       "      <th></th>\n",
       "      <th>Mean</th>\n",
       "      <th>Vol</th>\n",
       "      <th>Sharpe</th>\n",
       "      <th>Min</th>\n",
       "      <th>Max</th>\n",
       "    </tr>\n",
       "  </thead>\n",
       "  <tbody>\n",
       "    <tr>\n",
       "      <th>USUK</th>\n",
       "      <td>0.000419</td>\n",
       "      <td>0.004990</td>\n",
       "      <td>0.084020</td>\n",
       "      <td>-0.006025</td>\n",
       "      <td>0.004872</td>\n",
       "    </tr>\n",
       "    <tr>\n",
       "      <th>USEU</th>\n",
       "      <td>0.007638</td>\n",
       "      <td>0.024128</td>\n",
       "      <td>0.316560</td>\n",
       "      <td>-0.037816</td>\n",
       "      <td>0.034689</td>\n",
       "    </tr>\n",
       "    <tr>\n",
       "      <th>USSZ</th>\n",
       "      <td>0.010005</td>\n",
       "      <td>0.028341</td>\n",
       "      <td>0.353011</td>\n",
       "      <td>-0.037256</td>\n",
       "      <td>0.025738</td>\n",
       "    </tr>\n",
       "    <tr>\n",
       "      <th>USJP</th>\n",
       "      <td>0.003722</td>\n",
       "      <td>0.016532</td>\n",
       "      <td>0.225130</td>\n",
       "      <td>-0.022019</td>\n",
       "      <td>0.021783</td>\n",
       "    </tr>\n",
       "    <tr>\n",
       "      <th>Equally-Weighted</th>\n",
       "      <td>0.054459</td>\n",
       "      <td>0.135583</td>\n",
       "      <td>0.401669</td>\n",
       "      <td>-0.168438</td>\n",
       "      <td>0.148568</td>\n",
       "    </tr>\n",
       "  </tbody>\n",
       "</table>\n",
       "</div>"
      ],
      "text/plain": [
       "                      Mean       Vol    Sharpe       Min       Max\n",
       "USUK              0.000419  0.004990  0.084020 -0.006025  0.004872\n",
       "USEU              0.007638  0.024128  0.316560 -0.037816  0.034689\n",
       "USSZ              0.010005  0.028341  0.353011 -0.037256  0.025738\n",
       "USJP              0.003722  0.016532  0.225130 -0.022019  0.021783\n",
       "Equally-Weighted  0.054459  0.135583  0.401669 -0.168438  0.148568"
      ]
     },
     "execution_count": 9,
     "metadata": {},
     "output_type": "execute_result"
    }
   ],
   "source": [
    "forecast_returns['Equally-Weighted'] = forecast_returns.mean(axis=1) * 10\n",
    "\n",
    "performanceMetrics(forecast_returns,annualization=12)"
   ]
  },
  {
   "cell_type": "markdown",
   "id": "dd74e5bd",
   "metadata": {},
   "source": [
    "### How correlated are the active (forecasted) implementations to the passive returns?\n",
    "\n",
    "- Not all that correlated.\n",
    "- Note that we're interested in the magnitude, not the sign.\n",
    "- The active version is shorting JP, so no surprise that the correlation is negative."
   ]
  },
  {
   "cell_type": "code",
   "execution_count": 10,
   "id": "aa32e8de",
   "metadata": {
    "scrolled": true
   },
   "outputs": [
    {
     "data": {
      "text/html": [
       "<div>\n",
       "<style scoped>\n",
       "    .dataframe tbody tr th:only-of-type {\n",
       "        vertical-align: middle;\n",
       "    }\n",
       "\n",
       "    .dataframe tbody tr th {\n",
       "        vertical-align: top;\n",
       "    }\n",
       "\n",
       "    .dataframe thead th {\n",
       "        text-align: right;\n",
       "    }\n",
       "</style>\n",
       "<table border=\"1\" class=\"dataframe\">\n",
       "  <thead>\n",
       "    <tr style=\"text-align: right;\">\n",
       "      <th></th>\n",
       "      <th>USUK</th>\n",
       "      <th>USEU</th>\n",
       "      <th>USSZ</th>\n",
       "      <th>USJP</th>\n",
       "    </tr>\n",
       "  </thead>\n",
       "  <tbody>\n",
       "    <tr>\n",
       "      <th>Corr. Passive to Active</th>\n",
       "      <td>-0.396114</td>\n",
       "      <td>0.260195</td>\n",
       "      <td>0.377176</td>\n",
       "      <td>-0.810576</td>\n",
       "    </tr>\n",
       "  </tbody>\n",
       "</table>\n",
       "</div>"
      ],
      "text/plain": [
       "                             USUK      USEU      USSZ      USJP\n",
       "Corr. Passive to Active -0.396114  0.260195  0.377176 -0.810576"
      ]
     },
     "execution_count": 10,
     "metadata": {},
     "output_type": "execute_result"
    }
   ],
   "source": [
    "corr_tab = forecast_returns.corrwith(passive,drop='missing',axis=0).to_frame().T\n",
    "corr_tab.index = ['Corr. Passive to Active']\n",
    "corr_tab"
   ]
  }
 ],
 "metadata": {
  "hide_input": true,
  "kernelspec": {
   "display_name": "Python 3 (ipykernel)",
   "language": "python",
   "name": "python3"
  },
  "language_info": {
   "codemirror_mode": {
    "name": "ipython",
    "version": 3
   },
   "file_extension": ".py",
   "mimetype": "text/x-python",
   "name": "python",
   "nbconvert_exporter": "python",
   "pygments_lexer": "ipython3",
   "version": "3.9.6"
  }
 },
 "nbformat": 4,
 "nbformat_minor": 5
}
