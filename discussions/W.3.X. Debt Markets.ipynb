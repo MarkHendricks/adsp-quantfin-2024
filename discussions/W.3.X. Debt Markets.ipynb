{
 "cells": [
  {
   "cell_type": "markdown",
   "id": "6b9fa444",
   "metadata": {},
   "source": [
    "# W.3.X. Debt Markets\n",
    "\n",
    "## Financial Analytics\n",
    "\n",
    "### UChicago ADSP\n",
    "\n",
    "#### Spring 2024\n",
    "\n",
    "* Mark Hendricks\n",
    "* hendricks@uchicago.edu"
   ]
  },
  {
   "cell_type": "markdown",
   "id": "44cdd31c",
   "metadata": {
    "hidden": true
   },
   "source": [
    "## Size of Fixed Income Markets\n",
    "https://www.sifma.org/resources/research/us-fixed-income-securities-statistics/"
   ]
  },
  {
   "cell_type": "markdown",
   "id": "8a05554d",
   "metadata": {},
   "source": [
    "# Bond Market"
   ]
  },
  {
   "cell_type": "markdown",
   "id": "f6607f5a",
   "metadata": {},
   "source": [
    "The bond market is comprised of longer-term debt securities/loans than those in the money market.\n",
    "* Bonds are referred to as the fixed income capital markets.\n",
    "* Fixed income is a misleading term.\n",
    "* As we saw with the fixed income money markets, many of the security cashflows are not actually fixed.\n",
    "\n",
    "The term “bonds” is often used somewhat generally, referring to a range of longer maturity debt securities."
   ]
  },
  {
   "cell_type": "markdown",
   "id": "6be43606",
   "metadata": {},
   "source": [
    "## Treasury Securities\n",
    "\n",
    "See other note."
   ]
  },
  {
   "cell_type": "markdown",
   "id": "c667ba63",
   "metadata": {},
   "source": [
    "## Municipal bonds\n",
    "\n",
    "Municipal bonds are issued by state and local governments.\n",
    "* Interest income is exempt from federal income taxes, as well as state and local taxes in the issuing state.\n",
    "* Capital gains taxes still apply.\n",
    "* Due to the Federal income tax savings, municipal bonds are particularly attractive to those with high marginal tax rates."
   ]
  },
  {
   "cell_type": "markdown",
   "id": "07fd485e",
   "metadata": {},
   "source": [
    "## International bonds\n",
    "Main international debt instrument has been foreign bonds.\n",
    "* These are bonds issued by a foreign country, but denominated\n",
    "in the currency of the market in which they are issued.\n",
    "* ie. Sony issues a dollar-denominated bond in the U.S.\n",
    "\n",
    "More recently, Eurobonds have become popular.\n",
    "* These bonds are denominated in a currency other than that of\n",
    "the country in which they are sold.\n",
    "* Example: Suppose that a firm issues a bond in Japan with the bond denominated in U.S. dollars.\n",
    "* The name “Eurobond” is perhaps unfortunate. It need not have anything to do with Europe or the Euro."
   ]
  },
  {
   "cell_type": "markdown",
   "id": "bc6091f1",
   "metadata": {},
   "source": [
    "## Corporate bond payoffs\n",
    "Corporate bond payoff structure varies:\n",
    "* Most pay a semiannual coupon and return face value at maturity.\n",
    "* May include issuer option to call bond early at face value - manage interest rate risk.\n",
    "* May include issuer or bondholder option to convert to equity.\n",
    "\n",
    "In the U.S., issuing firms may deduct the interest payments from the firm’s taxes."
   ]
  },
  {
   "cell_type": "markdown",
   "id": "2647b2ec",
   "metadata": {},
   "source": [
    "# Mortgages"
   ]
  },
  {
   "cell_type": "markdown",
   "id": "d0221d48",
   "metadata": {},
   "source": [
    "Mortgages are loans to households and firms in order to buy land, real estate, or other structures.\n",
    "* The primary mortgage lenders in the U.S. have been savings and loan associations and mutual savings banks, though recently, commercial banks have increased their role.\n",
    "* The federal government plays an active role in this market.\n",
    "* Three agencies, (commonly referred to as Fannie Mae, Freddie\n",
    "Mac, and Ginnie Mae,) buy a large amount of mortgages.\n",
    "* Stated goal is to provide liquidity in the market and achieve certain government objectives regarding home ownership."
   ]
  },
  {
   "cell_type": "markdown",
   "id": "48c2ab18",
   "metadata": {},
   "source": [
    "## Federal agency debt\n",
    "\n",
    "Several government agencies issue their own securities.\n",
    "* Agency debt securities are backed by specific revenue streams; it is not explicitly insured by the Federal government.\n",
    "* Most of these are involved with funding U.S. mortgages. ie. Fannie Mae, Freddie Mac, and Ginnie Mae.\n",
    "* Implicitly, agency debt is fully backed by the U.S. government. In 2008, the Federal government assumed responsibility for the bonds of the above agencies."
   ]
  },
  {
   "cell_type": "markdown",
   "id": "c2c24ff9",
   "metadata": {},
   "source": [
    "## MBS\n",
    "A mortgage-backed security (MBS) is a claim on a pool of mortgages or a claim backed by such a pool.\n",
    "* The originator of the mortgage, (the lender,) usually services the loans.\n",
    "* The servicing agent collects the homeowner payments and passes the principal and interest on to the MBS investment vehicle.\n",
    "* The simplest MBS is a pass-through, a claim on a fraction of the total cash flow from the mortgages.\n",
    "\n",
    "MBS allows for wide sharing of mortgage risk."
   ]
  },
  {
   "cell_type": "markdown",
   "id": "fc0fb2e7",
   "metadata": {},
   "source": [
    "## ABS\n",
    "\n",
    "Besides MBS, many other loans are pooled into securities.\n",
    "These asset-backed securities (ABS) are backed by credit-card, auto, and student loans."
   ]
  }
 ],
 "metadata": {
  "hide_input": true,
  "kernelspec": {
   "display_name": "Python 3 (ipykernel)",
   "language": "python",
   "name": "python3"
  },
  "language_info": {
   "codemirror_mode": {
    "name": "ipython",
    "version": 3
   },
   "file_extension": ".py",
   "mimetype": "text/x-python",
   "name": "python",
   "nbconvert_exporter": "python",
   "pygments_lexer": "ipython3",
   "version": "3.9.6"
  }
 },
 "nbformat": 4,
 "nbformat_minor": 5
}
