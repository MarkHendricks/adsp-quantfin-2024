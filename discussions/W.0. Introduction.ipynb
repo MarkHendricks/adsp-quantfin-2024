{
 "cells": [
  {
   "cell_type": "markdown",
   "id": "ddc89bc1",
   "metadata": {},
   "source": [
    "# W.0. Introduction\n",
    "\n",
    "## Financial Analytics\n",
    "\n",
    "### UChicago ADSP\n",
    "\n",
    "#### Spring 2024\n",
    "\n",
    "* Mark Hendricks\n",
    "* hendricks@uchicago.edu"
   ]
  },
  {
   "cell_type": "markdown",
   "id": "b5ce2148",
   "metadata": {},
   "source": [
    "# This Course\n",
    "\n",
    "## Objectives\n",
    "\n",
    "The main objective is **context**!\n",
    "\n",
    "* We are not here to cram and memorize everythinig you will need to know. \n",
    "* You will be learning throughout the year in courses, workshops, and many other opportunities. \n",
    "\n",
    "That learning will be faster and deeper if you have\n",
    "* foundations (tools, terminology)\n",
    "* context (map, questions, data)\n",
    "\n",
    "The August Review course was a start."
   ]
  },
  {
   "cell_type": "markdown",
   "id": "6908921a",
   "metadata": {},
   "source": [
    "## Multidisciplinary\n",
    "\n",
    "This group has a **wide variety** of backgrounds/expertise.\n",
    "\n",
    "Our curriculum covers a wide range of topics, including\n",
    "* fixed income and their derivatives\n",
    "* equities and their derivatives\n",
    "* currencies\n",
    "* commodities\n",
    "* economics\n",
    "\n",
    "We will consider these topics from various perspectives, \n",
    "* finance\n",
    "* math\n",
    "* stats\n",
    "* computing\n",
    "* industry practice\n",
    "\n",
    "We do not expect that any of you are **quadruple majors** with work experience.\n",
    "\n",
    "For areas that are\n",
    "* New - lean into it\n",
    "* Familiar - add perspective and depth\n",
    "* Comfortable - dig into advanced topics"
   ]
  },
  {
   "cell_type": "markdown",
   "id": "eff03aeb",
   "metadata": {},
   "source": [
    "## Engagement\n",
    "\n",
    "This is not a book club.\n",
    "* We are not reading a textbook.\n",
    "* We are meeting to **discuss**.\n",
    "\n",
    "Be an active learner.\n",
    "* Asking a question is not interrupting!\n",
    "* Adding your perspective is valuable.\n",
    "* I will manage the time and flow--don't worry about whether your question/perspective is at the right time.\n",
    "\n",
    "Staying engaged.\n",
    "* We will be in Jupyter notebooks every day.\n",
    "* Use them to explore and extend on our topics."
   ]
  },
  {
   "cell_type": "markdown",
   "id": "4c50c007",
   "metadata": {},
   "source": [
    "## Get the Most Out of This Course!\n",
    "\n",
    "Avoid common pitfalls.\n",
    "\n",
    "#### Hesitancy\n",
    "* Being too cautious, wanting to wait until you know more to engage.\n",
    "* Feeling too overwhelmed to just get going, one step at a time.\n",
    "* Relying too much on group members to do the applications.\n",
    "\n",
    "#### Narrowly focusing\n",
    "* Avoiding topic areas where you have less experience / interest.\n",
    "* Not doing the prep to get the most out of each day."
   ]
  },
  {
   "cell_type": "markdown",
   "id": "abde3579",
   "metadata": {},
   "source": [
    "## Why This Course\n",
    "* Foundations for other courses\n",
    "* Foundations for job search"
   ]
  },
  {
   "cell_type": "markdown",
   "id": "4b379429",
   "metadata": {},
   "source": [
    "# Who Am I?\n",
    "\n",
    "My Role\n",
    "* Director of Financial Mathematics\n",
    "* Associate Senior Instructional Professor, Department of Mathematics, University of Chicago\n",
    "\n",
    "Courses include\n",
    "* Portfolio and Risk Management\n",
    "* Fixed Income\n",
    "* Fixed-Income Derivatives\n",
    "* Data Analysis\n",
    "\n",
    "Previous \n",
    "\n",
    "My Academic Experience\n",
    "* Taught at the Booth School of Business and the Department of Economics.\n",
    "* PhD studies at Chicago Booth, research focus in asset pricing dynamics.\n",
    "\n",
    "My Industry Experience\n",
    "* Director of Quant Strategy (hedge fund)\n",
    "* Consultant on risk and research (hedge-fund, private equity)\n",
    "* Consultant (large trading firm)\n",
    "* Consultant on data science (non-financial firm)"
   ]
  }
 ],
 "metadata": {
  "hide_input": false,
  "kernelspec": {
   "display_name": "Python 3 (ipykernel)",
   "language": "python",
   "name": "python3"
  },
  "language_info": {
   "codemirror_mode": {
    "name": "ipython",
    "version": 3
   },
   "file_extension": ".py",
   "mimetype": "text/x-python",
   "name": "python",
   "nbconvert_exporter": "python",
   "pygments_lexer": "ipython3",
   "version": "3.9.6"
  }
 },
 "nbformat": 4,
 "nbformat_minor": 5
}
