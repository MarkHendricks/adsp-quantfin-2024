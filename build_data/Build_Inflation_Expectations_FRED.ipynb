{
 "cells": [
  {
   "cell_type": "code",
   "execution_count": 1,
   "metadata": {},
   "outputs": [
    {
     "name": "stderr",
     "output_type": "stream",
     "text": [
      "/Users/markhendricks/Projects/drw-markets-2023/venv/lib/python3.9/site-packages/urllib3/__init__.py:34: NotOpenSSLWarning: urllib3 v2.0 only supports OpenSSL 1.1.1+, currently the 'ssl' module is compiled with 'LibreSSL 2.8.3'. See: https://github.com/urllib3/urllib3/issues/3020\n",
      "  warnings.warn(\n"
     ]
    }
   ],
   "source": [
    "import pandas as pd\n",
    "import numpy as np\n",
    "from datetime import date\n",
    "\n",
    "import pandas_datareader.data as web\n",
    "import pandas_datareader as pdr"
   ]
  },
  {
   "cell_type": "code",
   "execution_count": 2,
   "metadata": {},
   "outputs": [],
   "source": [
    "START_DATE = '1999-01-01'\n",
    "END_DATE = '2023-07-15'\n",
    "TICKS = ['DGS5','DFII5']\n",
    "LABS = ['Note (5yr)','TIPS (5yr)']\n",
    "\n",
    "map_labels = {TICKS[i]:LABS[i] for i in range(len(TICKS))}\n",
    "yields = pdr.DataReader(TICKS,data_source='fred', start=START_DATE,end=END_DATE).rename(columns=map_labels).dropna()\n",
    "yields.index.name = 'date'\n",
    "yields /= 100"
   ]
  },
  {
   "cell_type": "code",
   "execution_count": 3,
   "metadata": {},
   "outputs": [],
   "source": [
    "TICK_P = 'CPIAUCSL'\n",
    "LAB_P = 'CPI'\n",
    "\n",
    "cpi = pdr.DataReader(TICK_P,data_source='fred', start=START_DATE,end=END_DATE).rename(columns={TICK_P:LAB_P}).dropna()\n",
    "# FRED reports monthly as first of month instead of last of month\n",
    "cpi = cpi.resample('M').last()\n",
    "cpi.index.name = 'date'"
   ]
  },
  {
   "cell_type": "code",
   "execution_count": 4,
   "metadata": {},
   "outputs": [],
   "source": [
    "info = pd.DataFrame(columns=['Description'],index=yields.columns)\n",
    "\n",
    "info.iloc[0] = 'Market Yield on U.S. Treasury Securities at 5-Year Constant Maturity, Quoted on an Investment Basis (DGS5)'\n",
    "info.iloc[1] = 'Market Yield on U.S. Treasury Securities at 5-Year Constant Maturity, Quoted on an Investment Basis, Inflation-Indexed (DFII5)'\n",
    "info.loc[LAB_P] = 'Consumer Price Index for All Urban Consumers: All Items in U.S. City Average (CPIAUCSL)'\n",
    "info.index.name = 'Label'"
   ]
  },
  {
   "cell_type": "markdown",
   "metadata": {},
   "source": [
    "# Save to Excel"
   ]
  },
  {
   "cell_type": "code",
   "execution_count": 5,
   "metadata": {},
   "outputs": [],
   "source": [
    "with pd.ExcelWriter('../data/inflation_expectation_data.xlsx') as writer:  \n",
    "    info.to_excel(writer, sheet_name = 'descriptions')\n",
    "    yields.to_excel(writer, sheet_name='yields')\n",
    "    cpi.to_excel(writer, sheet_name='consumer prices')"
   ]
  }
 ],
 "metadata": {
  "hide_input": false,
  "kernelspec": {
   "display_name": "Python 3 (ipykernel)",
   "language": "python",
   "name": "python3"
  },
  "language_info": {
   "codemirror_mode": {
    "name": "ipython",
    "version": 3
   },
   "file_extension": ".py",
   "mimetype": "text/x-python",
   "name": "python",
   "nbconvert_exporter": "python",
   "pygments_lexer": "ipython3",
   "version": "3.9.6"
  },
  "toc": {
   "base_numbering": 1,
   "nav_menu": {},
   "number_sections": false,
   "sideBar": true,
   "skip_h1_title": false,
   "title_cell": "Table of Contents",
   "title_sidebar": "Contents",
   "toc_cell": false,
   "toc_position": {},
   "toc_section_display": true,
   "toc_window_display": false
  }
 },
 "nbformat": 4,
 "nbformat_minor": 4
}
