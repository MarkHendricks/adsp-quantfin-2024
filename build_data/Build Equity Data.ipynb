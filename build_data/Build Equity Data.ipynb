{
 "cells": [
  {
   "cell_type": "code",
   "execution_count": 1,
   "id": "a172c653",
   "metadata": {},
   "outputs": [],
   "source": [
    "import pandas as pd\n",
    "import numpy as np\n",
    "from xbbg import blp\n",
    "\n",
    "import string\n",
    "\n",
    "import sys\n",
    "sys.path.insert(0, '../cmds')\n",
    "from utils import *\n",
    "\n",
    "\n",
    "import matplotlib.pyplot as plt\n",
    "%matplotlib inline\n",
    "plt.rcParams['figure.figsize'] = (12,6)\n",
    "plt.rcParams['font.size'] = 15\n",
    "plt.rcParams['legend.fontsize'] = 13"
   ]
  },
  {
   "cell_type": "code",
   "execution_count": 2,
   "id": "413264b1",
   "metadata": {},
   "outputs": [],
   "source": [
    "TICK = 'AAPL'\n",
    "STARTDATE = '2004-01-01'\n",
    "ENDDATE = '2024-03-15'\n",
    "FLDS = 'last_price'"
   ]
  },
  {
   "cell_type": "markdown",
   "id": "ca37c8c7",
   "metadata": {},
   "source": [
    "# Adjusted vs Unadjusted Prices"
   ]
  },
  {
   "cell_type": "code",
   "execution_count": 3,
   "id": "0fb191da",
   "metadata": {},
   "outputs": [],
   "source": [
    "bbtick = f'{TICK} US Equity'\n",
    "\n",
    "data_unadj = blp.bdh(tickers=bbtick, flds=FLDS, start_date=STARTDATE,\n",
    "                     end_date=ENDDATE, CshAdjNormal=False,CshAdjAbnormal=False, \n",
    "                     CapChg=False).droplevel(level=0,axis=1)\n",
    "data_adj = blp.bdh(tickers=bbtick, flds=FLDS, start_date=STARTDATE,\n",
    "                     end_date=ENDDATE,adjust='all').droplevel(level=0,axis=1)\n",
    "\n",
    "data_adj.index = pd.to_datetime(data_adj.index)\n",
    "data_unadj.index = pd.to_datetime(data_unadj.index)\n",
    "prices = pd.concat([data_adj,data_unadj],axis=1)\n",
    "prices.columns = ['Adjusted Price','Unadjusted Price']\n",
    "prices.index.name = 'date'"
   ]
  },
  {
   "cell_type": "code",
   "execution_count": 4,
   "id": "b4719890",
   "metadata": {},
   "outputs": [],
   "source": [
    "FLDS = 'DVD_HIST_ALL'\n",
    "dvds = blp.bds(tickers=bbtick, flds=FLDS).set_index('record_date')"
   ]
  },
  {
   "cell_type": "markdown",
   "id": "dfae1f8b",
   "metadata": {},
   "source": [
    "# Short Interest"
   ]
  },
  {
   "cell_type": "code",
   "execution_count": 5,
   "id": "b58d1a60",
   "metadata": {},
   "outputs": [],
   "source": [
    "FLDS = ['SHORT_INT','SHORT_INT_RATIO']\n",
    "short = blp.bdh(tickers=bbtick, flds=FLDS, start_date=STARTDATE,\n",
    "                     end_date=ENDDATE).droplevel(level=0,axis=1)\n",
    "short.index.name = 'date'"
   ]
  },
  {
   "cell_type": "markdown",
   "id": "3d339ee6",
   "metadata": {},
   "source": [
    "# Metrics"
   ]
  },
  {
   "cell_type": "code",
   "execution_count": 6,
   "id": "ff294052",
   "metadata": {},
   "outputs": [],
   "source": [
    "FLDS = ['Volume','VWAP Volume','AVERAGE_BID_ASK_SPREAD_%']\n",
    "metrics = blp.bdh(tickers=bbtick, flds=FLDS, start_date=STARTDATE,\n",
    "                     end_date=ENDDATE).droplevel(level=0,axis=1)\n",
    "metrics.index.name = 'date'"
   ]
  },
  {
   "cell_type": "markdown",
   "id": "ce25ae4d",
   "metadata": {},
   "source": [
    "# Indexes\n",
    "## Info"
   ]
  },
  {
   "cell_type": "code",
   "execution_count": 7,
   "id": "ed24cbd9",
   "metadata": {},
   "outputs": [],
   "source": [
    "TICKSINDEX = ['SPX','NYA','CCMP','RIY','RTY','INDU','DJITR','NKY','HSI','UKX','DAX','SVX','SGX']\n",
    "bbticksidx = [index + ' Index' for index in TICKSINDEX]\n",
    "FLDS = ['NAME','COUNT_INDEX_MEMBERS']\n",
    "\n",
    "index_info = blp.bdp(tickers=bbticksidx, flds=FLDS)#.droplevel(level=0,axis=1)\n",
    "index_info.index = [row.split()[0] for row in index_info.index]\n",
    "index_info = index_info.loc[TICKSINDEX,:]\n",
    "index_info.index.name = 'ticker'"
   ]
  },
  {
   "cell_type": "markdown",
   "id": "ea7b14d8",
   "metadata": {},
   "source": [
    "## History"
   ]
  },
  {
   "cell_type": "code",
   "execution_count": 8,
   "id": "b10dd8ed",
   "metadata": {},
   "outputs": [],
   "source": [
    "FLDS = ['LAST_PRICE']\n",
    "STARTDATE_index = '1993-01-01'\n",
    "indexes = blp.bdh(tickers=bbticksidx, flds=FLDS, start_date=STARTDATE_index,\n",
    "                     end_date=ENDDATE, adjust='all').droplevel(level=1,axis=1)\n",
    "\n",
    "indexes.columns = [col.split()[0] for col in indexes.columns]\n",
    "indexes = indexes[TICKSINDEX]\n",
    "indexes.index.name = 'date'"
   ]
  },
  {
   "cell_type": "markdown",
   "id": "d9b4e457",
   "metadata": {},
   "source": [
    "# ETFs\n",
    "\n",
    "## Info"
   ]
  },
  {
   "cell_type": "code",
   "execution_count": 9,
   "id": "2047d422",
   "metadata": {},
   "outputs": [],
   "source": [
    "TICKSETFS = ['SPY','UPRO','EEM','VGK','EWJ','IYR','DBC','HYG','TIP','BITO']\n",
    "bbticksetfs = [etf + ' US Equity' for etf in TICKSETFS]\n",
    "\n",
    "\n",
    "FLDS = ['TOTAL_NUMBER_OF_HOLDINGS_IN_PORT','FUND_EXPENSE_RATIO','FUND_ASSET_CLASS_FOCUS','FUND_OBJECTIVE_LONG','EQY_DVD_YLD_IND']\n",
    "\n",
    "etf_info = blp.bdp(tickers=bbticksetfs, flds=FLDS)#.droplevel(level=0,axis=1)\n",
    "\n",
    "etf_info.index = [row.split()[0] for row in etf_info.index]\n",
    "etf_info = etf_info.loc[TICKSETFS,:]\n",
    "etf_info.index.name = 'ticker'"
   ]
  },
  {
   "cell_type": "markdown",
   "id": "ada411ce",
   "metadata": {},
   "source": [
    "## History"
   ]
  },
  {
   "cell_type": "code",
   "execution_count": 10,
   "id": "701b88bd",
   "metadata": {},
   "outputs": [],
   "source": [
    "FLDS = ['LAST_PRICE']\n",
    "STARTDATE_etf = '1993-01-01'\n",
    "etfs = blp.bdh(tickers=bbticksetfs, flds=FLDS, start_date=STARTDATE_etf,\n",
    "                     end_date=ENDDATE, adjust='all').droplevel(level=1,axis=1)\n",
    "\n",
    "etfs.columns = [col.split()[0] for col in etfs.columns]\n",
    "etfs = etfs[TICKSETFS]\n",
    "etfs.index.name = 'date'"
   ]
  },
  {
   "cell_type": "code",
   "execution_count": 11,
   "id": "0947aba1",
   "metadata": {},
   "outputs": [],
   "source": [
    "TICKETF = 'SPY'\n",
    "bbticketf = f'{TICKETF} US Equity'\n",
    "FLDS = ['LAST_PRICE','EQY_DVD_YLD_IND']\n",
    "spy = blp.bdh(tickers=bbticketf, flds=FLDS, start_date=STARTDATE_etf,\n",
    "                     end_date=ENDDATE, adjust='all').droplevel(level=0,axis=1)\n",
    "spy.index.name = 'date'"
   ]
  },
  {
   "cell_type": "markdown",
   "id": "2e354ee3",
   "metadata": {},
   "source": [
    "# Save File"
   ]
  },
  {
   "cell_type": "code",
   "execution_count": 12,
   "id": "d2cd12d1",
   "metadata": {},
   "outputs": [],
   "source": [
    "OUTFILE = f'../data/equity_data_v2.xlsx'\n",
    "with pd.ExcelWriter(OUTFILE) as writer:  \n",
    "    prices.to_excel(writer, sheet_name= f'prices {TICK}', index=True)\n",
    "    short.to_excel(writer, sheet_name= f'short {TICK}', index=True)\n",
    "    metrics.to_excel(writer, sheet_name= f'metrics {TICK}', index=True)\n",
    "    dvds.to_excel(writer, sheet_name= f'dividends {TICK}', index=True)\n",
    "\n",
    "    index_info.to_excel(writer, sheet_name= f'index info', index=True)\n",
    "    indexes.to_excel(writer, sheet_name= f'index history', index=True)\n",
    "\n",
    "    etf_info.to_excel(writer, sheet_name= f'etf info', index=True)\n",
    "    etfs.to_excel(writer, sheet_name= f'etf history', index=True)\n",
    "    spy.to_excel(writer, sheet_name= f'{TICKETF} history', index=True)"
   ]
  }
 ],
 "metadata": {
  "hide_input": false,
  "kernelspec": {
   "display_name": "Python 3 (ipykernel)",
   "language": "python",
   "name": "python3"
  },
  "language_info": {
   "codemirror_mode": {
    "name": "ipython",
    "version": 3
   },
   "file_extension": ".py",
   "mimetype": "text/x-python",
   "name": "python",
   "nbconvert_exporter": "python",
   "pygments_lexer": "ipython3",
   "version": "3.9.6"
  }
 },
 "nbformat": 4,
 "nbformat_minor": 5
}
