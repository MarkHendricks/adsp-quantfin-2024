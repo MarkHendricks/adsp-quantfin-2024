{
 "cells": [
  {
   "cell_type": "code",
   "execution_count": 1,
   "metadata": {},
   "outputs": [],
   "source": [
    "import pandas as pd\n",
    "import numpy as np\n",
    "\n",
    "import datetime as dt\n",
    "import string\n",
    "\n",
    "import matplotlib.pyplot as plt"
   ]
  },
  {
   "cell_type": "code",
   "execution_count": 2,
   "metadata": {
    "scrolled": true
   },
   "outputs": [],
   "source": [
    "from xbbg import blp"
   ]
  },
  {
   "cell_type": "markdown",
   "metadata": {},
   "source": [
    "### Parameters"
   ]
  },
  {
   "cell_type": "code",
   "execution_count": 3,
   "metadata": {},
   "outputs": [],
   "source": [
    "WRITE_DATA = True\n",
    "\n",
    "TODAY = dt.datetime.today().strftime('%Y%m%d')  \n",
    "OUTFILE = f'spx_data_{TODAY}.xlsx'"
   ]
  },
  {
   "cell_type": "markdown",
   "metadata": {},
   "source": [
    "# Get SPX Members"
   ]
  },
  {
   "cell_type": "markdown",
   "metadata": {},
   "source": [
    "#### BB Call"
   ]
  },
  {
   "cell_type": "code",
   "execution_count": 4,
   "metadata": {},
   "outputs": [],
   "source": [
    "DT_MEMBERS = TODAY\n",
    "weights = blp.bds(['SPX Index'],flds=['INDX_MWEIGHT_HIST'],END_DATE_OVERRIDE=DT_MEMBERS)"
   ]
  },
  {
   "cell_type": "code",
   "execution_count": 5,
   "metadata": {},
   "outputs": [],
   "source": [
    "TICKS_SPX = weights.index_member.str.split().str.get(0)\n",
    "TICKS_SPX_BB = (TICKS_SPX + [' US Equity']).to_list()\n",
    "TICKS_SPX = TICKS_SPX.to_list()\n",
    "\n",
    "weights.set_index('index_member',inplace=True)\n",
    "\n",
    "spx_members = pd.DataFrame({'tickers':TICKS_SPX, 'BB tickers':TICKS_SPX_BB})\n",
    "spx_members.set_index('tickers',inplace=True)\n",
    "\n",
    "tickerBB_to_ticker = spx_members.reset_index().set_index('BB tickers')['tickers'].to_dict()"
   ]
  },
  {
   "cell_type": "markdown",
   "metadata": {},
   "source": [
    "## Download Ticker Info"
   ]
  },
  {
   "cell_type": "markdown",
   "metadata": {},
   "source": [
    "#### BB Call"
   ]
  },
  {
   "cell_type": "code",
   "execution_count": 6,
   "metadata": {},
   "outputs": [],
   "source": [
    "info_spx = blp.bdp(TICKS_SPX_BB,flds=['SECURITY_NAME'])"
   ]
  },
  {
   "cell_type": "code",
   "execution_count": 7,
   "metadata": {},
   "outputs": [],
   "source": [
    "info_spx = info_spx.rename(index=tickerBB_to_ticker)\n",
    "spx_members = spx_members.join(info_spx)"
   ]
  },
  {
   "cell_type": "markdown",
   "metadata": {},
   "source": [
    "### Save SPX Member Info"
   ]
  },
  {
   "cell_type": "code",
   "execution_count": 8,
   "metadata": {},
   "outputs": [],
   "source": [
    "OUTFILE_SPX = f'spx_members_{TODAY}.xlsx'\n",
    "\n",
    "if WRITE_DATA:\n",
    "    with pd.ExcelWriter(OUTFILE_SPX) as writer:  \n",
    "        spx_members.to_excel(writer, sheet_name= f'spx members {TODAY}')\n",
    "        weights.to_excel(writer, sheet_name= f'spx weights {DT_MEMBERS}')"
   ]
  },
  {
   "cell_type": "markdown",
   "metadata": {},
   "source": [
    "# Download Adjusted Prices for all SPX Members"
   ]
  },
  {
   "cell_type": "code",
   "execution_count": 9,
   "metadata": {},
   "outputs": [],
   "source": [
    "STARTDATE = '2012-05-31'\n",
    "ENDDATE = '2024-03-31'\n",
    "\n",
    "FLD = 'PX_LAST'\n",
    "ADJ = 'all'"
   ]
  },
  {
   "cell_type": "markdown",
   "metadata": {},
   "source": [
    "#### BB Call. Careful: Running this takes awhile and uses lots of BB Data Limit"
   ]
  },
  {
   "cell_type": "code",
   "execution_count": 10,
   "metadata": {},
   "outputs": [],
   "source": [
    "prices_raw = blp.bdh(TICKS_SPX_BB,flds=[FLD],start_date=STARTDATE,end_date=ENDDATE,adjust=ADJ)"
   ]
  },
  {
   "cell_type": "code",
   "execution_count": 11,
   "metadata": {},
   "outputs": [],
   "source": [
    "prices = prices_raw.droplevel(level=1,axis=1)\n",
    "prices.rename(columns=tickerBB_to_ticker,inplace=True)"
   ]
  },
  {
   "cell_type": "markdown",
   "metadata": {},
   "source": [
    "# Download Market Benchmarks"
   ]
  },
  {
   "cell_type": "code",
   "execution_count": 12,
   "metadata": {},
   "outputs": [],
   "source": [
    "FLD_MKT = 'PX_LAST'\n",
    "FLD_RF = 'PX_LAST'\n",
    "\n",
    "ADJ = 'all'\n",
    "\n",
    "TICKS_MKT = ['SPY US Equity','XBTUSD BGN Curncy','USO US Equity','TLT US Equity','IEF US Equity','IYR US Equity','GLD US Equity']\n",
    "TICKS_RF = ['USGG3M Index','FDTR Index','SOFRRATE Index','SHV US Equity']\n",
    "\n",
    "mkt = blp.bdh(TICKS_MKT,flds=[FLD_MKT],start_date=STARTDATE,end_date=ENDDATE,adjust=ADJ).droplevel(level=1,axis=1)\n",
    "rf = blp.bdh(TICKS_RF,flds=[FLD_RF],start_date=STARTDATE,end_date=ENDDATE,adjust=ADJ).droplevel(level=1,axis=1)"
   ]
  },
  {
   "cell_type": "markdown",
   "metadata": {},
   "source": [
    "### Get Ticker Info"
   ]
  },
  {
   "cell_type": "code",
   "execution_count": 13,
   "metadata": {},
   "outputs": [],
   "source": [
    "info_mkt = blp.bdp(TICKS_MKT,flds=['SECURITY_NAME'])\n",
    "info_rf = blp.bdp(TICKS_RF,flds=['SECURITY_NAME'])"
   ]
  },
  {
   "cell_type": "markdown",
   "metadata": {},
   "source": [
    "### Clean data for export"
   ]
  },
  {
   "cell_type": "code",
   "execution_count": 14,
   "metadata": {},
   "outputs": [],
   "source": [
    "prices.index.name = 'date'\n",
    "mkt.index.name = 'date'\n",
    "rf.index.name = 'date'\n",
    "\n",
    "info_spx.index.name = 'ticker'\n",
    "info_mkt.index.name = 'ticker'\n",
    "info_rf.index.name = 'ticker'\n",
    "\n",
    "cols = mkt.columns\n",
    "cols = [col.replace(' US Equity','') for col in cols]\n",
    "mkt.columns = cols   "
   ]
  },
  {
   "cell_type": "markdown",
   "metadata": {},
   "source": [
    "## Save Data\n",
    "\n",
    "Takes a full minute or so to export the SPX member prices"
   ]
  },
  {
   "cell_type": "code",
   "execution_count": 15,
   "metadata": {},
   "outputs": [],
   "source": [
    "if ADJ=='all':\n",
    "    spx_sheet_name = f'spx prices adjusted'\n",
    "else:\n",
    "    spx_sheet_name = f'spx prices'\n",
    "\n",
    "\n",
    "if WRITE_DATA:\n",
    "    with pd.ExcelWriter(OUTFILE) as writer:  \n",
    "        info_spx.to_excel(writer, sheet_name= 'spx names')\n",
    "        info_mkt.to_excel(writer, sheet_name= 'market names')\n",
    "        info_rf.to_excel(writer, sheet_name= 'rate names')\n",
    "\n",
    "        prices.to_excel(writer, sheet_name=spx_sheet_name)\n",
    "        mkt.to_excel(writer, sheet_name='benchmarks prices')\n",
    "        rf.to_excel(writer, sheet_name='rates')"
   ]
  }
 ],
 "metadata": {
  "hide_input": false,
  "kernelspec": {
   "display_name": "Python 3 (ipykernel)",
   "language": "python",
   "name": "python3"
  },
  "language_info": {
   "codemirror_mode": {
    "name": "ipython",
    "version": 3
   },
   "file_extension": ".py",
   "mimetype": "text/x-python",
   "name": "python",
   "nbconvert_exporter": "python",
   "pygments_lexer": "ipython3",
   "version": "3.9.6"
  }
 },
 "nbformat": 4,
 "nbformat_minor": 4
}
