{
 "cells": [
  {
   "cell_type": "code",
   "execution_count": 1,
   "id": "ef57dc78",
   "metadata": {},
   "outputs": [],
   "source": [
    "import pandas as pd\n",
    "import numpy as np\n",
    "\n",
    "import datetime as dt\n",
    "import string\n",
    "\n",
    "import matplotlib.pyplot as plt"
   ]
  },
  {
   "cell_type": "code",
   "execution_count": 2,
   "id": "55bb75c2",
   "metadata": {},
   "outputs": [],
   "source": [
    "INFILE = '../data/spx_data_20240403.xlsx'"
   ]
  },
  {
   "cell_type": "code",
   "execution_count": 3,
   "id": "73985c3c",
   "metadata": {},
   "outputs": [],
   "source": [
    "mkt_raw = pd.read_excel(INFILE,sheet_name='benchmarks prices').set_index('date')\n",
    "spx_raw = pd.read_excel(INFILE,sheet_name='spx prices adjusted').set_index('date')"
   ]
  },
  {
   "cell_type": "code",
   "execution_count": 4,
   "id": "3f3fa027",
   "metadata": {},
   "outputs": [],
   "source": [
    "info_spx = pd.read_excel(INFILE,sheet_name='spx names').set_index('ticker')\n",
    "info_mkt = pd.read_excel(INFILE,sheet_name='market names').set_index('ticker')"
   ]
  },
  {
   "cell_type": "code",
   "execution_count": 5,
   "id": "3d9c3c60",
   "metadata": {},
   "outputs": [],
   "source": [
    "DT0 = '2016'\n",
    "AGG = 'W-FRI'\n",
    "FREQ = 52\n",
    "\n",
    "def filter_prices(prices,DT0,AGG):\n",
    "    pxT = prices.loc[DT0:,].copy()\n",
    "    resamp = pxT.resample(AGG).last().iloc[:-1,:]\n",
    "    rets = resamp.pct_change().dropna(axis=0)    \n",
    "    return rets\n",
    "\n",
    "rets_spx = filter_prices(spx_raw.dropna(axis=1),DT0,AGG)\n",
    "rets_mkt = filter_prices(mkt_raw,DT0,AGG)\n",
    "rets_spx, rets_mkt = rets_spx.align(rets_mkt, join='inner',axis=0)\n",
    "\n",
    "rets_mkt.rename(columns={'XBTUSD BGN Curncy':'BTC'},inplace=True)"
   ]
  },
  {
   "cell_type": "code",
   "execution_count": 6,
   "id": "a1c57cf2",
   "metadata": {},
   "outputs": [],
   "source": [
    "OUTFILE = '../data/spx_returns_weekly_2024-03-31.xlsx'\n",
    "\n",
    "with pd.ExcelWriter(OUTFILE) as writer:  \n",
    "    info_spx.to_excel(writer, sheet_name= 's&p500 names')\n",
    "    info_mkt.to_excel(writer, sheet_name= 'benchmark names')\n",
    "    \n",
    "    rets_spx.to_excel(writer, sheet_name=f's&p500 rets')\n",
    "    rets_mkt.to_excel(writer, sheet_name='benchmark rets')"
   ]
  }
 ],
 "metadata": {
  "hide_input": false,
  "kernelspec": {
   "display_name": "Python 3 (ipykernel)",
   "language": "python",
   "name": "python3"
  },
  "language_info": {
   "codemirror_mode": {
    "name": "ipython",
    "version": 3
   },
   "file_extension": ".py",
   "mimetype": "text/x-python",
   "name": "python",
   "nbconvert_exporter": "python",
   "pygments_lexer": "ipython3",
   "version": "3.9.6"
  }
 },
 "nbformat": 4,
 "nbformat_minor": 5
}
