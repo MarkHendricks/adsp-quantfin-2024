{
 "cells": [
  {
   "cell_type": "code",
   "execution_count": 1,
   "id": "8ee793d3",
   "metadata": {},
   "outputs": [
    {
     "name": "stderr",
     "output_type": "stream",
     "text": [
      "/Users/markhendricks/Projects/adsp-quantfin-2024/venv/lib/python3.9/site-packages/urllib3/__init__.py:34: NotOpenSSLWarning: urllib3 v2 only supports OpenSSL 1.1.1+, currently the 'ssl' module is compiled with 'LibreSSL 2.8.3'. See: https://github.com/urllib3/urllib3/issues/3020\n",
      "  warnings.warn(\n"
     ]
    }
   ],
   "source": [
    "import pandas as pd\n",
    "import numpy as np\n",
    "\n",
    "import yfinance as yf\n",
    "import pandas_datareader as pdr"
   ]
  },
  {
   "cell_type": "code",
   "execution_count": 2,
   "id": "9a102593",
   "metadata": {},
   "outputs": [],
   "source": [
    "STARTDATE = '1959-01-01'\n",
    "ENDDATE = '2024-03-31'\n",
    "\n",
    "startdate = pd.to_datetime(STARTDATE)\n",
    "enddate = pd.to_datetime(ENDDATE)\n",
    "\n",
    "ticks = ['CPIAUCSL','M2SL']\n",
    "labels = ['CPI','M2']\n",
    "\n",
    "rawdata = pdr.DataReader(ticks,'fred',startdate,enddate)\n",
    "rawdata.index.name = 'date'\n",
    "rawdata.index = pd.to_datetime(rawdata.index)\n",
    "rawdata.columns = labels"
   ]
  },
  {
   "cell_type": "code",
   "execution_count": 3,
   "id": "2e3427e6",
   "metadata": {},
   "outputs": [],
   "source": [
    "FREQ = 12\n",
    "\n",
    "if FREQ == 4:\n",
    "    FREQcode = 'Q'\n",
    "elif FREQ == 1:\n",
    "    FREQcode = 'Y'\n",
    "elif FREQ==12:\n",
    "    FREQcode = 'M'\n",
    "\n",
    "macro = rawdata.resample(FREQcode).agg('last')\n",
    "macro.dropna(inplace=True)"
   ]
  },
  {
   "cell_type": "code",
   "execution_count": 4,
   "id": "8ebc60d3",
   "metadata": {},
   "outputs": [
    {
     "name": "stderr",
     "output_type": "stream",
     "text": [
      "[*********************100%%**********************]  1 of 1 completed\n"
     ]
    }
   ],
   "source": [
    "tickers = ['SPY']\n",
    "\n",
    "START = \"1990-01-01\"\n",
    "END = \"2024-03-31\"\n",
    "\n",
    "data = yf.download(tickers, start=START, end=END)['Adj Close']\n",
    "data = data.resample('M').agg('last')\n",
    "data.name = 'SPY'\n",
    "\n",
    "spy = data.pct_change().dropna()"
   ]
  },
  {
   "cell_type": "code",
   "execution_count": 5,
   "id": "bab5138c",
   "metadata": {},
   "outputs": [],
   "source": [
    "with pd.ExcelWriter('../data/money_inflation_spy_data.xlsx') as writer:  \n",
    "    macro.to_excel(writer, sheet_name='macro')\n",
    "    spy.to_excel(writer, sheet_name='s&p500')"
   ]
  }
 ],
 "metadata": {
  "hide_input": false,
  "kernelspec": {
   "display_name": "Python 3 (ipykernel)",
   "language": "python",
   "name": "python3"
  },
  "language_info": {
   "codemirror_mode": {
    "name": "ipython",
    "version": 3
   },
   "file_extension": ".py",
   "mimetype": "text/x-python",
   "name": "python",
   "nbconvert_exporter": "python",
   "pygments_lexer": "ipython3",
   "version": "3.9.6"
  }
 },
 "nbformat": 4,
 "nbformat_minor": 5
}
