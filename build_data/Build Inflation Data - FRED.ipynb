{
 "cells": [
  {
   "cell_type": "code",
   "execution_count": 1,
   "id": "31d800eb",
   "metadata": {},
   "outputs": [
    {
     "name": "stderr",
     "output_type": "stream",
     "text": [
      "/Users/markhendricks/Projects/adsp-quantfin-2024/venv/lib/python3.9/site-packages/urllib3/__init__.py:34: NotOpenSSLWarning: urllib3 v2 only supports OpenSSL 1.1.1+, currently the 'ssl' module is compiled with 'LibreSSL 2.8.3'. See: https://github.com/urllib3/urllib3/issues/3020\n",
      "  warnings.warn(\n"
     ]
    }
   ],
   "source": [
    "import pandas as pd\n",
    "import pandas_datareader as pdr\n",
    "import datetime"
   ]
  },
  {
   "cell_type": "code",
   "execution_count": 2,
   "id": "df20aa51",
   "metadata": {},
   "outputs": [],
   "source": [
    "SAVE_DATA = True\n",
    "\n",
    "STARTDATE = '1980-01-01'\n",
    "ENDDATE = '2024-03-31'"
   ]
  },
  {
   "cell_type": "code",
   "execution_count": 3,
   "id": "3fb02c35",
   "metadata": {},
   "outputs": [],
   "source": [
    "startdate = pd.to_datetime(STARTDATE)\n",
    "enddate = pd.to_datetime(ENDDATE)\n",
    "\n",
    "ticks = ['CPILFESL','T5YIE','T5YIFR','USRECD','GDP','A191RI1Q225SBEA','WM2NS','GFDEBTN','UNRATE']\n",
    "labels = ['CPI-Core','Breakeven 5yr','Forward Breakeven 5yr','Recession','GDP','GDP Deflator','M2 Money','Federal Public Debt','Unemployment']\n",
    "\n",
    "data = pdr.DataReader(ticks,'fred',startdate,enddate)\n",
    "data.index.name = 'date'\n",
    "data.index = pd.to_datetime(data.index)\n",
    "data.columns = labels"
   ]
  },
  {
   "cell_type": "code",
   "execution_count": 4,
   "id": "0797ce31",
   "metadata": {},
   "outputs": [
    {
     "data": {
      "text/html": [
       "<div>\n",
       "<style scoped>\n",
       "    .dataframe tbody tr th:only-of-type {\n",
       "        vertical-align: middle;\n",
       "    }\n",
       "\n",
       "    .dataframe tbody tr th {\n",
       "        vertical-align: top;\n",
       "    }\n",
       "\n",
       "    .dataframe thead th {\n",
       "        text-align: right;\n",
       "    }\n",
       "</style>\n",
       "<table border=\"1\" class=\"dataframe\">\n",
       "  <thead>\n",
       "    <tr style=\"text-align: right;\">\n",
       "      <th></th>\n",
       "      <th>ticker (FRED)</th>\n",
       "    </tr>\n",
       "    <tr>\n",
       "      <th>description</th>\n",
       "      <th></th>\n",
       "    </tr>\n",
       "  </thead>\n",
       "  <tbody>\n",
       "    <tr>\n",
       "      <th>CPI-Core</th>\n",
       "      <td>CPILFESL</td>\n",
       "    </tr>\n",
       "    <tr>\n",
       "      <th>Breakeven 5yr</th>\n",
       "      <td>T5YIE</td>\n",
       "    </tr>\n",
       "    <tr>\n",
       "      <th>Forward Breakeven 5yr</th>\n",
       "      <td>T5YIFR</td>\n",
       "    </tr>\n",
       "    <tr>\n",
       "      <th>Recession</th>\n",
       "      <td>USRECD</td>\n",
       "    </tr>\n",
       "    <tr>\n",
       "      <th>GDP</th>\n",
       "      <td>GDP</td>\n",
       "    </tr>\n",
       "    <tr>\n",
       "      <th>GDP Deflator</th>\n",
       "      <td>A191RI1Q225SBEA</td>\n",
       "    </tr>\n",
       "    <tr>\n",
       "      <th>M2 Money</th>\n",
       "      <td>WM2NS</td>\n",
       "    </tr>\n",
       "    <tr>\n",
       "      <th>Federal Public Debt</th>\n",
       "      <td>GFDEBTN</td>\n",
       "    </tr>\n",
       "    <tr>\n",
       "      <th>Unemployment</th>\n",
       "      <td>UNRATE</td>\n",
       "    </tr>\n",
       "  </tbody>\n",
       "</table>\n",
       "</div>"
      ],
      "text/plain": [
       "                         ticker (FRED)\n",
       "description                           \n",
       "CPI-Core                      CPILFESL\n",
       "Breakeven 5yr                    T5YIE\n",
       "Forward Breakeven 5yr           T5YIFR\n",
       "Recession                       USRECD\n",
       "GDP                                GDP\n",
       "GDP Deflator           A191RI1Q225SBEA\n",
       "M2 Money                         WM2NS\n",
       "Federal Public Debt            GFDEBTN\n",
       "Unemployment                    UNRATE"
      ]
     },
     "execution_count": 4,
     "metadata": {},
     "output_type": "execute_result"
    }
   ],
   "source": [
    "info = pd.DataFrame(index=ticks, data=labels)\n",
    "info.index.name = 'ticker (FRED)'\n",
    "info.columns = ['description']\n",
    "info = info.reset_index().set_index('description')\n",
    "info"
   ]
  },
  {
   "cell_type": "code",
   "execution_count": 5,
   "id": "8b696696",
   "metadata": {},
   "outputs": [],
   "source": [
    "if SAVE_DATA:\n",
    "    outfile = '../data/economic_data.xlsx'\n",
    "    with pd.ExcelWriter(outfile) as writer:  \n",
    "        info.to_excel(writer, sheet_name= 'info', index=True)\n",
    "        data.to_excel(writer, sheet_name= 'data', index=True)"
   ]
  }
 ],
 "metadata": {
  "hide_input": false,
  "kernelspec": {
   "display_name": "Python 3 (ipykernel)",
   "language": "python",
   "name": "python3"
  },
  "language_info": {
   "codemirror_mode": {
    "name": "ipython",
    "version": 3
   },
   "file_extension": ".py",
   "mimetype": "text/x-python",
   "name": "python",
   "nbconvert_exporter": "python",
   "pygments_lexer": "ipython3",
   "version": "3.9.6"
  },
  "toc": {
   "base_numbering": 1,
   "nav_menu": {},
   "number_sections": false,
   "sideBar": true,
   "skip_h1_title": false,
   "title_cell": "Table of Contents",
   "title_sidebar": "Contents",
   "toc_cell": false,
   "toc_position": {},
   "toc_section_display": true,
   "toc_window_display": false
  }
 },
 "nbformat": 4,
 "nbformat_minor": 5
}
