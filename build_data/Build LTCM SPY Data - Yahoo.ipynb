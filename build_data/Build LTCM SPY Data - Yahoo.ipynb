{
 "cells": [
  {
   "cell_type": "code",
   "execution_count": 1,
   "metadata": {},
   "outputs": [
    {
     "name": "stderr",
     "output_type": "stream",
     "text": [
      "/Users/markhendricks/Projects/adsp-quantfin-2024/venv/lib/python3.9/site-packages/urllib3/__init__.py:34: NotOpenSSLWarning: urllib3 v2 only supports OpenSSL 1.1.1+, currently the 'ssl' module is compiled with 'LibreSSL 2.8.3'. See: https://github.com/urllib3/urllib3/issues/3020\n",
      "  warnings.warn(\n"
     ]
    }
   ],
   "source": [
    "import pandas as pd\n",
    "import numpy as np\n",
    "\n",
    "import yfinance as yf"
   ]
  },
  {
   "cell_type": "code",
   "execution_count": 2,
   "metadata": {},
   "outputs": [],
   "source": [
    "STARTDATE = \"1994-01-01\"\n",
    "ENDDATE = \"1998-12-31\"\n",
    "\n",
    "FILEOUT = '../data/ltcm_spy_data.xlsx'"
   ]
  },
  {
   "cell_type": "code",
   "execution_count": 3,
   "metadata": {},
   "outputs": [],
   "source": [
    "TICKS = [\n",
    "    'SPY',\n",
    "    '^IRX'\n",
    "]\n",
    "\n",
    "FLDS = ['quoteType','shortName','volume','totalAssets','trailingAnnualDividendYield','longBusinessSummary']"
   ]
  },
  {
   "cell_type": "code",
   "execution_count": 4,
   "metadata": {},
   "outputs": [],
   "source": [
    "info = pd.DataFrame(index=TICKS,columns=FLDS)\n",
    "info.index.name = 'ticker'\n",
    "for tick in info.index:\n",
    "    temp = yf.Ticker(tick).get_info()\n",
    "\n",
    "    for fld in FLDS:\n",
    "        if fld in temp.keys():\n",
    "            info.loc[tick,fld] = temp[fld]            "
   ]
  },
  {
   "cell_type": "code",
   "execution_count": 5,
   "metadata": {},
   "outputs": [
    {
     "name": "stderr",
     "output_type": "stream",
     "text": [
      "[*********************100%%**********************]  2 of 2 completed\n"
     ]
    }
   ],
   "source": [
    "prices = yf.download(TICKS, start=STARTDATE, end=ENDDATE)['Adj Close'][info.index]\n",
    "\n",
    "prices.index.name = 'date'\n",
    "\n",
    "KEYS_LEVELS = ['^IRX']\n",
    "\n",
    "prices.dropna(inplace=True)\n",
    "rets = prices.pct_change().dropna()\n",
    "rets[KEYS_LEVELS] = prices[KEYS_LEVELS]/100/252"
   ]
  },
  {
   "cell_type": "code",
   "execution_count": 6,
   "metadata": {},
   "outputs": [
    {
     "data": {
      "text/html": [
       "<div>\n",
       "<style scoped>\n",
       "    .dataframe tbody tr th:only-of-type {\n",
       "        vertical-align: middle;\n",
       "    }\n",
       "\n",
       "    .dataframe tbody tr th {\n",
       "        vertical-align: top;\n",
       "    }\n",
       "\n",
       "    .dataframe thead th {\n",
       "        text-align: right;\n",
       "    }\n",
       "</style>\n",
       "<table border=\"1\" class=\"dataframe\">\n",
       "  <thead>\n",
       "    <tr style=\"text-align: right;\">\n",
       "      <th></th>\n",
       "      <th>quoteType</th>\n",
       "      <th>shortName</th>\n",
       "      <th>volume</th>\n",
       "      <th>totalAssets</th>\n",
       "      <th>trailingAnnualDividendYield</th>\n",
       "      <th>longBusinessSummary</th>\n",
       "    </tr>\n",
       "    <tr>\n",
       "      <th>ticker</th>\n",
       "      <th></th>\n",
       "      <th></th>\n",
       "      <th></th>\n",
       "      <th></th>\n",
       "      <th></th>\n",
       "      <th></th>\n",
       "    </tr>\n",
       "  </thead>\n",
       "  <tbody>\n",
       "    <tr>\n",
       "      <th>SPY</th>\n",
       "      <td>ETF</td>\n",
       "      <td>SPDR S&amp;P 500</td>\n",
       "      <td>43371957</td>\n",
       "      <td>498082611200</td>\n",
       "      <td>0.010885</td>\n",
       "      <td>The Trust seeks to achieve its investment obje...</td>\n",
       "    </tr>\n",
       "    <tr>\n",
       "      <th>^IRX</th>\n",
       "      <td>INDEX</td>\n",
       "      <td>13 WEEK TREASURY BILL</td>\n",
       "      <td>NaN</td>\n",
       "      <td>NaN</td>\n",
       "      <td>NaN</td>\n",
       "      <td>NaN</td>\n",
       "    </tr>\n",
       "  </tbody>\n",
       "</table>\n",
       "</div>"
      ],
      "text/plain": [
       "       quoteType              shortName    volume   totalAssets  \\\n",
       "ticker                                                            \n",
       "SPY          ETF           SPDR S&P 500  43371957  498082611200   \n",
       "^IRX       INDEX  13 WEEK TREASURY BILL       NaN           NaN   \n",
       "\n",
       "       trailingAnnualDividendYield  \\\n",
       "ticker                               \n",
       "SPY                       0.010885   \n",
       "^IRX                           NaN   \n",
       "\n",
       "                                      longBusinessSummary  \n",
       "ticker                                                     \n",
       "SPY     The Trust seeks to achieve its investment obje...  \n",
       "^IRX                                                  NaN  "
      ]
     },
     "execution_count": 6,
     "metadata": {},
     "output_type": "execute_result"
    }
   ],
   "source": [
    "info"
   ]
  },
  {
   "cell_type": "code",
   "execution_count": 7,
   "metadata": {
    "scrolled": true
   },
   "outputs": [
    {
     "data": {
      "text/html": [
       "<div>\n",
       "<style scoped>\n",
       "    .dataframe tbody tr th:only-of-type {\n",
       "        vertical-align: middle;\n",
       "    }\n",
       "\n",
       "    .dataframe tbody tr th {\n",
       "        vertical-align: top;\n",
       "    }\n",
       "\n",
       "    .dataframe thead th {\n",
       "        text-align: right;\n",
       "    }\n",
       "</style>\n",
       "<table border=\"1\" class=\"dataframe\">\n",
       "  <thead>\n",
       "    <tr style=\"text-align: right;\">\n",
       "      <th>Ticker</th>\n",
       "      <th>SPY</th>\n",
       "      <th>^IRX</th>\n",
       "    </tr>\n",
       "    <tr>\n",
       "      <th>date</th>\n",
       "      <th></th>\n",
       "      <th></th>\n",
       "    </tr>\n",
       "  </thead>\n",
       "  <tbody>\n",
       "    <tr>\n",
       "      <th>1994-01-04</th>\n",
       "      <td>0.004035</td>\n",
       "      <td>0.000122</td>\n",
       "    </tr>\n",
       "    <tr>\n",
       "      <th>1994-01-05</th>\n",
       "      <td>0.002009</td>\n",
       "      <td>0.000122</td>\n",
       "    </tr>\n",
       "    <tr>\n",
       "      <th>1994-01-06</th>\n",
       "      <td>0.000000</td>\n",
       "      <td>0.000121</td>\n",
       "    </tr>\n",
       "    <tr>\n",
       "      <th>1994-01-07</th>\n",
       "      <td>0.006016</td>\n",
       "      <td>0.000119</td>\n",
       "    </tr>\n",
       "    <tr>\n",
       "      <th>1994-01-10</th>\n",
       "      <td>0.011961</td>\n",
       "      <td>0.000119</td>\n",
       "    </tr>\n",
       "    <tr>\n",
       "      <th>...</th>\n",
       "      <td>...</td>\n",
       "      <td>...</td>\n",
       "    </tr>\n",
       "    <tr>\n",
       "      <th>2024-04-23</th>\n",
       "      <td>0.011867</td>\n",
       "      <td>0.000208</td>\n",
       "    </tr>\n",
       "    <tr>\n",
       "      <th>2024-04-24</th>\n",
       "      <td>-0.000475</td>\n",
       "      <td>0.000209</td>\n",
       "    </tr>\n",
       "    <tr>\n",
       "      <th>2024-04-25</th>\n",
       "      <td>-0.003799</td>\n",
       "      <td>0.000208</td>\n",
       "    </tr>\n",
       "    <tr>\n",
       "      <th>2024-04-26</th>\n",
       "      <td>0.009474</td>\n",
       "      <td>0.000208</td>\n",
       "    </tr>\n",
       "    <tr>\n",
       "      <th>2024-04-29</th>\n",
       "      <td>0.003541</td>\n",
       "      <td>0.000208</td>\n",
       "    </tr>\n",
       "  </tbody>\n",
       "</table>\n",
       "<p>7614 rows × 2 columns</p>\n",
       "</div>"
      ],
      "text/plain": [
       "Ticker           SPY      ^IRX\n",
       "date                          \n",
       "1994-01-04  0.004035  0.000122\n",
       "1994-01-05  0.002009  0.000122\n",
       "1994-01-06  0.000000  0.000121\n",
       "1994-01-07  0.006016  0.000119\n",
       "1994-01-10  0.011961  0.000119\n",
       "...              ...       ...\n",
       "2024-04-23  0.011867  0.000208\n",
       "2024-04-24 -0.000475  0.000209\n",
       "2024-04-25 -0.003799  0.000208\n",
       "2024-04-26  0.009474  0.000208\n",
       "2024-04-29  0.003541  0.000208\n",
       "\n",
       "[7614 rows x 2 columns]"
      ]
     },
     "execution_count": 7,
     "metadata": {},
     "output_type": "execute_result"
    }
   ],
   "source": [
    "rets"
   ]
  },
  {
   "cell_type": "code",
   "execution_count": 8,
   "metadata": {},
   "outputs": [],
   "source": [
    "with pd.ExcelWriter(FILEOUT) as writer:  \n",
    "    info.to_excel(writer, sheet_name= 'descriptions')\n",
    "    rets.to_excel(writer, sheet_name='total returns')\n",
    "    prices.to_excel(writer, sheet_name='prices')"
   ]
  },
  {
   "cell_type": "code",
   "execution_count": 9,
   "metadata": {},
   "outputs": [
    {
     "data": {
      "text/html": [
       "<div>\n",
       "<style scoped>\n",
       "    .dataframe tbody tr th:only-of-type {\n",
       "        vertical-align: middle;\n",
       "    }\n",
       "\n",
       "    .dataframe tbody tr th {\n",
       "        vertical-align: top;\n",
       "    }\n",
       "\n",
       "    .dataframe thead th {\n",
       "        text-align: right;\n",
       "    }\n",
       "</style>\n",
       "<table border=\"1\" class=\"dataframe\">\n",
       "  <thead>\n",
       "    <tr style=\"text-align: right;\">\n",
       "      <th></th>\n",
       "      <th>quoteType</th>\n",
       "      <th>shortName</th>\n",
       "      <th>volume</th>\n",
       "      <th>totalAssets</th>\n",
       "      <th>trailingAnnualDividendYield</th>\n",
       "      <th>longBusinessSummary</th>\n",
       "    </tr>\n",
       "    <tr>\n",
       "      <th>ticker</th>\n",
       "      <th></th>\n",
       "      <th></th>\n",
       "      <th></th>\n",
       "      <th></th>\n",
       "      <th></th>\n",
       "      <th></th>\n",
       "    </tr>\n",
       "  </thead>\n",
       "  <tbody>\n",
       "    <tr>\n",
       "      <th>SPY</th>\n",
       "      <td>ETF</td>\n",
       "      <td>SPDR S&amp;P 500</td>\n",
       "      <td>43371957</td>\n",
       "      <td>498082611200</td>\n",
       "      <td>0.010885</td>\n",
       "      <td>The Trust seeks to achieve its investment obje...</td>\n",
       "    </tr>\n",
       "    <tr>\n",
       "      <th>^IRX</th>\n",
       "      <td>INDEX</td>\n",
       "      <td>13 WEEK TREASURY BILL</td>\n",
       "      <td>NaN</td>\n",
       "      <td>NaN</td>\n",
       "      <td>NaN</td>\n",
       "      <td>NaN</td>\n",
       "    </tr>\n",
       "  </tbody>\n",
       "</table>\n",
       "</div>"
      ],
      "text/plain": [
       "       quoteType              shortName    volume   totalAssets  \\\n",
       "ticker                                                            \n",
       "SPY          ETF           SPDR S&P 500  43371957  498082611200   \n",
       "^IRX       INDEX  13 WEEK TREASURY BILL       NaN           NaN   \n",
       "\n",
       "       trailingAnnualDividendYield  \\\n",
       "ticker                               \n",
       "SPY                       0.010885   \n",
       "^IRX                           NaN   \n",
       "\n",
       "                                      longBusinessSummary  \n",
       "ticker                                                     \n",
       "SPY     The Trust seeks to achieve its investment obje...  \n",
       "^IRX                                                  NaN  "
      ]
     },
     "execution_count": 9,
     "metadata": {},
     "output_type": "execute_result"
    }
   ],
   "source": [
    "info"
   ]
  }
 ],
 "metadata": {
  "hide_input": false,
  "kernelspec": {
   "display_name": "Python 3 (ipykernel)",
   "language": "python",
   "name": "python3"
  },
  "language_info": {
   "codemirror_mode": {
    "name": "ipython",
    "version": 3
   },
   "file_extension": ".py",
   "mimetype": "text/x-python",
   "name": "python",
   "nbconvert_exporter": "python",
   "pygments_lexer": "ipython3",
   "version": "3.9.6"
  }
 },
 "nbformat": 4,
 "nbformat_minor": 4
}
