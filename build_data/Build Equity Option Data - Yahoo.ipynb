{
 "cells": [
  {
   "cell_type": "code",
   "execution_count": 1,
   "id": "97699746",
   "metadata": {},
   "outputs": [],
   "source": [
    "import pandas as pd\n",
    "import numpy as np\n",
    "import datetime\n",
    "from pandas.tseries.offsets import BDay\n",
    "import warnings\n",
    "\n",
    "import matplotlib.pyplot as plt\n",
    "%matplotlib inline\n",
    "\n",
    "import sys\n",
    "sys.path.insert(0,'../cmds')\n",
    "from options import *"
   ]
  },
  {
   "cell_type": "code",
   "execution_count": 2,
   "id": "e8f75c90",
   "metadata": {},
   "outputs": [],
   "source": [
    "warnings.filterwarnings('ignore')\n",
    "\n",
    "import yfinance as yf\n",
    "import pandas_datareader.data as web\n",
    "import pandas_datareader as pdr\n",
    "\n",
    "warnings.filterwarnings('default')"
   ]
  },
  {
   "cell_type": "markdown",
   "id": "3d2c9540",
   "metadata": {},
   "source": [
    "### Parameters"
   ]
  },
  {
   "cell_type": "code",
   "execution_count": 3,
   "id": "362d89cb",
   "metadata": {},
   "outputs": [],
   "source": [
    "TICK = 'AAPL'\n",
    "BDAYS_TO_EXPRY = 10\n",
    "USESOFR = True\n",
    "DATAFILE = f'../data/option_data_{TICK}.xlsx'"
   ]
  },
  {
   "cell_type": "markdown",
   "id": "aab01b99",
   "metadata": {},
   "source": [
    "### Yahoo Option Chains"
   ]
  },
  {
   "cell_type": "code",
   "execution_count": 4,
   "id": "10fc43e3",
   "metadata": {},
   "outputs": [],
   "source": [
    "sec = yf.Ticker(TICK)\n",
    "\n",
    "px = sec.history('1d')['Close'].values[0]\n",
    "\n",
    "DATE = pd.to_datetime(datetime.date.today())\n",
    "tdate = DATE + BDay(BDAYS_TO_EXPRY)\n",
    "\n",
    "expirations_tuple = sec.options\n",
    "expirations = [datetime.datetime.strptime(date, \"%Y-%m-%d\") for date in expirations_tuple]\n",
    "expiration_selected = min(expirations, key=lambda date: abs(date - tdate))\n",
    "EXPRYDATE = expiration_selected.strftime(\"%Y-%m-%d\")\n",
    "\n",
    "expirations = [exp.strftime('%Y-%m-%d') for exp in expirations]\n",
    "\n",
    "opts = sec.option_chain(EXPRYDATE)"
   ]
  },
  {
   "cell_type": "markdown",
   "id": "f15f7dac",
   "metadata": {},
   "source": [
    "### Risk-free Rate"
   ]
  },
  {
   "cell_type": "code",
   "execution_count": 5,
   "id": "637d6302",
   "metadata": {},
   "outputs": [],
   "source": [
    "current_time = datetime.datetime.now().time()\n",
    "\n",
    "start_time = datetime.time(8, 30)\n",
    "end_time = datetime.time(15, 30)\n",
    "\n",
    "if start_time <= current_time <= end_time:\n",
    "    TRADINGHOURS = True\n",
    "else:\n",
    "    TRADINGHOURS = False\n",
    "    \n",
    "    \n",
    "# pull risk-free rate one day earlier given data release timing\n",
    "# could pull same day if not pulling before 8:30am\n",
    "\n",
    "if TRADINGHOURS:\n",
    "    offset = [1,0]\n",
    "else:\n",
    "    offset = [2,1]\n",
    "    \n",
    "START_DATE = (DATE - BDay(offset[0])).strftime('%Y-%m-%d')\n",
    "END_DATE = (DATE - BDay(offset[1])).strftime('%Y-%m-%d')"
   ]
  },
  {
   "cell_type": "code",
   "execution_count": 6,
   "id": "47e5e3b5",
   "metadata": {},
   "outputs": [],
   "source": [
    "if USESOFR:\n",
    "    TICKRF = 'SOFR'\n",
    "    sofr = pdr.DataReader(TICKRF,data_source='fred', start=START_DATE,end=END_DATE).iloc[-1].values[0]/100\n",
    "    rf = sofr\n",
    "    desc_rf = 'Tbill'\n",
    "else:\n",
    "    TICKTBILL = '^IRX'\n",
    "    tbill = yf.Ticker(TICKTBILL).history('1d',start=START_DATE,end=END_DATE)['Close'].iloc[-1]/100\n",
    "    rf = tbill\n",
    "    desc_rf = 'SOFR'"
   ]
  },
  {
   "cell_type": "markdown",
   "id": "cff89f8b",
   "metadata": {},
   "source": [
    "### Clean Up Data"
   ]
  },
  {
   "cell_type": "code",
   "execution_count": 7,
   "id": "161cf217",
   "metadata": {},
   "outputs": [],
   "source": [
    "DATE = DATE.strftime('%Y-%m-%d')\n",
    "calls, puts = clean_options(opts.calls,opts.puts)\n",
    "\n",
    "\n",
    "data = pd.DataFrame([TICK,px,rf,DATE,EXPRYDATE],index=['ticker','equity price',desc_rf,'date','option expiration'],columns=['data'])\n",
    "expirations_df = pd.DataFrame(expirations,columns=['expirations'])\n",
    "source = pd.DataFrame(index=['source','date', 'time','build','use'], data=['Yahoo',DATE,current_time,'','Markets: Options'],columns=[''])"
   ]
  },
  {
   "cell_type": "markdown",
   "id": "b8b47fa4",
   "metadata": {},
   "source": [
    "### ATM Price across expirations"
   ]
  },
  {
   "cell_type": "code",
   "execution_count": 8,
   "id": "ba203591",
   "metadata": {},
   "outputs": [],
   "source": [
    "base = 5\n",
    "pxrounded = base * math.floor(px / base)\n",
    "idCall = (calls['strike'][calls['strike']%5==0] - pxrounded).abs().idxmin()\n",
    "K = calls.loc[idCall,'strike']"
   ]
  },
  {
   "cell_type": "code",
   "execution_count": 9,
   "id": "7d0ee2a4",
   "metadata": {
    "scrolled": true
   },
   "outputs": [],
   "source": [
    "pquote = pd.DataFrame(index=expirations,columns=['call','put','call ivol','put ivol','strike'],dtype=float)\n",
    "pquote.index.name = 'expirations'\n",
    "pquote['strike'] = K\n",
    "for dt in expirations:\n",
    "    temp = sec.option_chain(dt).calls\n",
    "    pquote.loc[dt,['call','call ivol']] = temp[temp['strike']==K][['lastPrice','impliedVolatility']].values\n",
    "    \n",
    "    temp = sec.option_chain(dt).puts\n",
    "    pquote.loc[dt,['put','put ivol']] = temp[temp['strike']==K][['lastPrice','impliedVolatility']].values"
   ]
  },
  {
   "cell_type": "markdown",
   "id": "4555ca13",
   "metadata": {},
   "source": [
    "### Save Data"
   ]
  },
  {
   "cell_type": "code",
   "execution_count": 10,
   "id": "205c8035",
   "metadata": {},
   "outputs": [],
   "source": [
    "with pd.ExcelWriter(DATAFILE) as writer:  \n",
    "    data.to_excel(writer, sheet_name='market data')\n",
    "    calls.to_excel(writer, sheet_name= 'call chain')\n",
    "    puts.to_excel(writer, sheet_name= 'put chain')                \n",
    "    pquote.to_excel(writer, sheet_name = 'expirations')\n",
    "    source.to_excel(writer, sheet_name='data source')                "
   ]
  }
 ],
 "metadata": {
  "hide_input": false,
  "kernelspec": {
   "display_name": "Python 3 (ipykernel)",
   "language": "python",
   "name": "python3"
  },
  "language_info": {
   "codemirror_mode": {
    "name": "ipython",
    "version": 3
   },
   "file_extension": ".py",
   "mimetype": "text/x-python",
   "name": "python",
   "nbconvert_exporter": "python",
   "pygments_lexer": "ipython3",
   "version": "3.9.6"
  }
 },
 "nbformat": 4,
 "nbformat_minor": 5
}
