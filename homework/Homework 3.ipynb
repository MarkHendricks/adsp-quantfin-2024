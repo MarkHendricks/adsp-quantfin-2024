{
 "cells": [
  {
   "cell_type": "markdown",
   "id": "909c93e3",
   "metadata": {},
   "source": [
    "# Homework 3\n",
    "\n",
    "## ADSP 32001 - 2024\n",
    "\n",
    "### UChicago Financial Mathematics\n",
    "\n",
    "* Mark Hendricks\n",
    "* hendricks@uchicago.edu"
   ]
  },
  {
   "cell_type": "markdown",
   "id": "da71a631",
   "metadata": {},
   "source": [
    "# 1 HBS Case: Fixed-Income Arbitrage in a Financial Crisis (A): US Treasuries in November 2008\n",
    "\n",
    "## Data\n",
    "* Use the data file `treasury_ts_2015-08-15.xlsx`.\n",
    "* Examine the treasure issues with `kytreasno` of `204046` and `204047`. These are the bond and note (respectively) which mature on 2015-08-15.\n",
    "* Look at the data on 2008-11-04."
   ]
  },
  {
   "cell_type": "markdown",
   "id": "7245fc45",
   "metadata": {},
   "source": [
    "### 1.1. The situation\n",
    "\n",
    "Make a chart comparing the bonds on the following features, (as of Nov 4, 2008.)\n",
    "* coupon rate\n",
    "* bid\n",
    "* ask\n",
    "* accrued interest\n",
    "* dirty price\n",
    "* duration (quoted in years, not days, assuming 365.25 days per year.)\n",
    "* modified duration\n",
    "* YTM"
   ]
  },
  {
   "cell_type": "markdown",
   "id": "73c7c5f0",
   "metadata": {},
   "source": [
    "### 1.2. Hedge Ratio\n",
    "\n",
    "Suppose you are building a trade to go long $n_i$ bonds (`204046`) and short $n_j$ notes (`204047`).\n",
    "\n",
    "We can find an equation for $n_j$ in terms of $n_i$ such that the total holdings will have duration equal to zero. (Having zero duration also means have zero dollar duration, if helpful.)\n",
    "\n",
    "Notation:\n",
    "* $n_i$: number of bonds purchased (or sold)\n",
    "* $D_i$: duration of bond $i$\n",
    "* $D_{\\$,i}$: dollar duration of bond $i$, equal to $p_iD_i$\n",
    "\n",
    "If we want the total duration of our holdings to be zero, then we need to size the trade such that $n_i$ and $n_j$ satisfy,\n",
    "\n",
    "$$0 = n_iD_{\\$,i} + n_jD_{\\$,j}$$\n",
    "\n",
    "$$n_j = -n_i\\frac{D_{\\$,i}}{D_{\\$,j}}$$\n",
    "\n",
    "Suppose you will \n",
    "* use \\\\$1mm of your own capital (equity)\n",
    "* use \\\\$49mm of borrowed capital (debt)\n",
    "* to buy \\\\$50mm of the bond issue (`204046`).\n",
    "\n",
    "Use the hedge ratio above to short a number of notes (`204047`) to keep zero duration.\n",
    "\n",
    "Report the number of bonds and notes of your position, along with the total dollars in the short position.\n",
    "\n",
    "#### Note\n",
    "The leverage in the position would be obtained using repo.\n",
    "* Buy 50mm of bonds\n",
    "* Simultaneously repo them, meaning sell them to a counterparty for 49mm\n",
    "* Contract to repurchase them for 49mm plus interest at a future date\n",
    "* Net expenditure right now is 1mm, with 49mm borrowed."
   ]
  },
  {
   "cell_type": "markdown",
   "id": "fa84df2c",
   "metadata": {},
   "source": [
    "### 1.3. Profit Opportunity\n",
    "\n",
    "Using the concept of **modified duration**, how much profit or loss (PnL) would you expect to make for every basis point of convergence in the spread? Specifically, assume the convergence is symmetric: the bond's (`204046`) ytm goes down 0.5bp and the note (`204047`) ytm goes up 0.5bp.\n",
    "\n",
    "Describe the PnL you would expect to achieve on your position should this happen. Specify the PnL of the long position, the short position, and the net total.\n",
    "\n",
    "Suppose the spread in YTM between the two securities disappears, due to a symmetric move of roughly ~17bps in each security's YTM. What is the PnL? (This is just a linearly scaling of your prior answer for a 1bp convergence.) "
   ]
  },
  {
   "cell_type": "markdown",
   "id": "3ac4467f",
   "metadata": {},
   "source": [
    "### 1.4. Result in 2008\n",
    "\n",
    "Calculate the profit (or loss) on the position on the following two dates:\n",
    "* 2008-11-25\n",
    "* 2008-12-16\n",
    "\n",
    "To calculate the pnl on each date, simply use the prices of the securities on those dates along with your position sizes, ($n_i, n_j$). No coupon is being paid in November or December, so all you need is the \"dirty\" price on these two dates.\n",
    "\n",
    "Does the pnl make sense (approximately) given your results in 1.3 with regard to the sensitivity of pnl to moves in the YTM spread?"
   ]
  },
  {
   "cell_type": "markdown",
   "id": "46a26a15",
   "metadata": {},
   "source": [
    "### 1.5. Examining the Trade through June 2009\n",
    "\n",
    "Calculate the pnl of the trade for the following dates:\n",
    "* 2009-01-27\n",
    "* 2009-03-24\n",
    "* 2009-06-16\n",
    "\n",
    "Did the trade do well or poorly in the first six months of 2009?\n",
    "\n",
    "Calculate the YTM spreads on these dates. Does the YTM spread correspond to pnl roughly as we would expect based on the calculation in 1.3?"
   ]
  },
  {
   "cell_type": "markdown",
   "id": "616573fb",
   "metadata": {},
   "source": [
    "***"
   ]
  },
  {
   "cell_type": "markdown",
   "id": "11e4d4a7",
   "metadata": {
    "heading_collapsed": true
   },
   "source": [
    "# 2 Bond Metrics"
   ]
  },
  {
   "cell_type": "markdown",
   "id": "1b3e7066",
   "metadata": {},
   "source": [
    "Use the data in `data/select_maturities_2023-08-31.xlsx`.\n",
    "\n",
    "It gives treasury bond data for various maturities, spaced roughly six months apart.\n",
    "\n",
    "Feel free to approximate the time-to-maturity to be exactly semiannually if that is easier for the problem below."
   ]
  },
  {
   "cell_type": "markdown",
   "id": "6a426d91",
   "metadata": {
    "hidden": true
   },
   "source": [
    "### 2.1.\n",
    "\n",
    "Write a function to calculate the yield-to-maturity for each issue.\n",
    "\n",
    "You will need to use a nonlinear solver to solve for the YTM.\n",
    "\n",
    "#### Hint \n",
    "Consider using `fsolve` to solve the yield implicitly from the nonlinear equation. To that point, try\n",
    "\n",
    "`from scipy.optimize import fsolve`\n",
    "\n",
    "\n",
    "### 2.2.\n",
    "Plot the time-to-maturity against the calculated YTM.\n",
    "\n",
    "### 2.3.\n",
    "Calculate the duration and modified duration of each bond.\n",
    "\n",
    "### 2.4 Optional\n",
    "\n",
    "For the Treasury bills, calculate the **discount yields**.\n",
    "\n",
    "Identify the T-bills using `ITYPE`=4 or looking for `TCOUPRT` of 0."
   ]
  },
  {
   "cell_type": "markdown",
   "id": "3bddc901",
   "metadata": {},
   "source": [
    "***"
   ]
  }
 ],
 "metadata": {
  "hide_input": false,
  "kernelspec": {
   "display_name": "Python 3 (ipykernel)",
   "language": "python",
   "name": "python3"
  },
  "language_info": {
   "codemirror_mode": {
    "name": "ipython",
    "version": 3
   },
   "file_extension": ".py",
   "mimetype": "text/x-python",
   "name": "python",
   "nbconvert_exporter": "python",
   "pygments_lexer": "ipython3",
   "version": "3.9.6"
  },
  "toc": {
   "base_numbering": 1,
   "nav_menu": {},
   "number_sections": false,
   "sideBar": true,
   "skip_h1_title": false,
   "title_cell": "Table of Contents",
   "title_sidebar": "Contents",
   "toc_cell": false,
   "toc_position": {},
   "toc_section_display": true,
   "toc_window_display": false
  }
 },
 "nbformat": 4,
 "nbformat_minor": 5
}
