{
 "cells": [
  {
   "cell_type": "markdown",
   "id": "27407c13",
   "metadata": {},
   "source": [
    "# Homework 7\n",
    "\n",
    "## Financial Analytics\n",
    "\n",
    "### UChicago ADSP\n",
    "\n",
    "#### Spring 2024\n",
    "* Mark Hendricks\n",
    "* hendricks@uchicago.edu"
   ]
  },
  {
   "cell_type": "markdown",
   "id": "1735da62",
   "metadata": {},
   "source": [
    "# 1 HBS Case: Long Term Capital Management LP (A)"
   ]
  },
  {
   "cell_type": "markdown",
   "id": "d32dd742",
   "metadata": {},
   "source": [
    "Discuss these questions briefly, based on the info in the case. No need to quantitatively answer these questions."
   ]
  },
  {
   "cell_type": "markdown",
   "id": "22265c97",
   "metadata": {},
   "source": [
    "### 1.\n",
    "Describe LTCM’s investment strategy with regard to the following aspects: \n",
    "* Securities traded\n",
    "* Trading frequency\n",
    "* Skewness (Do they seek many small wins or a few big hits?)\n",
    "* Forecasting (What is behind their selection of trades?)\n",
    "\n",
    "### 2. \n",
    "What are LTCM’s biggest advantages over its competitors?\n",
    "\n",
    "### 3. \n",
    "The case discusses four types of funding risk facing LTCM:\n",
    "* collateral haircuts \n",
    "* repo maturity\n",
    "* equity redemption\n",
    "* loan access\n",
    "\n",
    "The case discusses specific ways in which LTCM manages each of these risks. Briefly discuss them.\n",
    "\n",
    "### 4. \n",
    "LTCM is largely in the business of selling liquidity and volatility. Describe how LTCM accounts for liquidity risk in their quantitative measurements.\n",
    "\n",
    "### 5. \n",
    "Is leverage risk currently a concern for LTCM?\n",
    "\n",
    "### 6. \n",
    "Many strategies of LTCM rely on converging spreads. LTCM feels that these are almost win/win situations because of the fact that if the spread converges, they make money. If it diverges, the trade becomes even more attractive, as convergence is still expected at a future date.\n",
    "\n",
    "What is the risk in these convergence trades?"
   ]
  },
  {
   "cell_type": "markdown",
   "id": "156128fd",
   "metadata": {},
   "source": [
    "***"
   ]
  }
 ],
 "metadata": {
  "hide_input": false,
  "kernelspec": {
   "display_name": "Python 3 (ipykernel)",
   "language": "python",
   "name": "python3"
  },
  "language_info": {
   "codemirror_mode": {
    "name": "ipython",
    "version": 3
   },
   "file_extension": ".py",
   "mimetype": "text/x-python",
   "name": "python",
   "nbconvert_exporter": "python",
   "pygments_lexer": "ipython3",
   "version": "3.9.6"
  }
 },
 "nbformat": 4,
 "nbformat_minor": 5
}
