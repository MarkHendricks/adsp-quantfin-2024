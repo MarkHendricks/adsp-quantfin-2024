{
 "cells": [
  {
   "cell_type": "markdown",
   "id": "c41c865f",
   "metadata": {},
   "source": [
    "# <span style=\"color:red\">Solutions to Homework 7<span>\n",
    "\n",
    "## Financial Analytics\n",
    "\n",
    "### UChicago ADSP\n",
    "\n",
    "#### Spring 2024\n",
    "* Mark Hendricks\n",
    "* hendricks@uchicago.edu"
   ]
  },
  {
   "cell_type": "markdown",
   "id": "ad861f5a",
   "metadata": {},
   "source": [
    "# 1 HBS Case: Long Term Capital Management LP (A)"
   ]
  },
  {
   "cell_type": "markdown",
   "id": "199b238c",
   "metadata": {},
   "source": [
    "Discuss these questions briefly, based on the info in the case. No need to quantitatively answer these questions."
   ]
  },
  {
   "cell_type": "markdown",
   "id": "f4483b65",
   "metadata": {},
   "source": [
    "### 1.\n",
    "Describe LTCM’s investment strategy with regard to the following aspects: \n",
    "* Securities traded\n",
    "* Trading frequency\n",
    "* Skewness (Do they seek many small wins or a few big hits?)\n",
    "* Forecasting (What is behind their selection of trades?)\n",
    "\n",
    "### 2. \n",
    "What are LTCM’s biggest advantages over its competitors?\n",
    "\n",
    "### 3. \n",
    "The case discusses four types of funding risk facing LTCM:\n",
    "* collateral haircuts \n",
    "* repo maturity\n",
    "* equity redemption\n",
    "* loan access\n",
    "\n",
    "The case discusses specific ways in which LTCM manages each of these risks. Briefly discuss them.\n",
    "\n",
    "### 4. \n",
    "LTCM is largely in the business of selling liquidity and volatility. Describe how LTCM accounts for liquidity risk in their quantitative measurements.\n",
    "\n",
    "### 5. \n",
    "Is leverage risk currently a concern for LTCM?\n",
    "\n",
    "### 6. \n",
    "Many strategies of LTCM rely on converging spreads. LTCM feels that these are almost win/win situations because of the fact that if the spread converges, they make money. If it diverges, the trade becomes even more attractive, as convergence is still expected at a future date.\n",
    "\n",
    "What is the risk in these convergence trades?"
   ]
  },
  {
   "cell_type": "markdown",
   "id": "c01d9cf7",
   "metadata": {},
   "source": [
    "***"
   ]
  },
  {
   "cell_type": "markdown",
   "id": "4ef5b0ba",
   "metadata": {},
   "source": [
    "# <span style=\"color:red\">Solution 1</span>"
   ]
  },
  {
   "cell_type": "markdown",
   "id": "039efc31",
   "metadata": {},
   "source": [
    "### <span style=\"color:red\">1.1</span> \n",
    "\n",
    "Securities traded:\n",
    "\n",
    "LTCM tried to trade on market mispricing and arbitrage, Relative Value and Convergence trades. They go long-short on these arbitrages. Use leverage to trade bigger principal on these small mispricings and try to hedge out their positions via their long-short trades. They primarily used derivatives, in the form of swaps to achieve these positions.\n",
    "\n",
    "LTCM was also heavily involved income and credit, and they also have sizeable positions in equities. In all these asset classes, they trade a large number of securities, across global markets.\n",
    "\n",
    "Trading frequency:\n",
    "\n",
    "LTCM's trading frequency varied according to their strategies. Their largest investment in the form of convergence trades had a long term trading horizon and frequency (weeks or months). They are not trying to arbitrage intraday movements and nor do they make long-term directional bets. \n",
    "\n",
    "Skewness: \n",
    "\n",
    "They are picking up pennies in front of a bulldozer. So, many small wins. They seek small positive returns using leverage and do not bet significantly on any specific events. Have lower skewness than SPY. However, they are susceptible to extreme market events (it was the Russian currency crisis that brought them down).\n",
    "\n",
    "Forecasing: \n",
    "\n",
    "Build models to find mispricing and the reason behind the mispricing. Then forecast their P&L on these trades. Their forecast is not better because of better mathematical model (the convergence trade/ relative value theory is not the edge), it is their knowledge of the market."
   ]
  },
  {
   "cell_type": "markdown",
   "id": "bd957c19",
   "metadata": {},
   "source": [
    "### <span style=\"color:red\">1.2</span> \n",
    "\n",
    "1. Efficient financing: Their edge was on financing and funding, along with their proprietary trading and modelling capabilities.\n",
    "2. Fund Size: They had a larger AUM, meaning they could lever at favorable rates\n",
    "3. Collatralization: Better collatralize these positions. (pay lower haircuts)\n",
    "4. Long-term Horizon: Long term commitment of capital from investors as well as availability of credit line\n",
    "5. Liquidity and Hedging: LTCM has in place many mechanisms to ensure liquidity. They also avoid taking too much default risk or explicit directional bets. "
   ]
  },
  {
   "cell_type": "markdown",
   "id": "2fc16705",
   "metadata": {},
   "source": [
    "### <span style=\"color:red\">1.3</span> \n",
    "\n",
    "Collateral haircuts:\n",
    "\n",
    "The haircuts go up in a market disruption event leading to unfavorable collateral terms for LTCM in terms of funding a spread trade. For most trades, LTCM obtains 100% financing on a fully collateralized basis. Furthermore, LTCM stress tests the haircuts across its asset classes.\n",
    "\n",
    "Repo maturity:\n",
    "\n",
    "In an adverse situation, where their credit risk goes up, they wont be able to secure these longer term repos which were favorable to their trades. LTCM goes against the norm by entering into relatively long-maturity repo. While much of it is overnight, LTCM uses contracts that typically have maturity of 6-12 months. Furthermore, LTCM manages their aggregate repo maturity.\n",
    "\n",
    "Equity redemption:\n",
    "\n",
    "If in a convergence trade, the two securities, before converging, diverge a lot, LTCM are facing redemption risk from their investors at a time where the Margin calls need them to furhter finance their strategies. Equity Redemption at a unfavorable time also leads LTCM to unwind their positions at unfavorable rates leading to further losses of capital. The firm is highly levered, so equity funding risk is especially important. LTCM restricts redemptions of equity year by year. The restriction is particularly strong in that unredeemed money is re-locked.\n",
    "\n",
    "Loan access:\n",
    "\n",
    "Loan access can be tough to come by in times of a crisis, leading to a further decline in the fund's performance. For debt funding, LTCM negotiated a revolving loan that has no Material Adverse Change clause. Thus, the availability of debt funding is not so highly correlated with fund performance. "
   ]
  },
  {
   "cell_type": "markdown",
   "id": "12842e66",
   "metadata": {},
   "source": [
    "### <span style=\"color:red\">1.4</span> \n",
    "\n",
    "LTCM required counterparties to maitain the collateral balance via a 'two-way mark to market process on a daily basis. Thus the cash flow coming in from the counterparties mark to market would fund LTCM's outflow for the mark to market call on their offsetting position.\n",
    "\n",
    "LTCM als also estimated theoretical worst case haircuts it would face in adverse market situations. Forecasting these worst case liquidity LTCM was able to better structure its financing so as not to liquidate its positions solely due to these adverse market events.\n",
    "\n",
    "LTCM attempts to account for liquidity risk quantitatively by adjusting security correlations. For short-term horizons, LTCM assumes positive correlation between all trade cat- egories. Even if their net exposure to a strategy flips sides, they still assume positive correlation to the new net position"
   ]
  },
  {
   "cell_type": "markdown",
   "id": "b5fbe328",
   "metadata": {},
   "source": [
    "### <span style=\"color:red\">1.5</span> \n",
    "\n",
    "Currently since there were no extreme market events, leverage risk is not a concern, but still a potential threat for LTCM. Given the size of their commited capital and fewer opportunites for the excess capital to enhance LTCM's return, they are considering returning some of the investments made, which would reduce the leverage.\n",
    "\n",
    "Note: the amount of \"true\" leverage is also frequently misreported. The reason being that SEC filings require the reporting of the gross notional exposure, not the net exposure! As an example, consider [this article](https://www.cnn.com/2023/08/15/investing/michael-burry-stock-market-crash/index.html). It claims that Michael Burry \"bet\" $1.6 billion on a market crash. In reality, his exposure is $1.6 billion; he achieved this by buying put options for much, much, cheaper (potentially as low as ~$10m in premiums; capping his losses at $10m)."
   ]
  },
  {
   "cell_type": "markdown",
   "id": "69baa3f6",
   "metadata": {},
   "source": [
    "### <span style=\"color:red\">1.6</span> \n",
    "\n",
    "About a year after the time of the case, the fund loses most of its value due to non-converging trades. So clearly there is some risk!\n",
    "\n",
    "Positions are subject to liquidity risk. If market liquidity dries up or the markets become segmented, the divergent spreads can persist for a long time. This indeed happens later to LTCM. The trades that get them in trouble ultimately pay off, but not before LTCM blew up. LTCM believed it can exit these convergence trades if they become too unprofitable. However, a stop-loss order is not the same as a put option. If the price jumps discontinuously through the stop-loss, then it is ineffective.\n",
    "\n",
    "Or a market may be paralyzed/illiquid when trying to execute the stop-loss. A put option does not need to worry about price impact, whereas a stop-loss does. Finally, a stop-loss ensures that an investor sells as soon as a security price hits a worst-case scenario, ensuring unfavorable market timing."
   ]
  },
  {
   "cell_type": "markdown",
   "id": "4da80b56",
   "metadata": {},
   "source": [
    "***"
   ]
  },
  {
   "cell_type": "markdown",
   "id": "98f9bd61",
   "metadata": {},
   "source": [
    "# 2. LTCM Risk Decomposition"
   ]
  },
  {
   "cell_type": "markdown",
   "id": "58bede95",
   "metadata": {},
   "source": [
    "*You were not assigned this problem, but we might discuss it in class.*"
   ]
  },
  {
   "cell_type": "code",
   "execution_count": 1,
   "id": "3df364cd",
   "metadata": {},
   "outputs": [],
   "source": [
    "import numpy as np\n",
    "import pandas as pd\n",
    "import matplotlib.pyplot as plt\n",
    "import seaborn as sns\n",
    "\n",
    "pd.set_option(\"display.precision\", 4)\n",
    "\n",
    "import sys\n",
    "sys.path.insert(0, '../cmds')\n",
    "from portfolio import *"
   ]
  },
  {
   "cell_type": "code",
   "execution_count": 2,
   "id": "bf180cd4",
   "metadata": {},
   "outputs": [
    {
     "data": {
      "text/html": [
       "<div>\n",
       "<style scoped>\n",
       "    .dataframe tbody tr th:only-of-type {\n",
       "        vertical-align: middle;\n",
       "    }\n",
       "\n",
       "    .dataframe tbody tr th {\n",
       "        vertical-align: top;\n",
       "    }\n",
       "\n",
       "    .dataframe thead th {\n",
       "        text-align: right;\n",
       "    }\n",
       "</style>\n",
       "<table border=\"1\" class=\"dataframe\">\n",
       "  <thead>\n",
       "    <tr style=\"text-align: right;\">\n",
       "      <th></th>\n",
       "      <th>AUM</th>\n",
       "      <th>Gross</th>\n",
       "      <th>Net</th>\n",
       "      <th>TRInet</th>\n",
       "    </tr>\n",
       "    <tr>\n",
       "      <th>date</th>\n",
       "      <th></th>\n",
       "      <th></th>\n",
       "      <th></th>\n",
       "      <th></th>\n",
       "    </tr>\n",
       "  </thead>\n",
       "  <tbody>\n",
       "    <tr>\n",
       "      <th>1998-03-01 00:00:00</th>\n",
       "      <td>4.7</td>\n",
       "      <td>-0.003</td>\n",
       "      <td>-0.003</td>\n",
       "      <td>2.8</td>\n",
       "    </tr>\n",
       "    <tr>\n",
       "      <th>1998-04-01 00:00:00</th>\n",
       "      <td>4.9</td>\n",
       "      <td>0.027</td>\n",
       "      <td>0.019</td>\n",
       "      <td>2.85</td>\n",
       "    </tr>\n",
       "    <tr>\n",
       "      <th>1998-05-01 00:00:00</th>\n",
       "      <td>4.5</td>\n",
       "      <td>-0.067</td>\n",
       "      <td>-0.064</td>\n",
       "      <td>2.67</td>\n",
       "    </tr>\n",
       "    <tr>\n",
       "      <th>1998-06-01 00:00:00</th>\n",
       "      <td>4.1</td>\n",
       "      <td>-0.101</td>\n",
       "      <td>-0.101</td>\n",
       "      <td>2.4</td>\n",
       "    </tr>\n",
       "    <tr>\n",
       "      <th>1998-07-01 00:00:00</th>\n",
       "      <td>4.1</td>\n",
       "      <td>0.005</td>\n",
       "      <td>0</td>\n",
       "      <td>2.4</td>\n",
       "    </tr>\n",
       "  </tbody>\n",
       "</table>\n",
       "</div>"
      ],
      "text/plain": [
       "                     AUM  Gross    Net TRInet\n",
       "date                                         \n",
       "1998-03-01 00:00:00  4.7 -0.003 -0.003    2.8\n",
       "1998-04-01 00:00:00  4.9  0.027  0.019   2.85\n",
       "1998-05-01 00:00:00  4.5 -0.067 -0.064   2.67\n",
       "1998-06-01 00:00:00  4.1 -0.101 -0.101    2.4\n",
       "1998-07-01 00:00:00  4.1  0.005      0    2.4"
      ]
     },
     "execution_count": 2,
     "metadata": {},
     "output_type": "execute_result"
    }
   ],
   "source": [
    "DATAPATH_ltcm = '../data/ltcm_exhibits_data.xlsx'\n",
    "SHEET = 'Exhibit 2'\n",
    "ltcm_raw = pd.read_excel(DATAPATH_ltcm,sheet_name=SHEET)\n",
    "#ltcm_raw.set_index(ltcm_raw.columns[0],inplace=True)\n",
    "ltcm_raw.columns = ['date','AUM','Gross','Net','TRInet']\n",
    "ltcm_raw = ltcm_raw.set_index('date')\n",
    "ltcm_raw = ltcm_raw.loc[ltcm_raw.index.dropna()]\n",
    "ltcm_raw.dropna(axis=0,how='all',inplace=True)\n",
    "ltcm_raw.tail()"
   ]
  },
  {
   "cell_type": "markdown",
   "id": "eb65c88b",
   "metadata": {},
   "source": [
    "### Timing of LTCM Data\n",
    "\n",
    "The Exhibit data is coded into Excel poorly. It is listed as monthly data, but Excel automatically converts that to the first day of the month. The data corresponds to the End-of-Month!\n",
    "\n",
    "For instance, LTCM chose to return \\$2.7bn of capital on Dec 31, 1997. The drop in AUM is coded to Dec 1, 1997 when the casewriters simply intended to code it to Dec 1997, meaning the end-of-december.\n",
    "\n",
    "Similarly, LTCM saw large drawdowns in May and June 1998, but these are coded to be May 1 and June 1, when they should be coded as the end-of-month date.\n",
    "\n",
    "Thus, we need to shift these dates to end-of-month. If we instead make the May 1 date correspond to April 30 returns, we will get incorrect correlations and regression results."
   ]
  },
  {
   "cell_type": "code",
   "execution_count": 3,
   "id": "087a2b73",
   "metadata": {},
   "outputs": [
    {
     "data": {
      "text/html": [
       "<div>\n",
       "<style scoped>\n",
       "    .dataframe tbody tr th:only-of-type {\n",
       "        vertical-align: middle;\n",
       "    }\n",
       "\n",
       "    .dataframe tbody tr th {\n",
       "        vertical-align: top;\n",
       "    }\n",
       "\n",
       "    .dataframe thead th {\n",
       "        text-align: right;\n",
       "    }\n",
       "</style>\n",
       "<table border=\"1\" class=\"dataframe\">\n",
       "  <thead>\n",
       "    <tr style=\"text-align: right;\">\n",
       "      <th></th>\n",
       "      <th>AUM</th>\n",
       "      <th>Gross</th>\n",
       "      <th>Net</th>\n",
       "      <th>TRInet</th>\n",
       "    </tr>\n",
       "    <tr>\n",
       "      <th>date</th>\n",
       "      <th></th>\n",
       "      <th></th>\n",
       "      <th></th>\n",
       "      <th></th>\n",
       "    </tr>\n",
       "  </thead>\n",
       "  <tbody>\n",
       "    <tr>\n",
       "      <th>1998-03-31</th>\n",
       "      <td>4.7</td>\n",
       "      <td>-0.003</td>\n",
       "      <td>-0.003</td>\n",
       "      <td>2.8</td>\n",
       "    </tr>\n",
       "    <tr>\n",
       "      <th>1998-04-30</th>\n",
       "      <td>4.9</td>\n",
       "      <td>0.027</td>\n",
       "      <td>0.019</td>\n",
       "      <td>2.85</td>\n",
       "    </tr>\n",
       "    <tr>\n",
       "      <th>1998-05-31</th>\n",
       "      <td>4.5</td>\n",
       "      <td>-0.067</td>\n",
       "      <td>-0.064</td>\n",
       "      <td>2.67</td>\n",
       "    </tr>\n",
       "    <tr>\n",
       "      <th>1998-06-30</th>\n",
       "      <td>4.1</td>\n",
       "      <td>-0.101</td>\n",
       "      <td>-0.101</td>\n",
       "      <td>2.4</td>\n",
       "    </tr>\n",
       "    <tr>\n",
       "      <th>1998-07-31</th>\n",
       "      <td>4.1</td>\n",
       "      <td>0.005</td>\n",
       "      <td>0</td>\n",
       "      <td>2.4</td>\n",
       "    </tr>\n",
       "  </tbody>\n",
       "</table>\n",
       "</div>"
      ],
      "text/plain": [
       "            AUM  Gross    Net TRInet\n",
       "date                                \n",
       "1998-03-31  4.7 -0.003 -0.003    2.8\n",
       "1998-04-30  4.9  0.027  0.019   2.85\n",
       "1998-05-31  4.5 -0.067 -0.064   2.67\n",
       "1998-06-30  4.1 -0.101 -0.101    2.4\n",
       "1998-07-31  4.1  0.005      0    2.4"
      ]
     },
     "execution_count": 3,
     "metadata": {},
     "output_type": "execute_result"
    }
   ],
   "source": [
    "ltcm_raw.index = pd.to_datetime(ltcm_raw.index)\n",
    "\n",
    "ltcm = ltcm_raw.resample('M').last()\n",
    "ltcm.tail()"
   ]
  },
  {
   "cell_type": "markdown",
   "id": "4a6c7ebb",
   "metadata": {},
   "source": [
    "## Optional: Add in August 1998?\n",
    "\n",
    "August 1998 is when LTCM was shocked with massive losses. These were so large that investors then pulled their money in September, to the point that a reorganization of LTCM was implemented in late September.\n",
    "\n",
    "- The return for August 1998 was roughly -45\\%\n",
    "- And SPY was also down massively in that month.\n",
    "\n",
    "\n",
    "Try setting `INCLUDE_AUGUST` to `True` to see how different the statistical results below are when this disaster month is included!\n",
    "\n",
    "## Optional: Evaluate it through December 1997\n",
    "\n",
    "- This corresponds closely to the time of the case, when they are deciding whether to return capital.\n",
    "- You will see that the returns through that time are incredible, with hardly any losses.\n",
    "- 1998 has some bad months before the crash in August."
   ]
  },
  {
   "cell_type": "code",
   "execution_count": 4,
   "id": "54d7bdb3",
   "metadata": {},
   "outputs": [
    {
     "data": {
      "text/html": [
       "<div>\n",
       "<style scoped>\n",
       "    .dataframe tbody tr th:only-of-type {\n",
       "        vertical-align: middle;\n",
       "    }\n",
       "\n",
       "    .dataframe tbody tr th {\n",
       "        vertical-align: top;\n",
       "    }\n",
       "\n",
       "    .dataframe thead th {\n",
       "        text-align: right;\n",
       "    }\n",
       "</style>\n",
       "<table border=\"1\" class=\"dataframe\">\n",
       "  <thead>\n",
       "    <tr style=\"text-align: right;\">\n",
       "      <th></th>\n",
       "      <th>AUM</th>\n",
       "      <th>Gross</th>\n",
       "      <th>Net</th>\n",
       "      <th>TRInet</th>\n",
       "    </tr>\n",
       "    <tr>\n",
       "      <th>date</th>\n",
       "      <th></th>\n",
       "      <th></th>\n",
       "      <th></th>\n",
       "      <th></th>\n",
       "    </tr>\n",
       "  </thead>\n",
       "  <tbody>\n",
       "    <tr>\n",
       "      <th>1998-04-30</th>\n",
       "      <td>4.9</td>\n",
       "      <td>0.027</td>\n",
       "      <td>0.019</td>\n",
       "      <td>2.85</td>\n",
       "    </tr>\n",
       "    <tr>\n",
       "      <th>1998-05-31</th>\n",
       "      <td>4.5</td>\n",
       "      <td>-0.067</td>\n",
       "      <td>-0.064</td>\n",
       "      <td>2.67</td>\n",
       "    </tr>\n",
       "    <tr>\n",
       "      <th>1998-06-30</th>\n",
       "      <td>4.1</td>\n",
       "      <td>-0.101</td>\n",
       "      <td>-0.101</td>\n",
       "      <td>2.4</td>\n",
       "    </tr>\n",
       "    <tr>\n",
       "      <th>1998-07-31</th>\n",
       "      <td>4.1</td>\n",
       "      <td>0.005</td>\n",
       "      <td>0</td>\n",
       "      <td>2.4</td>\n",
       "    </tr>\n",
       "    <tr>\n",
       "      <th>1998-08-31</th>\n",
       "      <td>2.25</td>\n",
       "      <td>-0.4512</td>\n",
       "      <td>-0.4512</td>\n",
       "      <td>1.3171</td>\n",
       "    </tr>\n",
       "  </tbody>\n",
       "</table>\n",
       "</div>"
      ],
      "text/plain": [
       "             AUM   Gross     Net  TRInet\n",
       "date                                    \n",
       "1998-04-30   4.9   0.027   0.019    2.85\n",
       "1998-05-31   4.5  -0.067  -0.064    2.67\n",
       "1998-06-30   4.1  -0.101  -0.101     2.4\n",
       "1998-07-31   4.1   0.005       0     2.4\n",
       "1998-08-31  2.25 -0.4512 -0.4512  1.3171"
      ]
     },
     "metadata": {},
     "output_type": "display_data"
    }
   ],
   "source": [
    "INCLUDE_AUGUST98 = True\n",
    "STOP_DEC97 = False\n",
    "\n",
    "if INCLUDE_AUGUST98:\n",
    "    DATE_JULY = pd.to_datetime('1998-07-31')\n",
    "    DATE_AUGUST = pd.to_datetime('1998-08-31')\n",
    "    LOSS = -1.85\n",
    "    \n",
    "    ltcm.loc[DATE_AUGUST,'Gross'] = LOSS/ltcm.loc[DATE_JULY,'AUM']\n",
    "    # assuming that the netting of this loss is negligible given already down YTD\n",
    "    ltcm.loc[DATE_AUGUST,'Net'] = LOSS/ltcm.loc[DATE_JULY,'AUM']\n",
    "    \n",
    "    ltcm.loc[DATE_AUGUST,'AUM'] = ltcm.loc[DATE_JULY,'AUM'] + LOSS\n",
    "    ltcm.loc[DATE_AUGUST,'TRInet'] = ltcm.loc[DATE_JULY,'TRInet'] * (1+ltcm.loc[DATE_AUGUST,'Net'])\n",
    "    display(ltcm.tail())\n",
    "\n",
    "elif STOP_DEC97:\n",
    "    ltcm = ltcm.loc[:'1997',:]"
   ]
  },
  {
   "cell_type": "markdown",
   "id": "46bfde60",
   "metadata": {},
   "source": [
    "### Market Data\n",
    "\n",
    "Get SPY and Risk-free data.\n",
    "\n",
    "Align it to the LTCM data, and combine into a dataframe of returns"
   ]
  },
  {
   "cell_type": "code",
   "execution_count": 5,
   "id": "b4a9e5a6",
   "metadata": {},
   "outputs": [],
   "source": [
    "FILEIN = '../data/ltcm_spy_data.xlsx'\n",
    "SHEET = 'total returns'\n",
    "mktrets = pd.read_excel(FILEIN,sheet_name=SHEET).set_index('date')\n",
    "mktrets.rename(columns={'^IRX':'TBILL'},inplace=True)\n",
    "\n",
    "### resample to monthly\n",
    "def cumulative_returns(r):\n",
    "    return (1 + r).prod() - 1\n",
    "\n",
    "mktrets_monthly = mktrets.resample('M').apply(cumulative_returns)\n",
    "\n",
    "rets = mktrets_monthly.merge(ltcm[['Gross','Net']],on='date',how='inner')"
   ]
  },
  {
   "cell_type": "markdown",
   "id": "a0746aed",
   "metadata": {},
   "source": [
    "## 2.1 Summary Stats\n",
    "\n",
    "The homework was not explicit in whether you should calculate these summary stats using excess returns or total returns. Given that it requires excess returns for 2.2-2.4, we convert to excess returns here."
   ]
  },
  {
   "cell_type": "code",
   "execution_count": 6,
   "id": "d407afc6",
   "metadata": {},
   "outputs": [
    {
     "data": {
      "text/html": [
       "<div>\n",
       "<style scoped>\n",
       "    .dataframe tbody tr th:only-of-type {\n",
       "        vertical-align: middle;\n",
       "    }\n",
       "\n",
       "    .dataframe tbody tr th {\n",
       "        vertical-align: top;\n",
       "    }\n",
       "\n",
       "    .dataframe thead th {\n",
       "        text-align: right;\n",
       "    }\n",
       "</style>\n",
       "<table border=\"1\" class=\"dataframe\">\n",
       "  <thead>\n",
       "    <tr style=\"text-align: right;\">\n",
       "      <th></th>\n",
       "      <th>Mean</th>\n",
       "      <th>Vol</th>\n",
       "      <th>Sharpe</th>\n",
       "      <th>Min</th>\n",
       "      <th>Max</th>\n",
       "    </tr>\n",
       "  </thead>\n",
       "  <tbody>\n",
       "    <tr>\n",
       "      <th>SPY</th>\n",
       "      <td>0.14</td>\n",
       "      <td>0.1344</td>\n",
       "      <td>1.0415</td>\n",
       "      <td>-0.1453</td>\n",
       "      <td>0.0748</td>\n",
       "    </tr>\n",
       "    <tr>\n",
       "      <th>Gross</th>\n",
       "      <td>0.1381</td>\n",
       "      <td>0.2617</td>\n",
       "      <td>0.5276</td>\n",
       "      <td>-0.4553</td>\n",
       "      <td>0.1126</td>\n",
       "    </tr>\n",
       "    <tr>\n",
       "      <th>Net</th>\n",
       "      <td>0.053</td>\n",
       "      <td>0.247</td>\n",
       "      <td>0.2145</td>\n",
       "      <td>-0.4553</td>\n",
       "      <td>0.0806</td>\n",
       "    </tr>\n",
       "  </tbody>\n",
       "</table>\n",
       "</div>"
      ],
      "text/plain": [
       "         Mean     Vol  Sharpe     Min     Max\n",
       "SPY      0.14  0.1344  1.0415 -0.1453  0.0748\n",
       "Gross  0.1381  0.2617  0.5276 -0.4553  0.1126\n",
       "Net     0.053   0.247  0.2145 -0.4553  0.0806"
      ]
     },
     "metadata": {},
     "output_type": "display_data"
    },
    {
     "data": {
      "text/html": [
       "<div>\n",
       "<style scoped>\n",
       "    .dataframe tbody tr th:only-of-type {\n",
       "        vertical-align: middle;\n",
       "    }\n",
       "\n",
       "    .dataframe tbody tr th {\n",
       "        vertical-align: top;\n",
       "    }\n",
       "\n",
       "    .dataframe thead th {\n",
       "        text-align: right;\n",
       "    }\n",
       "</style>\n",
       "<table border=\"1\" class=\"dataframe\">\n",
       "  <thead>\n",
       "    <tr style=\"text-align: right;\">\n",
       "      <th></th>\n",
       "      <th>Skewness</th>\n",
       "      <th>Kurtosis</th>\n",
       "      <th>VaR (0.05)</th>\n",
       "      <th>CVaR (0.05)</th>\n",
       "      <th>Max Drawdown</th>\n",
       "      <th>Peak</th>\n",
       "      <th>Bottom</th>\n",
       "      <th>Recover</th>\n",
       "      <th>Duration (to Recover)</th>\n",
       "    </tr>\n",
       "  </thead>\n",
       "  <tbody>\n",
       "    <tr>\n",
       "      <th>SPY</th>\n",
       "      <td>-1.3808</td>\n",
       "      <td>3.7661</td>\n",
       "      <td>-0.0486</td>\n",
       "      <td>-0.0836</td>\n",
       "      <td>-0.1605</td>\n",
       "      <td>1998-06-30</td>\n",
       "      <td>1998-08-31</td>\n",
       "      <td>None</td>\n",
       "      <td>None</td>\n",
       "    </tr>\n",
       "    <tr>\n",
       "      <th>Gross</th>\n",
       "      <td>-4.564</td>\n",
       "      <td>27.972</td>\n",
       "      <td>-0.0525</td>\n",
       "      <td>-0.2105</td>\n",
       "      <td>-0.547</td>\n",
       "      <td>1998-04-30</td>\n",
       "      <td>1998-08-31</td>\n",
       "      <td>None</td>\n",
       "      <td>None</td>\n",
       "    </tr>\n",
       "    <tr>\n",
       "      <th>Net</th>\n",
       "      <td>-5.2454</td>\n",
       "      <td>33.5525</td>\n",
       "      <td>-0.045</td>\n",
       "      <td>-0.2095</td>\n",
       "      <td>-0.5508</td>\n",
       "      <td>1997-12-31</td>\n",
       "      <td>1998-08-31</td>\n",
       "      <td>None</td>\n",
       "      <td>None</td>\n",
       "    </tr>\n",
       "  </tbody>\n",
       "</table>\n",
       "</div>"
      ],
      "text/plain": [
       "      Skewness Kurtosis VaR (0.05) CVaR (0.05) Max Drawdown       Peak  \\\n",
       "SPY    -1.3808   3.7661    -0.0486     -0.0836      -0.1605 1998-06-30   \n",
       "Gross   -4.564   27.972    -0.0525     -0.2105       -0.547 1998-04-30   \n",
       "Net    -5.2454  33.5525     -0.045     -0.2095      -0.5508 1997-12-31   \n",
       "\n",
       "          Bottom Recover Duration (to Recover)  \n",
       "SPY   1998-08-31    None                  None  \n",
       "Gross 1998-08-31    None                  None  \n",
       "Net   1998-08-31    None                  None  "
      ]
     },
     "metadata": {},
     "output_type": "display_data"
    }
   ],
   "source": [
    "retsx = rets.subtract(rets['TBILL'],axis=0).drop(columns=['TBILL'])\n",
    "display(performanceMetrics(retsx,annualization=12))\n",
    "display(tailMetrics(retsx))"
   ]
  },
  {
   "cell_type": "markdown",
   "id": "339a9bd8",
   "metadata": {},
   "source": [
    "### The summary stats\n",
    "\n",
    "The summary stats are great for the data in the exhibits, and even better if cut off at the end of 1997, at the time of the case.\n",
    "\n",
    "- Sharpe is very high relative to what we usually see.\n",
    "- Volatility is sized similarly to SPY, and minimum return is not too bad.\n",
    "\n",
    "Still, note that \n",
    "- SPY does amazing during this period, \n",
    "- so LTCM's returns while fantastic, are not an outlier relative to SPY.\n",
    "- In fact, if we include the 1998 data through July, the tail-risk statistics look worse for LTCM than for SPY.\n",
    "\n",
    "If we include the August crash,\n",
    "- All the performance looks bad relative to SPY, particularly the tail-risk.\n",
    "\n",
    "The difference between Gross and Net is not too large.\n",
    "- Obviously, the net returns are lower, but given how high LTCM returns are (especially through) 1997, the net returns still deliver a fantastic Sharpe and overall profile. Though one can note they are a bit lower than SPY."
   ]
  },
  {
   "cell_type": "markdown",
   "id": "c86a2c40",
   "metadata": {},
   "source": [
    "## 2.2 Market Regression"
   ]
  },
  {
   "cell_type": "code",
   "execution_count": 7,
   "id": "56527e74",
   "metadata": {},
   "outputs": [
    {
     "data": {
      "text/html": [
       "<style type=\"text/css\">\n",
       "</style>\n",
       "<table id=\"T_642a7\">\n",
       "  <thead>\n",
       "    <tr>\n",
       "      <th class=\"blank level0\" >&nbsp;</th>\n",
       "      <th id=\"T_642a7_level0_col0\" class=\"col_heading level0 col0\" >alpha</th>\n",
       "      <th id=\"T_642a7_level0_col1\" class=\"col_heading level0 col1\" >SPY</th>\n",
       "      <th id=\"T_642a7_level0_col2\" class=\"col_heading level0 col2\" >r-squared</th>\n",
       "      <th id=\"T_642a7_level0_col3\" class=\"col_heading level0 col3\" >Treynor Ratio</th>\n",
       "      <th id=\"T_642a7_level0_col4\" class=\"col_heading level0 col4\" >Info Ratio</th>\n",
       "    </tr>\n",
       "  </thead>\n",
       "  <tbody>\n",
       "    <tr>\n",
       "      <th id=\"T_642a7_level0_row0\" class=\"row_heading level0 row0\" >SPY</th>\n",
       "      <td id=\"T_642a7_row0_col0\" class=\"data row0 col0\" >-0.00%</td>\n",
       "      <td id=\"T_642a7_row0_col1\" class=\"data row0 col1\" >100.00%</td>\n",
       "      <td id=\"T_642a7_row0_col2\" class=\"data row0 col2\" >100.00%</td>\n",
       "      <td id=\"T_642a7_row0_col3\" class=\"data row0 col3\" >14.00%</td>\n",
       "      <td id=\"T_642a7_row0_col4\" class=\"data row0 col4\" ></td>\n",
       "    </tr>\n",
       "    <tr>\n",
       "      <th id=\"T_642a7_level0_row1\" class=\"row_heading level0 row1\" >Gross</th>\n",
       "      <td id=\"T_642a7_row1_col0\" class=\"data row1 col0\" >-1.02%</td>\n",
       "      <td id=\"T_642a7_row1_col1\" class=\"data row1 col1\" >105.92%</td>\n",
       "      <td id=\"T_642a7_row1_col2\" class=\"data row1 col2\" >29.60%</td>\n",
       "      <td id=\"T_642a7_row1_col3\" class=\"data row1 col3\" >13.04%</td>\n",
       "      <td id=\"T_642a7_row1_col4\" class=\"data row1 col4\" >-4.65%</td>\n",
       "    </tr>\n",
       "    <tr>\n",
       "      <th id=\"T_642a7_level0_row2\" class=\"row_heading level0 row2\" >Net</th>\n",
       "      <td id=\"T_642a7_row2_col0\" class=\"data row2 col0\" >-8.92%</td>\n",
       "      <td id=\"T_642a7_row2_col1\" class=\"data row2 col1\" >101.57%</td>\n",
       "      <td id=\"T_642a7_row2_col2\" class=\"data row2 col2\" >30.55%</td>\n",
       "      <td id=\"T_642a7_row2_col3\" class=\"data row2 col3\" >5.22%</td>\n",
       "      <td id=\"T_642a7_row2_col4\" class=\"data row2 col4\" >-43.35%</td>\n",
       "    </tr>\n",
       "  </tbody>\n",
       "</table>\n"
      ],
      "text/plain": [
       "<pandas.io.formats.style.Styler at 0x14f6c3c10>"
      ]
     },
     "execution_count": 7,
     "metadata": {},
     "output_type": "execute_result"
    }
   ],
   "source": [
    "tab_regstats = get_ols_metrics(retsx['SPY'],retsx,annualization=12)\n",
    "tab_regstats.style.format('{:.2%}',na_rep='')"
   ]
  },
  {
   "cell_type": "markdown",
   "id": "cb41ea61",
   "metadata": {},
   "source": [
    "### The regression stats make LTCM look even better.\n",
    "\n",
    "While the univariate stats like Sharpe Ratio were not particularly impressive relative to SPY, the regression results show that LTCM has very little correlation to SPY! Thus, these large returns are\n",
    "- nearly all alpha, not beta\n",
    "- generating a massive Information Ratio\n",
    "\n",
    "Thus, this investment looks extremely attractive as an addition to equity-oriented portfolios.\n",
    "\n",
    "### Optional: \n",
    "If August 1998 is included, the regression picks up substantial SPY correlation, making all the stats worse."
   ]
  },
  {
   "cell_type": "markdown",
   "id": "399ebc80",
   "metadata": {},
   "source": [
    "## 2.3 Quadratic Regression"
   ]
  },
  {
   "cell_type": "code",
   "execution_count": 8,
   "id": "78c4eff9",
   "metadata": {},
   "outputs": [
    {
     "data": {
      "text/html": [
       "<style type=\"text/css\">\n",
       "</style>\n",
       "<table id=\"T_cb5ed\">\n",
       "  <thead>\n",
       "    <tr>\n",
       "      <th class=\"blank level0\" >&nbsp;</th>\n",
       "      <th id=\"T_cb5ed_level0_col0\" class=\"col_heading level0 col0\" >alpha</th>\n",
       "      <th id=\"T_cb5ed_level0_col1\" class=\"col_heading level0 col1\" >SPY</th>\n",
       "      <th id=\"T_cb5ed_level0_col2\" class=\"col_heading level0 col2\" >SPY-squared</th>\n",
       "      <th id=\"T_cb5ed_level0_col3\" class=\"col_heading level0 col3\" >R-squared</th>\n",
       "    </tr>\n",
       "  </thead>\n",
       "  <tbody>\n",
       "    <tr>\n",
       "      <th id=\"T_cb5ed_level0_row0\" class=\"row_heading level0 row0\" >SPY</th>\n",
       "      <td id=\"T_cb5ed_row0_col0\" class=\"data row0 col0\" >-0.00%</td>\n",
       "      <td id=\"T_cb5ed_row0_col1\" class=\"data row0 col1\" >100.00%</td>\n",
       "      <td id=\"T_cb5ed_row0_col2\" class=\"data row0 col2\" >0.00%</td>\n",
       "      <td id=\"T_cb5ed_row0_col3\" class=\"data row0 col3\" >100.00%</td>\n",
       "    </tr>\n",
       "    <tr>\n",
       "      <th id=\"T_cb5ed_level0_row1\" class=\"row_heading level0 row1\" >Gross</th>\n",
       "      <td id=\"T_cb5ed_row1_col0\" class=\"data row1 col0\" >3.16%</td>\n",
       "      <td id=\"T_cb5ed_row1_col1\" class=\"data row1 col1\" >58.70%</td>\n",
       "      <td id=\"T_cb5ed_row1_col2\" class=\"data row1 col2\" >-1670.45%</td>\n",
       "      <td id=\"T_cb5ed_row1_col3\" class=\"data row1 col3\" >67.87%</td>\n",
       "    </tr>\n",
       "    <tr>\n",
       "      <th id=\"T_cb5ed_level0_row2\" class=\"row_heading level0 row2\" >Net</th>\n",
       "      <td id=\"T_cb5ed_row2_col0\" class=\"data row2 col0\" >2.48%</td>\n",
       "      <td id=\"T_cb5ed_row2_col1\" class=\"data row2 col1\" >54.76%</td>\n",
       "      <td id=\"T_cb5ed_row2_col2\" class=\"data row2 col2\" >-1656.23%</td>\n",
       "      <td id=\"T_cb5ed_row2_col3\" class=\"data row2 col3\" >72.77%</td>\n",
       "    </tr>\n",
       "  </tbody>\n",
       "</table>\n"
      ],
      "text/plain": [
       "<pandas.io.formats.style.Styler at 0x3265b83a0>"
      ]
     },
     "execution_count": 8,
     "metadata": {},
     "output_type": "execute_result"
    }
   ],
   "source": [
    "X = pd.concat([retsx[['SPY']],retsx[['SPY']]**2],join='inner',axis=1)\n",
    "X.columns = ['SPY','SPY-squared']\n",
    "\n",
    "table_quad = pd.DataFrame(index=retsx.columns, columns=['alpha']+list(X.columns)+['R-squared'])\n",
    "for series in retsx.columns:\n",
    "    mod = LinearRegression().fit(X,retsx[series])\n",
    "    table_quad.loc[series,'alpha'] = mod.intercept_\n",
    "    table_quad.loc[series,X.columns] = mod.coef_\n",
    "    table_quad.loc[series,'R-squared'] = mod.score(X,retsx[series])\n",
    "\n",
    "table_quad.style.format('{:.2%}')"
   ]
  },
  {
   "cell_type": "markdown",
   "id": "10f97157",
   "metadata": {},
   "source": [
    "### The Quadratic Regression\n",
    "- does not add to the R-squared to a significant degree.\n",
    "- Thus, quadratic movements of SPY are not significant in explaining LTCM variation\n",
    "- To the degree it has quadratic exposure, it is negative. This indicates LTCM underperforms particularly large SPY movements (whether on the upside or downside).\n",
    "\n",
    "### Optional\n",
    "- With August 1998 included, the regression picks up massive negative exposure to the quadratic term, due to the severe underperformance of SPY's down month in August 1998. This alone raises the R-squared to a high level."
   ]
  },
  {
   "cell_type": "markdown",
   "id": "ffd5de19",
   "metadata": {},
   "source": [
    "## 2.4 Asymmetric Regression"
   ]
  },
  {
   "cell_type": "code",
   "execution_count": 9,
   "id": "99feba62",
   "metadata": {},
   "outputs": [
    {
     "data": {
      "text/html": [
       "<style type=\"text/css\">\n",
       "</style>\n",
       "<table id=\"T_07360\">\n",
       "  <thead>\n",
       "    <tr>\n",
       "      <th class=\"blank level0\" >&nbsp;</th>\n",
       "      <th id=\"T_07360_level0_col0\" class=\"col_heading level0 col0\" >alpha</th>\n",
       "      <th id=\"T_07360_level0_col1\" class=\"col_heading level0 col1\" >SPY</th>\n",
       "      <th id=\"T_07360_level0_col2\" class=\"col_heading level0 col2\" >UP</th>\n",
       "      <th id=\"T_07360_level0_col3\" class=\"col_heading level0 col3\" >DOWN</th>\n",
       "      <th id=\"T_07360_level0_col4\" class=\"col_heading level0 col4\" >R-squared</th>\n",
       "    </tr>\n",
       "  </thead>\n",
       "  <tbody>\n",
       "    <tr>\n",
       "      <th id=\"T_07360_level0_row0\" class=\"row_heading level0 row0\" >SPY</th>\n",
       "      <td id=\"T_07360_row0_col0\" class=\"data row0 col0\" >-0.00%</td>\n",
       "      <td id=\"T_07360_row0_col1\" class=\"data row0 col1\" >100.00%</td>\n",
       "      <td id=\"T_07360_row0_col2\" class=\"data row0 col2\" >-0.00%</td>\n",
       "      <td id=\"T_07360_row0_col3\" class=\"data row0 col3\" >0.00%</td>\n",
       "      <td id=\"T_07360_row0_col4\" class=\"data row0 col4\" >100.00%</td>\n",
       "    </tr>\n",
       "    <tr>\n",
       "      <th id=\"T_07360_level0_row1\" class=\"row_heading level0 row1\" >Gross</th>\n",
       "      <td id=\"T_07360_row1_col0\" class=\"data row1 col0\" >2.78%</td>\n",
       "      <td id=\"T_07360_row1_col1\" class=\"data row1 col1\" >-8.34%</td>\n",
       "      <td id=\"T_07360_row1_col2\" class=\"data row1 col2\" >-7.12%</td>\n",
       "      <td id=\"T_07360_row1_col3\" class=\"data row1 col3\" >-387.62%</td>\n",
       "      <td id=\"T_07360_row1_col4\" class=\"data row1 col4\" >65.99%</td>\n",
       "    </tr>\n",
       "    <tr>\n",
       "      <th id=\"T_07360_level0_row2\" class=\"row_heading level0 row2\" >Net</th>\n",
       "      <td id=\"T_07360_row2_col0\" class=\"data row2 col0\" >2.12%</td>\n",
       "      <td id=\"T_07360_row2_col1\" class=\"data row2 col1\" >-19.60%</td>\n",
       "      <td id=\"T_07360_row2_col2\" class=\"data row2 col2\" >14.61%</td>\n",
       "      <td id=\"T_07360_row2_col3\" class=\"data row2 col3\" >-397.92%</td>\n",
       "      <td id=\"T_07360_row2_col4\" class=\"data row2 col4\" >71.67%</td>\n",
       "    </tr>\n",
       "  </tbody>\n",
       "</table>\n"
      ],
      "text/plain": [
       "<pandas.io.formats.style.Styler at 0x3265704f0>"
      ]
     },
     "execution_count": 9,
     "metadata": {},
     "output_type": "execute_result"
    }
   ],
   "source": [
    "STRIKE = .03\n",
    "X = retsx[['SPY']].copy()\n",
    "X['UP'] = (retsx[['SPY']]-STRIKE).clip(0)\n",
    "X['DOWN'] = (-STRIKE - retsx[['SPY']]).clip(0)\n",
    "X.tail()\n",
    "\n",
    "table_asymmetric = pd.DataFrame(index=retsx.columns, columns=['alpha']+list(X.columns)+['R-squared'])\n",
    "for series in retsx.columns:\n",
    "    mod = LinearRegression().fit(X,retsx[series])\n",
    "    table_asymmetric.loc[series,'alpha'] = mod.intercept_\n",
    "    table_asymmetric.loc[series,X.columns] = mod.coef_\n",
    "    table_asymmetric.loc[series,'R-squared'] = mod.score(X,retsx[series])\n",
    "\n",
    "table_asymmetric.style.format('{:.2%}')"
   ]
  },
  {
   "cell_type": "markdown",
   "id": "7157aecf",
   "metadata": {},
   "source": [
    "### The Asymmetric regression\n",
    "- again shows LTCM as having very little exposure to SPY, even with these nonlinear considerations. That is, the R-squared is still tiny.\n",
    "- Though the coefficients are not significant, we can interpret the SPY UP coefficient as saying LTCM is underperforming large (positive) SPY returns. This is similar to what we learned from the quadratic regression.\n",
    "- The SPY DOWN coefficient indicates LTCM overperforms large negative SPY movements. This differs from the Quadratic regression result, which could not distinguish asymmetry in the response to up and down movements.\n",
    "- Still, the number of such UP and DOWN months is small, and the effect is statistically weak.\n",
    "\n",
    "### Optional\n",
    "But if we re-do this including the optional August 1998 data, the answer changes to show substantial negative DOWN exposure, meaning LTCM underperforms in a very down month (like Aug 1998!)"
   ]
  }
 ],
 "metadata": {
  "hide_input": false,
  "kernelspec": {
   "display_name": "Python 3 (ipykernel)",
   "language": "python",
   "name": "python3"
  },
  "language_info": {
   "codemirror_mode": {
    "name": "ipython",
    "version": 3
   },
   "file_extension": ".py",
   "mimetype": "text/x-python",
   "name": "python",
   "nbconvert_exporter": "python",
   "pygments_lexer": "ipython3",
   "version": "3.9.6"
  }
 },
 "nbformat": 4,
 "nbformat_minor": 5
}
