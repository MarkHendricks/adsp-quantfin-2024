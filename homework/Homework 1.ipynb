{
 "cells": [
  {
   "cell_type": "markdown",
   "id": "1416fa23",
   "metadata": {},
   "source": [
    "# Homework 1\n",
    "\n",
    "## ADSP 32001 - 2024\n",
    "\n",
    "### UChicago Financial Mathematics\n",
    "\n",
    "* Mark Hendricks\n",
    "* hendricks@uchicago.edu"
   ]
  },
  {
   "cell_type": "markdown",
   "id": "fcaaada9",
   "metadata": {},
   "source": [
    "### Reminders\n",
    "\n",
    "* Homework is graded for a good-faith effort.\n",
    "* You are **welcome** to ask questions and exchange ideas on Canvas discussions.\n",
    "* The point of this homework is to be a learning lab, not an assessment.\n",
    "\n",
    "### Warning\n",
    "\n",
    "There will be terms and concepts raised in the case and the questions below which are new to you--that is okay! To some degree, this is a flipped classroom where the homework will apply some things we discuss and also raise new things that we will discuss in detail. Early in the course, the homework will often be raising new concepts and terms."
   ]
  },
  {
   "cell_type": "markdown",
   "id": "cb44e523",
   "metadata": {},
   "source": [
    "***"
   ]
  },
  {
   "cell_type": "markdown",
   "id": "8618c2ed",
   "metadata": {},
   "source": [
    "# 1. HBS Case: Smart Beta Exchange-Traded Funds and Factor Investing"
   ]
  },
  {
   "cell_type": "markdown",
   "id": "b75d98c1",
   "metadata": {},
   "source": [
    "*Find this case in the \"Useful Links\" module on Canvas. It is purchased for $5 through HBS Publishing.*\n",
    "\n",
    "This case is a good introduction to important pricing factors. It also gives useful introduction and context to ETFs, passive vs active investing, and so-called “smart beta” funds.\n",
    "\n",
    "Note\n",
    "* You will not be doing a write-up of the case.\n",
    "* Rather, this case is a course text; we will discuss it in class, so be sure to read it.\n",
    "* We will use it to contextualize our applied data analysis in Section 2.\n",
    "* You will consider a few conceptual questions about it in Section 1."
   ]
  },
  {
   "cell_type": "markdown",
   "id": "a42ee568",
   "metadata": {},
   "source": [
    "### 1. \n",
    "Describe how each of the factors (other than MKT) is measured.\n",
    "\n",
    "That is, each factor is a portfolio of stocks–which stocks are included in the factor portfolio?\n",
    "\n",
    "### 2.\n",
    "Is the factor portfolio... \n",
    "* long-only\n",
    "* long-short\n",
    "* value-weighted\n",
    "* equally-weighted\n",
    "\n",
    "### 3. \n",
    "What steps are taken in the factor construction to try to reduce the correlation between the factors? Why is this needed? (Would we otherwise expect high correlation?)\n",
    "\n",
    "### 4.\n",
    "What is the point of figures 1-6?\n",
    "\n",
    "### 5.\n",
    "How is a “smart beta” ETF different from a traditional ETF?\n",
    "\n",
    "### 6.\n",
    "Suppose the \"value\" factor really does have higher mean return over time. Is it possible for all investors to have exposure to the “value” factor?\n",
    "\n",
    "### 7.\n",
    "How does factor investing differ from traditional diversification?"
   ]
  },
  {
   "cell_type": "markdown",
   "id": "58456c45",
   "metadata": {},
   "source": [
    "***"
   ]
  },
  {
   "cell_type": "markdown",
   "id": "67cf29de",
   "metadata": {},
   "source": [
    "# 2. TBA"
   ]
  },
  {
   "cell_type": "markdown",
   "id": "e9164a4d",
   "metadata": {},
   "source": [
    "***"
   ]
  },
  {
   "cell_type": "markdown",
   "id": "495591bf",
   "metadata": {},
   "source": [
    "# 3. TBA"
   ]
  },
  {
   "cell_type": "markdown",
   "id": "7b160649",
   "metadata": {},
   "source": [
    " ***"
   ]
  }
 ],
 "metadata": {
  "hide_input": false,
  "kernelspec": {
   "display_name": "Python 3 (ipykernel)",
   "language": "python",
   "name": "python3"
  },
  "language_info": {
   "codemirror_mode": {
    "name": "ipython",
    "version": 3
   },
   "file_extension": ".py",
   "mimetype": "text/x-python",
   "name": "python",
   "nbconvert_exporter": "python",
   "pygments_lexer": "ipython3",
   "version": "3.9.6"
  }
 },
 "nbformat": 4,
 "nbformat_minor": 5
}
