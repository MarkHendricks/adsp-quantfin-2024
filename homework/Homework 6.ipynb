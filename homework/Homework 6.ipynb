{
 "cells": [
  {
   "cell_type": "markdown",
   "id": "975b43c3",
   "metadata": {},
   "source": [
    "# Homework 6\n",
    "\n",
    "## Financial Analytics\n",
    "\n",
    "### UChicago ADSP\n",
    "\n",
    "#### Spring 2024\n",
    "* Mark Hendricks\n",
    "* hendricks@uchicago.edu"
   ]
  },
  {
   "cell_type": "markdown",
   "id": "4fb16e85",
   "metadata": {},
   "source": [
    "## 1 Amazon's Option Chain\n",
    "\n",
    "Use the data in `data/option_data_AMZN.xlsx`.\n",
    "\n",
    "### 1.1\n",
    "\n",
    "Use the data in the sheet `market data` to get\n",
    "*  `AMZN` share price, $S$\n",
    "* the risk-free rate, $r$\n",
    "* the current date, $t$\n",
    "* the expiration date, $T$\n",
    "\n",
    "Use the following:\n",
    "* `AMZN` does not pay dividends.\n",
    "* time-to-expiration, $\\tau$, can be rounded to be exactly one month, `1/12`.\n",
    "\n",
    "Use either the `expirations` tab, using the `2024-05-31` expiration row to get prices of calls and puts struck at `170`.\n",
    "\n",
    "(Alternatively, get the call and put prices from the `call chain` and `put chain` tabs. These are for expiration `2024-05-31` and shows prices across strikes. Choose strike `170`.)\n",
    "\n",
    "Report\n",
    "* $c-p$\n",
    "* $S-K$\n",
    "* $S-Ke^{-r\\tau}$\n",
    "\n",
    "Does put-call parity hold?\n",
    "\n",
    "\n",
    "### 1.2\n",
    "Suppose that we know the option won't be exercised early. Then put-call parity compares $c-p$ to $S-Ke^{-r\\tau}$.\n",
    "\n",
    "Using this comparison, describe how you could trade the difference. Be specific.\n",
    "\n",
    "\n",
    "### 1.3\n",
    "\n",
    "Chart the strike (horizontal axis) against the implied volatility (vertical axis) as indicated by the `2024-05-31` options reported in `call chain` and `put chain`.\n",
    "\n",
    "Comment on what you observe.\n",
    "\n",
    "### 1.4\n",
    "\n",
    "Calculate the implied volatility of the `2024-05-31` calls and puts, both struck at `170`. \n",
    "\n",
    "How does this compare to the reported implied volatilities provided in the data?\n",
    "\n",
    "### 1.5\n",
    "\n",
    "For the `2024-05-31` call struck at `170`, report the following:\n",
    "* delta\n",
    "* gamma\n",
    "* theta\n",
    "\n",
    "### 1.6\n",
    "Suppose you hold options expiring `2024-05-31`...\n",
    "* 2 puts struck at `145`\n",
    "* 2 calls struck at `215`\n",
    "\n",
    "Plot the price of `AMZN` versus the final NET payoff of these options. \n",
    "* The net payoff will subtract the cost of buying the options.\n",
    "* Someone holding this position is hoping for what kind of `AMZN` movement."
   ]
  },
  {
   "cell_type": "markdown",
   "id": "bb7786e6",
   "metadata": {},
   "source": [
    "***"
   ]
  }
 ],
 "metadata": {
  "hide_input": false,
  "kernelspec": {
   "display_name": "Python 3 (ipykernel)",
   "language": "python",
   "name": "python3"
  },
  "language_info": {
   "codemirror_mode": {
    "name": "ipython",
    "version": 3
   },
   "file_extension": ".py",
   "mimetype": "text/x-python",
   "name": "python",
   "nbconvert_exporter": "python",
   "pygments_lexer": "ipython3",
   "version": "3.9.6"
  }
 },
 "nbformat": 4,
 "nbformat_minor": 5
}
