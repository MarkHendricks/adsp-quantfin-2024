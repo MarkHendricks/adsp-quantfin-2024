{
 "cells": [
  {
   "cell_type": "markdown",
   "id": "89aeba31",
   "metadata": {},
   "source": [
    "# Homework 4\n",
    "\n",
    "## Financial Analytics\n",
    "\n",
    "### UChicago ADSP\n",
    "\n",
    "#### Spring 2024\n",
    "* Mark Hendricks\n",
    "* hendricks@uchicago.edu"
   ]
  },
  {
   "cell_type": "markdown",
   "id": "8e39dde0",
   "metadata": {},
   "source": [
    "$\\newcommand{\\rUSD}{r^{\\text{US}}}$\n",
    "$\\newcommand{\\rGBP}{r^{\\text{GBP}}}$\n",
    "$\\newcommand{\\rxGBP}{\\widetilde{r}^{\\text{GBP}}}$"
   ]
  },
  {
   "cell_type": "markdown",
   "id": "60680a70",
   "metadata": {},
   "source": [
    "# Core Analysis\n",
    "\n",
    "## 1 Stack and Roll"
   ]
  },
  {
   "cell_type": "markdown",
   "id": "dadf2bbe",
   "metadata": {},
   "source": [
    "Use the data in `data/futures_data.xlsx`"
   ]
  },
  {
   "cell_type": "markdown",
   "id": "ccd18198",
   "metadata": {},
   "source": [
    "### 1.1\n",
    "\n",
    "The time-series data in `futures timeseries` has price data on 4 different crude oil contracts.\n",
    "\n",
    "Consider a **stack and roll** strategy. \n",
    "* Suppose on **January 22, 2024** an investor buys 100 contracts of oil futures, \"CLH4\", using end-of-day January 22, 2024 prices, and noting the contract size listed in the `futures contracts` tab. \n",
    "\n",
    "* On the final day of the contract's reported price, (Feb 20, 2024 in this case,) sell the contracts at the listed price. Keep track of the daily profit or loss.\n",
    "* **Roll** into the next contract, \"CLJ4\", buying in at the Feb 20, 2024 price.\n",
    "* Hold this until rolling into CLK4.\n",
    "* At each roll, buy 100 contracts.\n",
    "* Close out CLK4 on April 2, 2024.\n",
    "* There is no price data on March 29, 2024. Just ignore that date.\n",
    "\n",
    "Plot the timeseries of cumulative profit and loss.\n",
    "* Do not consider as a loss (profit) the additional capital contributed (withdrawn) at the roll.\n",
    "\n",
    "Report the mean daily profit as well as the cumulative total."
   ]
  },
  {
   "cell_type": "markdown",
   "id": "bb0e5b31",
   "metadata": {},
   "source": [
    "### 1.2\n",
    "\n",
    "From the tab `roll conventions CL`, use the series, `CL1`. \n",
    "\n",
    "Assume this is a proxy for the stack and roll strategy above.\n",
    "* scale it by the contract size (100)\n",
    "* calculate the day-over-day differences as profit (loss).\n",
    "\n",
    "Does it match your answer in 1.1? Why not?"
   ]
  },
  {
   "cell_type": "markdown",
   "id": "4cf1231f",
   "metadata": {},
   "source": [
    "***"
   ]
  },
  {
   "cell_type": "markdown",
   "id": "af32fcf0",
   "metadata": {},
   "source": [
    "# 2. Margin and Capital"
   ]
  },
  {
   "cell_type": "markdown",
   "id": "9c18a3e2",
   "metadata": {},
   "source": [
    "Reconsider the stack and roll of Problem 1, but this time keep track of the margin account. Assume that...\n",
    "* when purchasing the contracts, an initial margin of \\\\$6,600 per contract is paid into the margin account, (not the entire purchase price!)\n",
    "* if the margin account goes below \\\\$6,000 per contract, you must pay additional capital to raise the margin back to \\\\$6,000 per contract..\n",
    "* if the margin account goes above \\\\$7,200 per contract, you take out the additional capital to lower the margin back to \\\\$7,200 per contract. \n",
    "* at the roll, add in (or take out) capital such that the margin account resets to the initial margin of \\\\$6,600 per contract.\n",
    "\n",
    "*This is a conceptually simple problem, but setting it up correctly in python may be challenging. Consider starting with a spreadsheet.*"
   ]
  },
  {
   "cell_type": "markdown",
   "id": "a0b88dd9",
   "metadata": {},
   "source": [
    "### 2.1\n",
    "\n",
    "Plot the timeseries of the margin account.\n",
    "\n",
    "How many times is there a margin call to continue the contract position? (This does not include rolling contracts.)"
   ]
  },
  {
   "cell_type": "markdown",
   "id": "645f87d4",
   "metadata": {},
   "source": [
    "### 2.2\n",
    "\n",
    "Consider two measures of total return on this strategy.\n",
    "\n",
    "$$\\text{return} = \\frac{\\text{total profit}}{\\text{initial capital}}$$\n",
    "\n",
    "where we measure the \"initial capital\" as...\n",
    "* total price of the 100 contracts of \"CLH4\" as paid in 1.1\n",
    "* initial margin for the 100 contracts, as calculated in 1.3.\n",
    "\n",
    "Ignore the fact that additional capital may have been paid in on the rolls.\n",
    "\n",
    "How does the margin system change the total return?"
   ]
  },
  {
   "cell_type": "markdown",
   "id": "65df5230",
   "metadata": {},
   "source": [
    "### 2.3\n",
    "\n",
    "Reconsider the calculation of profit from Problem 1.\n",
    "\n",
    "When the contract rolls, the investor may need to pay in additional capital to keep the 100 contracts. Consider this a loss.\n",
    "\n",
    "On the other hand, if rolling into the new contract frees up capital, consider this a profift.\n",
    "\n",
    "1. How does this change the total profit (loss)?\n",
    "1. How does this change the total return defined above?\n",
    "1. Do you think this roll capital should be considered P&L (profit and loss?)"
   ]
  },
  {
   "cell_type": "markdown",
   "id": "efc92e55",
   "metadata": {},
   "source": [
    "***"
   ]
  }
 ],
 "metadata": {
  "hide_input": false,
  "kernelspec": {
   "display_name": "Python 3 (ipykernel)",
   "language": "python",
   "name": "python3"
  },
  "language_info": {
   "codemirror_mode": {
    "name": "ipython",
    "version": 3
   },
   "file_extension": ".py",
   "mimetype": "text/x-python",
   "name": "python",
   "nbconvert_exporter": "python",
   "pygments_lexer": "ipython3",
   "version": "3.9.6"
  },
  "toc": {
   "base_numbering": 1,
   "nav_menu": {},
   "number_sections": false,
   "sideBar": true,
   "skip_h1_title": false,
   "title_cell": "Table of Contents",
   "title_sidebar": "Contents",
   "toc_cell": false,
   "toc_position": {},
   "toc_section_display": true,
   "toc_window_display": false
  }
 },
 "nbformat": 4,
 "nbformat_minor": 5
}
