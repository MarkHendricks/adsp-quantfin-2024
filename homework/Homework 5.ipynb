{
 "cells": [
  {
   "cell_type": "markdown",
   "id": "b46c6621",
   "metadata": {},
   "source": [
    "# Homework 5\n",
    "\n",
    "## Financial Analytics\n",
    "\n",
    "### UChicago ADSP\n",
    "\n",
    "#### Spring 2024\n",
    "* Mark Hendricks\n",
    "* hendricks@uchicago.edu"
   ]
  },
  {
   "cell_type": "markdown",
   "id": "743eca26",
   "metadata": {},
   "source": [
    "Use the data in `data/options_chains.xlsx` regarding `TSLA` as quoted at the end of `July 19, 2023`."
   ]
  },
  {
   "cell_type": "markdown",
   "id": "9fd084d1",
   "metadata": {},
   "source": [
    "## 1 The Option Chain\n",
    "\n",
    "\n",
    "\n",
    "### 1.1\n",
    "Using\n",
    "* expiration = `Aug 18, 2023`\n",
    "\n",
    "Plot the market quoted prices of the puts and calls throughout the chain. Plot them against the strike price.\n",
    "\n",
    "### 1.2\n",
    "Make the same plot, but instead of market prices of puts and calls, plot the implied volatility of each against the strike price.\n",
    "\n",
    "What do you notice about this graph? (We will be discussing implied volatility more tomorrow. For now, just focus on the main feature of the graph.)\n",
    "\n",
    "### 1.3\n",
    "\n",
    "Suppose that we want to buy `100` units of\n",
    "* Dec 16 puts at strike of `$280`.\n",
    "* Dec 16 calls at strike of `$300`.\n",
    "\n",
    "What is the net cost to set up this position today?\n",
    "\n",
    "Make a plot of the total net profit at expiration, as a function of the future stock price. Include the cost of setting up the position in the net profit."
   ]
  },
  {
   "cell_type": "markdown",
   "id": "84f205cd",
   "metadata": {},
   "source": [
    "***"
   ]
  },
  {
   "cell_type": "markdown",
   "id": "89afe778",
   "metadata": {},
   "source": [
    "## 2 Put-Call Parity"
   ]
  },
  {
   "cell_type": "markdown",
   "id": "b628af81",
   "metadata": {},
   "source": [
    "For the analysis, focus on the options with\n",
    "* expiration = Aug 18, 2023\n",
    "* strike = `$280`\n",
    "\n",
    "For the interest rate, use SOFR.\n",
    "* The 3-month Tbill rate is provided if you want to additionally try that to see the difference.\n",
    "\n",
    "### 2.1\n",
    "\n",
    "If this were a European option, what would put-call parity suggest the price of the call should be? \n",
    "* Note that TSLA does not pay dividends.\n",
    "\n",
    "### 2.2\n",
    "Compare this to the actual price of the call.\n",
    "\n",
    "Suppose that we trust the put-call parity relationship more than the market quote of the call. What trade does this suggest? Be specific.\n",
    "\n",
    "### 2.3\n",
    "Now consider that this is an American option, so put-call parity gives an interval of prices rather than a specific price. \n",
    "\n",
    "Report this range. Is the market quote inside the interval?\n",
    "\n",
    "### 2.4\n",
    "\n",
    "Redo the problem above, but this time for the TSLA calls with\n",
    "* maturity = `Dec 15, 2023`\n",
    "* strike = `$300`"
   ]
  },
  {
   "cell_type": "markdown",
   "id": "44f3d693",
   "metadata": {},
   "source": [
    "***"
   ]
  },
  {
   "cell_type": "markdown",
   "id": "c6fd832b",
   "metadata": {},
   "source": [
    "## 3 Black-Scholes\n",
    "\n",
    "Consider the put and call options on TSLA\n",
    "* Strike = `$280`\n",
    "* Expiration = `August 18, 2023`.\n",
    "\n",
    "Though these are American options, ignore that and treat them as European.\n",
    "\n",
    "### 3.1 \n",
    "Use Black-Scholes to calculate today's value of the put and call.\n",
    "* Assume annualized volatility of `55\\%`.\n",
    "\n",
    "Graph the value of the call against the price of the stock, holding the time-to-maturity constant at today.\n",
    "\n",
    "### 3.2\n",
    "Instead of assuming a volatility and solving for the call value, do the opposite. Assume the call value is the market's quoted price. Solve for the implied volatility that makes this true.\n",
    "\n",
    "Report the calculated implied volatility.\n",
    "\n",
    "#### Hint\n",
    "For solving for the implied volatility, you may want to use\n",
    "`from scipy.optimize import fsolve`\n",
    "\n",
    "### 3.3\n",
    "Re-do the previous questions for the put options on TSLA\n",
    "* Strike = `$300`\n",
    "* Expiration = `December 15, 2023`."
   ]
  },
  {
   "cell_type": "markdown",
   "id": "5c329711",
   "metadata": {},
   "source": [
    "***"
   ]
  }
 ],
 "metadata": {
  "hide_input": false,
  "kernelspec": {
   "display_name": "Python 3 (ipykernel)",
   "language": "python",
   "name": "python3"
  },
  "language_info": {
   "codemirror_mode": {
    "name": "ipython",
    "version": 3
   },
   "file_extension": ".py",
   "mimetype": "text/x-python",
   "name": "python",
   "nbconvert_exporter": "python",
   "pygments_lexer": "ipython3",
   "version": "3.9.6"
  },
  "toc": {
   "base_numbering": 1,
   "nav_menu": {},
   "number_sections": false,
   "sideBar": true,
   "skip_h1_title": false,
   "title_cell": "Table of Contents",
   "title_sidebar": "Contents",
   "toc_cell": false,
   "toc_position": {},
   "toc_section_display": true,
   "toc_window_display": false
  }
 },
 "nbformat": 4,
 "nbformat_minor": 5
}
