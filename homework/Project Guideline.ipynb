{
 "cells": [
  {
   "cell_type": "markdown",
   "id": "869c9077",
   "metadata": {},
   "source": [
    "# Project\n",
    "\n",
    "## Financial Analytics\n",
    "\n",
    "### UChicago ADSP\n",
    "\n",
    "#### Spring 2024\n",
    "* Mark Hendricks\n",
    "* hendricks@uchicago.edu"
   ]
  },
  {
   "cell_type": "markdown",
   "id": "4b48ed05",
   "metadata": {},
   "source": [
    "## Trading a Market\n",
    "\n",
    "**Find a security or a market and analyze a trading strategy.**\n",
    "\n",
    "Think of this as a case study, not a pitch to investors.\n",
    "* Be unbiased as to whether it works.\n",
    "* You are graded for good investigation of the strategy--not whether it makes money."
   ]
  },
  {
   "cell_type": "markdown",
   "id": "ab541597",
   "metadata": {},
   "source": [
    "## Purpose\n",
    "\n",
    "Show fluency in financial analytics\n",
    "* Convey market opportunity\n",
    "* Correctly measure returns\n",
    "* Measure risk\n",
    "* Interpret the results\n",
    "\n",
    "\n",
    "Breadth\n",
    "* Statistical, over a number of years\n",
    "* A particularly interesting snapshot"
   ]
  },
  {
   "cell_type": "markdown",
   "id": "856dda5b",
   "metadata": {},
   "source": [
    "## Components\n",
    "\n",
    "* Select a market or security of interest.\n",
    "\n",
    "* Collect data.\n",
    "\n",
    "* Clean data.\n",
    "\n",
    "* Communicate the market conditions.\n",
    "\n",
    "* Formulate a coherent hypothesis.\n",
    "\n",
    "* Test the strategy with the data.\n",
    "\n",
    "* Measure the results.\n",
    "\n",
    "* Measure the risks.\n",
    "\n",
    "* Assess why it is or is not effective."
   ]
  },
  {
   "cell_type": "markdown",
   "id": "b917c7cd",
   "metadata": {},
   "source": [
    "## Examples\n",
    "\n",
    "* Long-short equity based on\n",
    "    * fundamentals\n",
    "    * statistical indicators\n",
    "    * industry\n",
    "    * style\n",
    "    \n",
    "* Events\n",
    "    * Fed announcements\n",
    "    * Earnings announcements\n",
    "    \n",
    "* Convergence trades\n",
    "    * Treasury bonds\n",
    "    \n",
    "* Carry\n",
    "    * futures\n",
    "    * yield curve\n",
    "    * FX\n",
    "    \n",
    "* Options\n",
    "    * Trading vol"
   ]
  }
 ],
 "metadata": {
  "hide_input": false,
  "kernelspec": {
   "display_name": "Python 3 (ipykernel)",
   "language": "python",
   "name": "python3"
  },
  "language_info": {
   "codemirror_mode": {
    "name": "ipython",
    "version": 3
   },
   "file_extension": ".py",
   "mimetype": "text/x-python",
   "name": "python",
   "nbconvert_exporter": "python",
   "pygments_lexer": "ipython3",
   "version": "3.9.6"
  }
 },
 "nbformat": 4,
 "nbformat_minor": 5
}
