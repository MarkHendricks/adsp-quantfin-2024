{
 "cells": [
  {
   "cell_type": "markdown",
   "id": "f5b1707c",
   "metadata": {},
   "source": [
    "# Homework 2\n",
    "\n",
    "## ADSP 32001 - 2024\n",
    "\n",
    "### UChicago Financial Mathematics\n",
    "\n",
    "* Mark Hendricks\n",
    "* hendricks@uchicago.edu"
   ]
  },
  {
   "cell_type": "markdown",
   "id": "58ea51ce",
   "metadata": {},
   "source": [
    "### Reminders\n",
    "\n",
    "* Homework is graded for a good-faith effort.\n",
    "* You are **welcome** to ask questions and exchange ideas on Canvas discussions.\n",
    "* The point of this homework is to be a learning lab, not an assessment.\n",
    "\n",
    "### Warning\n",
    "\n",
    "There will be terms and concepts raised in the case and the questions below which are new to you--that is okay! To some degree, this is a flipped classroom where the homework will apply some things we discuss and also raise new things that we will discuss in detail. Early in the course, the homework will often be raising new concepts and terms."
   ]
  },
  {
   "cell_type": "markdown",
   "id": "79aa9826",
   "metadata": {},
   "source": [
    "***"
   ]
  },
  {
   "cell_type": "markdown",
   "id": "582825bb",
   "metadata": {},
   "source": [
    "# 1. Forecasting Inflation\n",
    "\n",
    "This problem considers the predictability of inflation over various horizons. To do so, note the following:\n",
    "* $i_{t,t+h}$: Inflation is the h-period growth rate of CPI: \n",
    "\n",
    "$$i_{t,t+h} ≡ \\frac{p_{t+h}}{p_t} − 1$$\n",
    "\n",
    "* $g_{t,t+h}$: Money growth considered below is the growth rate of M2 Money supply:\n",
    "\n",
    "$$g_{t,t+h} ≡ \\frac{m_{t+h}}{m_t} − 1$$"
   ]
  },
  {
   "cell_type": "markdown",
   "id": "f252edb3",
   "metadata": {},
   "source": [
    "### Data\n",
    "* This homework uses the file, `data/money_inflation_spy_data.xlsx`.\n",
    "* Find the data in the Github repo associated with the module, (link on Canvas.)\n",
    "\n",
    "The data file contains...\n",
    "* Macroeconomic Data\n",
    "    - Core CPI price index, denoted as $p$. \n",
    "    - M2 Money Supply, denoted as $m$.\n",
    "* Financial data\n",
    "    - Returns on the S&P 500, (via the SPY ETF)\n",
    "* See the “build data” folder for the details on how the data was constructed\n",
    "\n",
    "$$\\newcommand{\\spy}{\\text{spy}}$$\n",
    "$$\\newcommand{\\hyg}{\\text{hyg}}$$"
   ]
  },
  {
   "cell_type": "markdown",
   "id": "5e0369f6",
   "metadata": {},
   "source": [
    "### 1.1. \n",
    "\n",
    "Estimate an OLS regression to see if CPI and Money are contemporaneously correlated: \n",
    "\n",
    "$$p_t = \\alpha + \\beta m_t + \\epsilon_t$$\n",
    "\n",
    "* Note that this is not a lagged regression, but rather a contemporaneous time-series regression. (We are not predicting a period ahead but rather fitting one series to the other at the same time period.)\n",
    "\n",
    "- (a) Report the estimated R-squared. \n",
    "- (b) Report the point-estimate of $\\beta$.\n",
    "\n",
    "### 1.2. \n",
    "\n",
    "This time, examine a regression of growth rates. Specifically, estimate an OLS regression to see if inflation and money growth are contemporaneously correlated:\n",
    "\n",
    "$$i_{t,t+h} = \\alpha + \\beta g_{t,t+h} + \\epsilon_{t,t+h}$$\n",
    "\n",
    "* Note that this is not a lagged regression, but rather a regular time-series regression.\n",
    "\n",
    "Answer the questions below for a one-year horizon: $h = 12$. \n",
    "- (a) Report the estimated R-squared.\n",
    "- (b) Report the point-estimate of $\\beta$.\n",
    "\n",
    "### 1.3. \n",
    "\n",
    "The result of regressing inflation on money growth is very different from regressing CPI on Money. \n",
    "\n",
    "- (a) What do you conclude? \n",
    "- (b) Does it seem that variation in money contemporaneously explains variation in inflation?\n",
    "- (c) In particular, what is wrong with one of the two regression models? Consider plotting the raw dependent and independent variable of each.\n",
    "\n",
    "### 1.4.\n",
    "\n",
    "Answer the remaining questions regarding the estimation of inflation on money growth in 1.2 above.\n",
    "\n",
    "Do the sample residuals, $e$ seem to be iid? That is,\n",
    "- (a) do they seem to be drawn from a constant variance? \n",
    "- (b) do they have serial correlation?\n",
    "\n",
    "Assess this informally by plotting the time-series of estimated sample residuals, $e$."
   ]
  },
  {
   "cell_type": "markdown",
   "id": "ae6a6043",
   "metadata": {},
   "source": [
    "## 5.\n",
    "\n",
    "\n",
    "Suppose that the residuals do not fit the classic OLS assumptions. (Technically speaking, consider that they are heteroskedastic and have serial correlation.)\n",
    "\n",
    "- (a) Report whether the estimates for $\\alpha$ or $\\beta$ are statistically significant relative to 0, for a significance level of 5%. (Check the reported p-value for each of the estimates, perhaps using stats-models OLS function.)\n",
    "- (b) Do you have concerns about the accuracy of the reported p-values?\n",
    "- (c) Do you have concerns about the estimated beta? For small samples, for large samples?\n",
    "\n",
    "## 6. \n",
    "\n",
    "- (a) Assess the residuals with the Durbin-Watson test for serial correlation. \n",
    "- (b) Formally assess heteroskedasticity of the residuals with White’s test.\n",
    "\n",
    "### Hints\n",
    "\n",
    "- (a) This is reported by default in the stats-models OLS estimation summary. A value less than 2 would indicate potential issues with serial correlation.\n",
    "- (b) See the documentation for the stats-model package.\n",
    "\n",
    "## 7. \n",
    "\n",
    "Try redoing this entire problem, but this time with a lagged, forecasting regression instead of a contemporaneous regression. Namely, replace the equation in 1.2 with,\n",
    "\n",
    "$$i_{t,t+h} = \\alpha + \\beta g_{t-h,t} + \\epsilon_{t,t+h}$$\n",
    "\n",
    "What do you think of the ability of past inflation and money growth to forecast future inflation?\n",
    "\n",
    "### Hint\n",
    "This should be easy to reform just this equation and then rerun the same code."
   ]
  },
  {
   "cell_type": "markdown",
   "id": "df57c42a",
   "metadata": {},
   "source": [
    "***"
   ]
  },
  {
   "cell_type": "markdown",
   "id": "e8a0a0d0",
   "metadata": {},
   "source": [
    "# 2. Exploring Money-Market Rates"
   ]
  },
  {
   "cell_type": "markdown",
   "id": "5c012969",
   "metadata": {},
   "source": [
    "Use the data in `data/ref_rates.xlsx` to explore several key money-market rates.\n",
    "* SOFR\n",
    "* Fed funds\n",
    "* 3-month T-bill yield\n",
    "\n",
    "\n",
    "### 2.1.\n",
    "Plot the time series.\n",
    "\n",
    "### 2.2.\n",
    "Calculate the correlation between the three rates (filtering to the dates for which they all have reported values.)\n",
    "\n",
    "Do this correlation analysis for the data in\n",
    "* levels (as provided)\n",
    "* differences (day-over-day changes)\n",
    "\n",
    "### 2.3.\n",
    "\n",
    "Estimate an autoregression for SOFR:\n",
    "\n",
    "$$r_{t} = \\alpha + \\beta\\, r_{t-1} + \\epsilon_{t}$$\n",
    "\n",
    "Report the estimated regression beta and r-squared.\n",
    "\n",
    "Comment on what this regression tells us about the nature of interest rates. \n",
    "* That is, can we forecast the next period's rate? \n",
    "* Does the series have **autocorrelation**?\n",
    "\n",
    "### 2.4.\n",
    "\n",
    "Redo `1.3.` for `SPY` returns (using HW 1 data) rather than using SOFR.\n",
    "\n",
    "Are SPY returns predictable or autocorrelated?"
   ]
  },
  {
   "cell_type": "markdown",
   "id": "bfc819f7",
   "metadata": {},
   "source": [
    "***"
   ]
  },
  {
   "cell_type": "markdown",
   "id": "fe729c94",
   "metadata": {},
   "source": [
    "# 3. Models of Volatility\n",
    "\n",
    "### **Optional**: No need to submit this, but we might discuss it."
   ]
  },
  {
   "cell_type": "markdown",
   "id": "9845c6e3",
   "metadata": {},
   "source": [
    "We will calculate a time-series of volatility estimates using a few different methods. For each, we use $\\sigma_t$ to denote our estimate of the time-$t$ return volatility, as based on data over periods through $t-1$, but not including $t$ itself. \n",
    "\n",
    "This problem uses data from `data/money_inflation_spy_data.xlsx`.\n",
    "\n",
    "Estimate the following using the SPY return series. We use a common (but biased) version of the usual variance estimator by ignoring $\\mu$ and dividing by the number of data points, rather than by the degrees of freedom. "
   ]
  },
  {
   "cell_type": "markdown",
   "id": "6475c4bf",
   "metadata": {},
   "source": [
    "### Methods"
   ]
  },
  {
   "cell_type": "markdown",
   "id": "b30740e4",
   "metadata": {},
   "source": [
    "#### Expanding Series\n",
    "$$\\begin{align*}\n",
    "\\sigma^2_{t} =& \\frac{1}{t-1}\\sum_{\\tau=1}^{t-1} r_\\tau ^ 2\n",
    "\\end{align*}$$\n",
    "\n",
    "Begin the calculation at $t=61$, so that the first estimate is based on 60 data points.\n",
    "\n",
    "#### Rolling Window\n",
    "\\begin{align*}\n",
    "\\sigma^2_{t} =& \\frac{1}{m}\\sum_{l=1}^{m} r_{t-l}^2\n",
    "\\end{align*}\n",
    "Use $m=60$, and begin the calculation at the $t=61$, (so that the calculation has a full 60 data points.) Consider using pandas method `df.rolling(60).std()`, where `df` is replaced by the name of your pandas dataframe.\n",
    "\n",
    "#### IGARCH \n",
    "(famously used in *JP Morgan's Risk Metrics*)\n",
    "$$\\begin{align*}\n",
    "\\sigma^2_{t} =& \\theta \\sigma^2_{t-1} + (1-\\theta) r_{t-1}^2\n",
    "\\end{align*}$$\n",
    "\n",
    "Rather than estimating $\\theta$, simply use $\\theta = 0.97$, and initialize with $\\sigma_1 = 0.15\\left(\\frac{1}{\\sqrt{12}}\\right)$.\n",
    "\n",
    "\n",
    "#### GARCH(1,1)\n",
    "$$\\begin{align*}\n",
    "\\sigma^2_{t} =& \\omega + \\theta \\sigma^2_{t-1} + \\gamma r_{t-1}^2\n",
    "\\end{align*}$$\n",
    "\n",
    "To estimate GARCH(1,1), try using the ARCH package in Python. The default estimation implementation is fine, (and will account for $\\mu$ and degrees of freedom.) "
   ]
  },
  {
   "cell_type": "markdown",
   "id": "20f3f46b",
   "metadata": {},
   "source": [
    "## 3.1.\n",
    "For each of these methods, plot $\\sigma_t$. (Plot the volatility, the square-root of the variance.)\n",
    "\n",
    "## 3.2.\n",
    "For each of these methods, report the estimation for October 2008, April 2020, and Jan 2024."
   ]
  },
  {
   "cell_type": "markdown",
   "id": "cbd8316d",
   "metadata": {},
   "source": [
    "***"
   ]
  }
 ],
 "metadata": {
  "hide_input": false,
  "kernelspec": {
   "display_name": "Python 3 (ipykernel)",
   "language": "python",
   "name": "python3"
  },
  "language_info": {
   "codemirror_mode": {
    "name": "ipython",
    "version": 3
   },
   "file_extension": ".py",
   "mimetype": "text/x-python",
   "name": "python",
   "nbconvert_exporter": "python",
   "pygments_lexer": "ipython3",
   "version": "3.9.6"
  }
 },
 "nbformat": 4,
 "nbformat_minor": 5
}
